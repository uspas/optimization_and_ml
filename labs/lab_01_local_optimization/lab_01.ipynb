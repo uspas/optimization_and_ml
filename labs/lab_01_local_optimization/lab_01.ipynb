{
 "cells": [
  {
   "cell_type": "markdown",
   "metadata": {
    "id": "5ly7PI1MoY25"
   },
   "source": [
    "# Lab 01 - Local Optimization\n",
    "## Tasks\n",
    "- Introduction to PyTorch - will be used throughout the course\n",
    "- Introduction to autograd\n",
    "- Implement gradient descent using autograd framework\n",
    "- Optimize a simple quadrupole triplet"
   ]
  },
  {
   "cell_type": "markdown",
   "metadata": {
    "id": "9--B6qnOoY26"
   },
   "source": [
    "## Imports"
   ]
  },
  {
   "cell_type": "code",
   "execution_count": null,
   "metadata": {
    "colab": {
     "base_uri": "https://localhost:8080/"
    },
    "executionInfo": {
     "elapsed": 130621,
     "status": "ok",
     "timestamp": 1738341160915,
     "user": {
      "displayName": "Ryan Roussel",
      "userId": "02503318963409515820"
     },
     "user_tz": 360
    },
    "id": "XMBZKzIK_jJ4",
    "outputId": "1e3f2e2d-362f-4c5c-d009-b863c02293a4"
   },
   "outputs": [],
   "source": [
    "!pip install cheetah-accelerator"
   ]
  },
  {
   "cell_type": "code",
   "execution_count": null,
   "metadata": {
    "id": "p7RywZy_oY26",
    "executionInfo": {
     "status": "ok",
     "timestamp": 1738341170028,
     "user_tz": 360,
     "elapsed": 8981,
     "user": {
      "displayName": "Ryan Roussel",
      "userId": "02503318963409515820"
     }
    }
   },
   "outputs": [],
   "source": [
    "%reset -f\n",
    "\n",
    "import torch\n",
    "import matplotlib.pyplot as plt\n",
    "import numpy as np\n",
    "import torch.nn as nn\n",
    "\n",
    "\n",
    "import os\n",
    "os.environ['KMP_DUPLICATE_LIB_OK']='True'"
   ]
  },
  {
   "cell_type": "code",
   "execution_count": null,
   "metadata": {
    "colab": {
     "base_uri": "https://localhost:8080/"
    },
    "executionInfo": {
     "elapsed": 19256,
     "status": "ok",
     "timestamp": 1738341189282,
     "user": {
      "displayName": "Ryan Roussel",
      "userId": "02503318963409515820"
     },
     "user_tz": 360
    },
    "id": "dV8B3nXj_pWL",
    "outputId": "dd5f2546-2851-4501-e079-58731e48ab2e"
   },
   "outputs": [],
   "source": [
    "from google.colab import drive\n",
    "drive.mount('/content/drive')\n",
    "\n",
    "## remember to change USPAS_ML to optimization_and_ml for actual class notebooks\n",
    "drive_directory = '/content/drive/MyDrive/USPAS_ML-master/lab_01_local_optimization/'"
   ]
  },
  {
   "cell_type": "markdown",
   "metadata": {
    "id": "FRzjkWZtoY28"
   },
   "source": [
    "## Introduction to PyTorch\n",
    "PyTorch is a machine learning library which implements autograd functionality (more on this in a bit). It will be useful for creating and training surrogate models. Many function implemented in numpy for `ndarrays` are also implemented in PyTorch with the `torch.Tensor` class. Here we show some examples of using `torch.Tensor`."
   ]
  },
  {
   "cell_type": "code",
   "execution_count": null,
   "metadata": {
    "id": "Qk-2WSDmoY28",
    "executionInfo": {
     "status": "ok",
     "timestamp": 1738341189388,
     "user_tz": 360,
     "elapsed": 108,
     "user": {
      "displayName": "Ryan Roussel",
      "userId": "02503318963409515820"
     }
    }
   },
   "outputs": [],
   "source": [
    "data = [[1, 2],[3, 4]]\n",
    "x_data = torch.tensor(data)"
   ]
  },
  {
   "cell_type": "code",
   "execution_count": null,
   "metadata": {
    "id": "P141Iq2UoY28",
    "executionInfo": {
     "status": "ok",
     "timestamp": 1738341189388,
     "user_tz": 360,
     "elapsed": 1,
     "user": {
      "displayName": "Ryan Roussel",
      "userId": "02503318963409515820"
     }
    }
   },
   "outputs": [],
   "source": [
    "np_array = np.array(data)\n",
    "x_np = torch.from_numpy(np_array)"
   ]
  },
  {
   "cell_type": "code",
   "execution_count": null,
   "metadata": {
    "colab": {
     "base_uri": "https://localhost:8080/"
    },
    "executionInfo": {
     "elapsed": 119,
     "status": "ok",
     "timestamp": 1738341189506,
     "user": {
      "displayName": "Ryan Roussel",
      "userId": "02503318963409515820"
     },
     "user_tz": 360
    },
    "id": "4-uqZq9uoY29",
    "outputId": "d72392f2-c6cf-4a60-b17a-cd980a65262e"
   },
   "outputs": [],
   "source": [
    "x_ones = torch.ones_like(x_data) # retains the properties of x_data\n",
    "print(f\"Ones Tensor: \\n {x_ones} \\n\")\n",
    "\n",
    "x_rand = torch.rand_like(x_data, dtype=torch.float) # overrides the datatype of x_data\n",
    "print(f\"Random Tensor: \\n {x_rand} \\n\")"
   ]
  },
  {
   "cell_type": "code",
   "execution_count": null,
   "metadata": {
    "colab": {
     "base_uri": "https://localhost:8080/"
    },
    "executionInfo": {
     "elapsed": 181,
     "status": "ok",
     "timestamp": 1738341189685,
     "user": {
      "displayName": "Ryan Roussel",
      "userId": "02503318963409515820"
     },
     "user_tz": 360
    },
    "id": "u_eVpFLAoY29",
    "outputId": "a2b64ddf-b5b2-482b-9a91-91f101e002f2"
   },
   "outputs": [],
   "source": [
    "shape = (2,3,)\n",
    "rand_tensor = torch.rand(shape)\n",
    "ones_tensor = torch.ones(shape)\n",
    "zeros_tensor = torch.zeros(shape)\n",
    "\n",
    "print(f\"Random Tensor: \\n {rand_tensor} \\n\")\n",
    "print(f\"Ones Tensor: \\n {ones_tensor} \\n\")\n",
    "print(f\"Zeros Tensor: \\n {zeros_tensor}\")"
   ]
  },
  {
   "cell_type": "code",
   "execution_count": null,
   "metadata": {
    "colab": {
     "base_uri": "https://localhost:8080/"
    },
    "executionInfo": {
     "elapsed": 4,
     "status": "ok",
     "timestamp": 1738341189685,
     "user": {
      "displayName": "Ryan Roussel",
      "userId": "02503318963409515820"
     },
     "user_tz": 360
    },
    "id": "RNhibZqroY2-",
    "outputId": "e3d5c258-f136-4de5-95ba-0e6e9f6abced"
   },
   "outputs": [],
   "source": [
    "tensor = torch.rand(3,4)\n",
    "\n",
    "print(f\"Shape of tensor: {tensor.shape}\")\n",
    "print(f\"Datatype of tensor: {tensor.dtype}\")\n",
    "print(f\"Device tensor is stored on: {tensor.device}\")"
   ]
  },
  {
   "cell_type": "code",
   "execution_count": null,
   "metadata": {
    "colab": {
     "base_uri": "https://localhost:8080/"
    },
    "executionInfo": {
     "elapsed": 3,
     "status": "ok",
     "timestamp": 1738341189685,
     "user": {
      "displayName": "Ryan Roussel",
      "userId": "02503318963409515820"
     },
     "user_tz": 360
    },
    "id": "FCkBbv6xoY2-",
    "outputId": "f5a6bb63-2553-4524-a2ba-0b53f8eead56"
   },
   "outputs": [],
   "source": [
    "tensor = torch.ones(4, 4)\n",
    "print('First row: ',tensor[0])\n",
    "print('First column: ', tensor[:, 0])\n",
    "print('Last column:', tensor[..., -1])\n",
    "tensor[:,1] = 0\n",
    "print(tensor)"
   ]
  },
  {
   "cell_type": "code",
   "execution_count": null,
   "metadata": {
    "colab": {
     "base_uri": "https://localhost:8080/"
    },
    "executionInfo": {
     "elapsed": 3,
     "status": "ok",
     "timestamp": 1738341189686,
     "user": {
      "displayName": "Ryan Roussel",
      "userId": "02503318963409515820"
     },
     "user_tz": 360
    },
    "id": "_Cvhd4z3oY2_",
    "outputId": "7ea0c2f6-4cc1-4e1d-87c6-0b4a3342d10e"
   },
   "outputs": [],
   "source": [
    "t1 = torch.cat([tensor, tensor, tensor], dim=1)\n",
    "print(t1)"
   ]
  },
  {
   "cell_type": "code",
   "execution_count": null,
   "metadata": {
    "colab": {
     "base_uri": "https://localhost:8080/"
    },
    "executionInfo": {
     "elapsed": 155,
     "status": "ok",
     "timestamp": 1738341189839,
     "user": {
      "displayName": "Ryan Roussel",
      "userId": "02503318963409515820"
     },
     "user_tz": 360
    },
    "id": "1RxgGjmboY2_",
    "outputId": "9b22d844-3646-404f-9919-c76cafe4fb3a"
   },
   "outputs": [],
   "source": [
    "# This computes the matrix multiplication between two tensors. y1, y2, y3 will have the same value\n",
    "y1 = tensor @ tensor.T\n",
    "y2 = tensor.matmul(tensor.T)\n",
    "\n",
    "y3 = torch.rand_like(tensor)\n",
    "torch.matmul(tensor, tensor.T, out=y3)\n",
    "\n",
    "\n",
    "# This computes the element-wise product. z1, z2, z3 will have the same value\n",
    "z1 = tensor * tensor\n",
    "z2 = tensor.mul(tensor)\n",
    "\n",
    "z3 = torch.rand_like(tensor)\n",
    "torch.mul(tensor, tensor, out=z3)"
   ]
  },
  {
   "cell_type": "code",
   "execution_count": null,
   "metadata": {
    "colab": {
     "base_uri": "https://localhost:8080/"
    },
    "executionInfo": {
     "elapsed": 9,
     "status": "ok",
     "timestamp": 1738341189839,
     "user": {
      "displayName": "Ryan Roussel",
      "userId": "02503318963409515820"
     },
     "user_tz": 360
    },
    "id": "Y2PNpvCcoY2_",
    "outputId": "b7665588-7a5d-4469-da4b-536a43147185"
   },
   "outputs": [],
   "source": [
    "# This sums all the elements of a tensor\n",
    "agg = tensor.sum()\n",
    "agg_item = agg.item()\n",
    "print(agg_item, type(agg_item))"
   ]
  },
  {
   "cell_type": "code",
   "execution_count": null,
   "metadata": {
    "colab": {
     "base_uri": "https://localhost:8080/"
    },
    "executionInfo": {
     "elapsed": 8,
     "status": "ok",
     "timestamp": 1738341189839,
     "user": {
      "displayName": "Ryan Roussel",
      "userId": "02503318963409515820"
     },
     "user_tz": 360
    },
    "id": "D-XgKCd6oY3A",
    "outputId": "55ccfbca-9889-4da6-fd3e-bf4bc5f8ef1e"
   },
   "outputs": [],
   "source": [
    "# Add a scalar to all the elements of a tensor\n",
    "print(tensor, \"\\n\")\n",
    "tensor.add_(5)\n",
    "print(tensor)\n",
    "tensor += 5\n",
    "print(tensor)"
   ]
  },
  {
   "cell_type": "markdown",
   "metadata": {
    "id": "l9PYEUJeoY3A"
   },
   "source": [
    "### A note regarding tensor shapes\n",
    "Paying attention to the shape of your tensors/numpy arrays is important, especially if you don't have a lot of experience programming. In general ML algorithms accept N-D arrays where the last index is the input dimensionality, the second to last index is the number of data samples, and any other leading dimensions are so-called \"batch dimensions\" which specify parallel (vectorized) execution or subsets (\"batches\") of data. As a result tensor shapes are often given by `(batch_dimension, number_of_samples, dimension_of_samples)`. Even if the input parameter is 1D the input shape should be `(number_of_samples, 1)`.\n",
    "\n",
    "Furthermore, it is important to remember that slicing along a single axis returns a 1D tensor/array ie. `x[:,0]` returns an tensor shape of `(n_samples,)`.\n",
    "\n",
    "Functions that will be useful for manipulating the shape of a tensor/array:\n",
    "- `.reshape()`\n",
    "- `.unsqueeze()`\n",
    "- `.squeeze()`\n",
    "- `.flatten()`\n"
   ]
  },
  {
   "cell_type": "markdown",
   "metadata": {
    "id": "rv6hTvProY3A"
   },
   "source": [
    "### GPU Integration\n",
    "To speed up many of the computations that we will do in this course we can move our data/models to a GPU (which is not available on Google Collab). This works best when doing large matrix calculations or batch optimization routines. Keep in mind the time cost associated with moving data back and forth between a CPU and a GPU, this can slow down smaller scale calculations."
   ]
  },
  {
   "cell_type": "code",
   "execution_count": null,
   "metadata": {
    "id": "cyCZwWdwoY3A",
    "colab": {
     "base_uri": "https://localhost:8080/"
    },
    "executionInfo": {
     "status": "ok",
     "timestamp": 1738342387327,
     "user_tz": 360,
     "elapsed": 116,
     "user": {
      "displayName": "Ryan Roussel",
      "userId": "02503318963409515820"
     }
    },
    "outputId": "cbcfba4d-f11d-4693-cc42-0b170fea6176"
   },
   "outputs": [],
   "source": [
    "# We move our tensor to the GPU if available\n",
    "print(torch.cuda.is_available())\n",
    "if torch.cuda.is_available():\n",
    "    tensor = tensor.to('cuda')\n"
   ]
  },
  {
   "cell_type": "code",
   "execution_count": null,
   "metadata": {
    "colab": {
     "base_uri": "https://localhost:8080/"
    },
    "executionInfo": {
     "elapsed": 7,
     "status": "ok",
     "timestamp": 1738341189839,
     "user": {
      "displayName": "Ryan Roussel",
      "userId": "02503318963409515820"
     },
     "user_tz": 360
    },
    "id": "EaepYJPOopJY",
    "outputId": "074ab19b-241b-40fa-aa3a-8b9352a918f1"
   },
   "outputs": [],
   "source": [
    "tensor.device"
   ]
  },
  {
   "cell_type": "markdown",
   "metadata": {
    "id": "8ZruE8jQoY3A"
   },
   "source": [
    "## Autograd with PyTorch\n",
    "Its hard to overstate the importance of Automatic Differentiation (commonly referred to Autograd) to the machine learning community. It forms the basis for training/optimizing surrogate models such as Gaussian Processes and Neural Networks.\n",
    "\n",
    "Autograd is a framework for doing calculations while keeping track of the derivatives associated with each calculation step. We will then be able to calculate the total derivative of say, the beam size vs. a quadrupole strength parameter. This will be used to train surrogate models with derivative based optimization methods (gradient descent and its descendants).\n",
    "\n",
    "Autograd works by creating what is known by a computational graph (an example of which is below). The graph has a set of what are known as leaf nodes (or tensors) $a,w_1,w_2,w_3,w_4$ which represent input variables that we choose. We wish to compute how changing these variables will effect the result $L$. Each of the lines on the computation graph represent a single calculation which we will need the derivate of to calculate the total derivative.\n",
    "![image.png](data:image/png;base64,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)\n",
    "\n",
    "Our calculation will involve a number of discrete steps, each which create intermediate variables seen below:\n",
    "\n",
    "$\n",
    "\\begin{align}\n",
    "    b & = w_1 * a\\\\\n",
    "    c & = w_2 * a\\\\\n",
    "    d & = w_3*b + w_4*c\\\\\n",
    "    L & = 10 -d\n",
    "\\end{align}\n",
    "$\n",
    "\n",
    "In order to calculate the total derivative of L with respect to say $w_1$ we use the chain rule\n",
    "\n",
    "$$\n",
    "\\frac{dL}{dw_1} = \\frac{\\partial L}{\\partial d}\\frac{\\partial d}{\\partial b}\\frac{\\partial b}{\\partial w_1}\n",
    "$$\n",
    "\n",
    "Using PyTorch the partial derivatives for each calculation are easily calculated for a wide variety of calculations and variable manipulations that we need for model building and programming. Furthermore, this is easily done with thousands of variables and/or manipulations at a time! Thanks PyTorch!\n",
    "\n",
    "Lets take a look at how this can be done in practice. We start with defining some variables that we will need the derivatives with respect to by specifying `requires_grad = True` during creation."
   ]
  },
  {
   "cell_type": "code",
   "execution_count": null,
   "metadata": {
    "id": "iveBNSIkoY3B",
    "executionInfo": {
     "status": "ok",
     "timestamp": 1738341189839,
     "user_tz": 360,
     "elapsed": 6,
     "user": {
      "displayName": "Ryan Roussel",
      "userId": "02503318963409515820"
     }
    }
   },
   "outputs": [],
   "source": [
    "#define variables (the chosen values here are arbitrary)\n",
    "a = torch.tensor([2.], requires_grad=True)\n",
    "w1 = torch.tensor([3.], requires_grad=True)\n",
    "w2 = torch.tensor([1.], requires_grad=True)\n",
    "w3 = torch.tensor([0.5], requires_grad=True)\n",
    "w4 = torch.tensor([-2.], requires_grad=True)\n",
    "\n",
    "#do the calculation\n",
    "b = w1*a\n",
    "c = w2*a\n",
    "d = w3*b + w4*c\n",
    "L = 10 - d"
   ]
  },
  {
   "cell_type": "markdown",
   "metadata": {
    "id": "eShWydqaoY3B"
   },
   "source": [
    "To calculate the derivatives we call `L.backward()`. After calling `backward()` the gradients are stored in the `.grad` attribute of each variable."
   ]
  },
  {
   "cell_type": "code",
   "execution_count": null,
   "metadata": {
    "colab": {
     "base_uri": "https://localhost:8080/"
    },
    "executionInfo": {
     "elapsed": 6,
     "status": "ok",
     "timestamp": 1738341189839,
     "user": {
      "displayName": "Ryan Roussel",
      "userId": "02503318963409515820"
     },
     "user_tz": 360
    },
    "id": "Eu-DPagCoY3B",
    "outputId": "d1da685b-7d7c-40c2-ed3b-a7e323537686"
   },
   "outputs": [],
   "source": [
    "L.backward()\n",
    "print(a.grad)\n",
    "print(w4.grad)"
   ]
  },
  {
   "cell_type": "markdown",
   "metadata": {
    "id": "cTJ4HBUWoY3B"
   },
   "source": [
    "Note that we are calculating the gradient of $a$ and $w_4$ evaluated at their currently set values. In other words the grad attribute gives us\n",
    "\n",
    "$$\n",
    "\\frac{dL}{da}\\Big\\rvert_{a = 2}\n",
    "$$"
   ]
  },
  {
   "cell_type": "markdown",
   "metadata": {
    "id": "o61xO485oY3B"
   },
   "source": [
    "### **Task**\n",
    "Calculate (by hand) the quantity $\\frac{dL}{dw_1}$, and check that this is consistent with the result given by `w1.grad`.\n"
   ]
  },
  {
   "cell_type": "code",
   "execution_count": null,
   "metadata": {
    "colab": {
     "base_uri": "https://localhost:8080/"
    },
    "executionInfo": {
     "elapsed": 5,
     "status": "ok",
     "timestamp": 1738341189839,
     "user": {
      "displayName": "Ryan Roussel",
      "userId": "02503318963409515820"
     },
     "user_tz": 360
    },
    "id": "9KWsn5LNoY3B",
    "outputId": "575aebf9-406f-40da-9fd6-c96e8f784fd2"
   },
   "outputs": [],
   "source": [
    "print(w1.grad) # Check that this is consistent with your analytical calculation"
   ]
  },
  {
   "cell_type": "markdown",
   "metadata": {
    "id": "OS6BhpHFoY3B"
   },
   "source": [
    "Note that, if you redo the calculation a second time, the gradient will **accumulate**:"
   ]
  },
  {
   "cell_type": "code",
   "execution_count": null,
   "metadata": {
    "colab": {
     "base_uri": "https://localhost:8080/"
    },
    "executionInfo": {
     "elapsed": 4,
     "status": "ok",
     "timestamp": 1738341189839,
     "user": {
      "displayName": "Ryan Roussel",
      "userId": "02503318963409515820"
     },
     "user_tz": 360
    },
    "id": "ZkBVI54qoY3C",
    "outputId": "b57df121-7071-4318-dcbe-f3e8ad2c4db2"
   },
   "outputs": [],
   "source": [
    "# redo the calculation a second time\n",
    "b = w1*a\n",
    "c = w2*a\n",
    "d = w3*b + w4*c\n",
    "L = 10 - d\n",
    "# call backward to calculate the gradients a second time\n",
    "L.backward()\n",
    "# print gradient\n",
    "print(w1.grad)"
   ]
  },
  {
   "cell_type": "markdown",
   "metadata": {
    "id": "-cIReYu-oY3C"
   },
   "source": [
    "If you want to avoid this, you can call `.grad.zero_()`"
   ]
  },
  {
   "cell_type": "code",
   "execution_count": null,
   "metadata": {
    "colab": {
     "base_uri": "https://localhost:8080/"
    },
    "executionInfo": {
     "elapsed": 4,
     "status": "ok",
     "timestamp": 1738341189839,
     "user": {
      "displayName": "Ryan Roussel",
      "userId": "02503318963409515820"
     },
     "user_tz": 360
    },
    "id": "2wuDFXTnoY3C",
    "outputId": "5694b114-3bd8-4599-f878-8777ecda6245"
   },
   "outputs": [],
   "source": [
    "# zero the gradient\n",
    "w1.grad.zero_()\n",
    "# redo the calculation a third time\n",
    "b = w1*a\n",
    "c = w2*a\n",
    "d = w3*b + w4*c\n",
    "L = 10 - d\n",
    "# call backward to calculate the gradients a third time\n",
    "L.backward()\n",
    "# print gradient\n",
    "print(w1.grad)"
   ]
  },
  {
   "cell_type": "markdown",
   "metadata": {
    "id": "gWM0Hx2woY3C"
   },
   "source": [
    "Note that you can also ask `pytorch` to temporarily stop tracking the gradients for certain operations:"
   ]
  },
  {
   "cell_type": "code",
   "execution_count": null,
   "metadata": {
    "id": "aCX5lcmhoY3C",
    "executionInfo": {
     "status": "ok",
     "timestamp": 1738341189839,
     "user_tz": 360,
     "elapsed": 3,
     "user": {
      "displayName": "Ryan Roussel",
      "userId": "02503318963409515820"
     }
    }
   },
   "outputs": [],
   "source": [
    "with torch.no_grad():\n",
    "    w1 = 2*w1"
   ]
  },
  {
   "cell_type": "markdown",
   "metadata": {
    "id": "kQNbP3C8oY3C"
   },
   "source": [
    "## Gradient descent\n",
    "    \n",
    "### **Task:**\n",
    "Now its your turn! Implement a gradient descent algortihm to minimize a simple test function below using autograd. Complete the implementation of the function `gradient_descent` below, to perform 100 iterations of gradient descent.\n",
    "\n",
    "- implement the gradient descent algorithm using the above-mentioned features of pytorch\n",
    "- record the values of `X0` as you go and generate a plot that shows how gradient descent travels through input space\n",
    "- given the form of `test_function`, which value do you expect `X0` to converge to?\n",
    "- redo the plot for 3 different values of the step size `alpha` [0.005, 0.1, 1.0 ]\n",
    "    "
   ]
  },
  {
   "cell_type": "code",
   "execution_count": null,
   "metadata": {
    "id": "y-Njt4WfoY3C",
    "executionInfo": {
     "status": "ok",
     "timestamp": 1738341189840,
     "user_tz": 360,
     "elapsed": 4,
     "user": {
      "displayName": "Ryan Roussel",
      "userId": "02503318963409515820"
     }
    }
   },
   "outputs": [],
   "source": [
    "def test_function(X):\n",
    "    \"\"\"\n",
    "    Function to be optimized.\n",
    "\n",
    "    Input: X, a pytorch tensor of shape (2,)\n",
    "    Output: a single scalar\n",
    "    \"\"\"\n",
    "    return (X[0] - 0.5)**2 + X[1]**2\n",
    "\n",
    "def gradient_descent(X0, function, alpha=0.1, n_iterations=100):\n",
    "    \"\"\"\n",
    "    Performs 100 iterations of gradient descent\n",
    "\n",
    "    Inputs:\n",
    "    X0: a pytorch tensor to be modified in-place by the gradient descent algorithm\n",
    "    function: a callable, that takes X0 as input\n",
    "    alpha: step size for the gradient descent algorithm\n",
    "    n_iterations: number of iterations of gradient descent\n",
    "\n",
    "    Returns:\n",
    "    history_X: array of values of X\n",
    "    history_f: array of values of f\n",
    "    \"\"\"\n",
    "    history_X = []\n",
    "    history_f = []\n",
    "    for iteration in range(n_iterations): # iterations of gradient descent\n",
    "\n",
    "\n",
    "        # Keep a copy in history (do not modify these lines)\n",
    "        history_X.append( X0.detach().numpy().copy() )\n",
    "        history_f.append( f.detach().numpy().copy() )\n",
    "\n",
    "    return np.array(history_X), np.array(history_f)"
   ]
  },
  {
   "cell_type": "code",
   "execution_count": null,
   "metadata": {
    "colab": {
     "base_uri": "https://localhost:8080/",
     "height": 487
    },
    "executionInfo": {
     "elapsed": 1783,
     "status": "ok",
     "timestamp": 1738341191716,
     "user": {
      "displayName": "Ryan Roussel",
      "userId": "02503318963409515820"
     },
     "user_tz": 360
    },
    "id": "0dQsFzunoY3D",
    "outputId": "68cc4abb-2a00-4de8-bd7a-2176c691e212"
   },
   "outputs": [],
   "source": [
    "# Test your code by executing the code below\n",
    "\n",
    "fig, ax = plt.subplots(3, 1)\n",
    "for i, alpha in enumerate([0.005, 0.1, 1.0]):\n",
    "  X0 = torch.tensor([0.9,0.9], requires_grad=True)\n",
    "\n",
    "  history_X, history_f = gradient_descent( X0, test_function, alpha, n_iterations=1000)\n",
    "\n",
    "  # Plot the trajectory of the points\n",
    "  ax[i].scatter( history_X[:,0], history_X[:,1], c=np.arange(len(history_X)))\n",
    "  ax[i].set_xlim(-1, 1)\n",
    "  ax[i].set_ylim(-1, 1)\n",
    "  ax[i].plot([0.5], [0.0], 'k*', markersize=10, label='Expected solution')\n",
    "  ax[i].legend()\n",
    "  ax[i].set_title(f\"alpha = {alpha}\")\n",
    "\n",
    "fig.tight_layout()"
   ]
  },
  {
   "cell_type": "markdown",
   "metadata": {
    "id": "DpNwyzpXoY3D"
   },
   "source": [
    "## Accelerator example\n",
    "Now we will use gradient descent to optimize the focusing strength of a single quadrupole magnet in a single dimension. This is a very simple optimization problem (which as a result does not need gradient descent to solve), but is useful as an example for optimization.\n",
    "\n",
    "To do this using gradient descent (and backwards differentiation) we will use the cheetah library (https://github.com/desy-ml/cheetah/) which contains particle tracking code written in PyTorch. We start by creating a beam with a specific set of beam parameters and then also define the beamline which we will propagate the beam through.\n"
   ]
  },
  {
   "cell_type": "code",
   "execution_count": null,
   "metadata": {
    "id": "K8NZnjgnoY3D",
    "executionInfo": {
     "status": "ok",
     "timestamp": 1738341192148,
     "user_tz": 360,
     "elapsed": 433,
     "user": {
      "displayName": "Ryan Roussel",
      "userId": "02503318963409515820"
     }
    }
   },
   "outputs": [],
   "source": [
    "from cheetah.particles import ParameterBeam\n",
    "from cheetah.accelerator import Drift, Quadrupole, Segment\n",
    "\n",
    "incoming_beam = ParameterBeam.from_twiss(\n",
    "    beta_x=torch.tensor(5.0),\n",
    "    alpha_x=torch.tensor(0.0),\n",
    "    emittance_x=torch.tensor(1e-8)\n",
    ")\n",
    "\n",
    "beamline = Segment(\n",
    "    [\n",
    "        Drift(length=torch.tensor(1.0)),\n",
    "        Quadrupole(name=\"Q1\",length=torch.tensor(0.1)),\n",
    "        Drift(length=torch.tensor(1.0))\n",
    "    ]\n",
    ")\n",
    "\n",
    "def calculate_x_beamsize(K):\n",
    "    # set beamline parameters\n",
    "    beamline.Q1.k1 = K\n",
    "\n",
    "    # track the beam\n",
    "    final_beam = beamline.track(incoming_beam)\n",
    "\n",
    "    # return the beam size in x (in mm)\n",
    "    return final_beam.sigma_x * 1e3\n"
   ]
  },
  {
   "cell_type": "code",
   "execution_count": null,
   "metadata": {
    "colab": {
     "base_uri": "https://localhost:8080/"
    },
    "executionInfo": {
     "elapsed": 3847,
     "status": "ok",
     "timestamp": 1738341195994,
     "user": {
      "displayName": "Ryan Roussel",
      "userId": "02503318963409515820"
     },
     "user_tz": 360
    },
    "id": "cZ6Frv1koY3D",
    "outputId": "494b3931-faac-4a6d-abe5-756537cc6b0e"
   },
   "outputs": [],
   "source": [
    "#example usage\n",
    "K = torch.tensor([1.0], requires_grad = True)\n",
    "print(K.requires_grad)\n",
    "size = calculate_x_beamsize(K)\n",
    "print(\"Final beamsize in x: \", size)\n",
    "size.backward()\n",
    "print(\"Gradient of the beamsize with respect to K\", K.grad)"
   ]
  },
  {
   "cell_type": "markdown",
   "metadata": {
    "collapsed": false,
    "id": "LdJFyfdBoY3E"
   },
   "source": [
    "### Solve the optimization problem"
   ]
  },
  {
   "cell_type": "code",
   "execution_count": null,
   "metadata": {
    "colab": {
     "base_uri": "https://localhost:8080/",
     "height": 450
    },
    "executionInfo": {
     "elapsed": 1377,
     "status": "ok",
     "timestamp": 1738341197369,
     "user": {
      "displayName": "Ryan Roussel",
      "userId": "02503318963409515820"
     },
     "user_tz": 360
    },
    "id": "juPo0CGhoY3E",
    "outputId": "ef65c805-aa60-4e16-8603-4cb056116377"
   },
   "outputs": [],
   "source": [
    "X0 = torch.tensor([1.0], requires_grad=True)\n",
    "alpha = 10.0\n",
    "\n",
    "history_X, history_f = gradient_descent(X0, calculate_x_beamsize, alpha)\n",
    "\n",
    "# Plot the trajectory of the points\n",
    "fig, ax = plt.subplots()\n",
    "line1, = ax.plot(history_X[:, 0], label=\"x\", color=\"C0\")\n",
    "axb = ax.twinx()\n",
    "line2, = axb.plot(history_f[:, 0], label=\"f\", color=\"C1\")\n",
    "lines = [line1, line2]\n",
    "labels = [line.get_label() for line in lines]\n",
    "ax.legend(lines, labels,loc=\"center right\")\n",
    "ax.set_xlabel(\"iterations\")\n",
    "ax.set_ylabel(\"Q1.k1 (1/m^2)\")\n",
    "axb.set_ylabel(\"RMS_X (mm)\");"
   ]
  },
  {
   "cell_type": "markdown",
   "metadata": {
    "id": "m2pydL3xoY3E"
   },
   "source": [
    "### Optimize a quadrupole triplet using gradient descent\n",
    "\n",
    "### **Task:**\n",
    "Use gradient descent to optimize the quadrupole strengths of a quadrupole triplet to minimize the total beamsize defined here as ($\\sqrt{\\sigma_x^2 + \\sigma_y^2}$) in mm.  Plot the quadrupole strengths and objective function value as a function of iteration number.\n"
   ]
  },
  {
   "cell_type": "code",
   "execution_count": null,
   "metadata": {
    "colab": {
     "base_uri": "https://localhost:8080/",
     "height": 449
    },
    "executionInfo": {
     "elapsed": 10576,
     "status": "ok",
     "timestamp": 1738341207943,
     "user": {
      "displayName": "Ryan Roussel",
      "userId": "02503318963409515820"
     },
     "user_tz": 360
    },
    "id": "CKA53aWHoY3J",
    "outputId": "6b878908-f825-4537-fb51-04b75041f8b2"
   },
   "outputs": [],
   "source": [
    "from cheetah.particles import ParameterBeam\n",
    "from cheetah.accelerator import Drift, Quadrupole, Segment\n",
    "\n",
    "incoming_beam = ParameterBeam.from_twiss(\n",
    "    beta_x=torch.tensor(5.0),\n",
    "    alpha_x=torch.tensor(0.0),\n",
    "    emittance_x=torch.tensor(1e-8)\n",
    ")\n",
    "\n",
    "beamline = Segment(\n",
    "    [\n",
    "        Drift(length=torch.tensor(1.0)),\n",
    "        Quadrupole(name=\"Q1\",length=torch.tensor(0.1)),\n",
    "        Drift(length=torch.tensor(1.0)),\n",
    "        Quadrupole(name=\"Q2\",length=torch.tensor(0.1)),\n",
    "        Drift(length=torch.tensor(1.0)),\n",
    "        Quadrupole(name=\"Q3\",length=torch.tensor(0.1)),\n",
    "        Drift(length=torch.tensor(1.0))\n",
    "    ]\n",
    ")\n",
    "\n",
    "def calculate_beamsize(K):\n",
    "    pass\n"
   ]
  },
  {
   "cell_type": "markdown",
   "metadata": {
    "collapsed": false,
    "id": "masVdknfoY3K"
   },
   "source": [
    "## Regression\n",
    "We now demonstrate how to fit a linear model to data using gradient descent and backwards differentiation. This is complete overkill for such a simple model, but it demonstrates how we will fit more complex models in the future."
   ]
  },
  {
   "cell_type": "code",
   "execution_count": null,
   "metadata": {
    "id": "nN7L3jvhoY3K",
    "executionInfo": {
     "status": "ok",
     "timestamp": 1738341258971,
     "user_tz": 360,
     "elapsed": 2,
     "user": {
      "displayName": "Ryan Roussel",
      "userId": "02503318963409515820"
     }
    }
   },
   "outputs": [],
   "source": [
    "# Create dataset\n",
    "torch.manual_seed(42)\n",
    "X = torch.rand(100, 1) * 10  # Features (100 samples)\n",
    "y = 3 * X + 7 + torch.randn(100, 1) * 2  # Targets with noise\n"
   ]
  },
  {
   "cell_type": "code",
   "execution_count": null,
   "metadata": {
    "id": "YnR09vSroY3L",
    "executionInfo": {
     "status": "ok",
     "timestamp": 1738341258971,
     "user_tz": 360,
     "elapsed": 2,
     "user": {
      "displayName": "Ryan Roussel",
      "userId": "02503318963409515820"
     }
    }
   },
   "outputs": [],
   "source": [
    "# define a linear model\n",
    "class LinearRegressionModel(nn.Module):\n",
    "    def __init__(self):\n",
    "        super(LinearRegressionModel, self).__init__()\n",
    "        self.m = nn.Parameter(torch.tensor(1.0))\n",
    "        self.b = nn.Parameter(torch.tensor(0.0))\n",
    "\n",
    "    def forward(self, x):\n",
    "        return self.m * x + self.b\n"
   ]
  },
  {
   "cell_type": "code",
   "execution_count": null,
   "metadata": {
    "id": "L3gdRE5loY3L",
    "executionInfo": {
     "status": "ok",
     "timestamp": 1738341262110,
     "user_tz": 360,
     "elapsed": 3141,
     "user": {
      "displayName": "Ryan Roussel",
      "userId": "02503318963409515820"
     }
    }
   },
   "outputs": [],
   "source": [
    "# create model object and necessary training components\n",
    "model = LinearRegressionModel()\n",
    "criterion = nn.MSELoss()  # Mean squared error loss\n",
    "optimizer = torch.optim.Adam(model.parameters(), lr=0.01)  # gradient descent\n"
   ]
  },
  {
   "cell_type": "code",
   "execution_count": null,
   "metadata": {
    "colab": {
     "base_uri": "https://localhost:8080/"
    },
    "executionInfo": {
     "elapsed": 1189,
     "status": "ok",
     "timestamp": 1738341263297,
     "user": {
      "displayName": "Ryan Roussel",
      "userId": "02503318963409515820"
     },
     "user_tz": 360
    },
    "id": "gRxjGl86oY3L",
    "outputId": "f95d8d2f-c328-4672-d6f6-ecbf6b55da85"
   },
   "outputs": [],
   "source": [
    "# Training loop\n",
    "epochs = 2000\n",
    "for epoch in range(epochs):\n",
    "    # Forward pass\n",
    "    y_pred = model(X)\n",
    "    loss = criterion(y_pred, y)\n",
    "\n",
    "    # Backward pass\n",
    "    optimizer.zero_grad()\n",
    "    loss.backward()\n",
    "    optimizer.step()\n",
    "\n",
    "    # Print loss every 100 epochs\n",
    "    if (epoch + 1) % 100 == 0:\n",
    "        print(f\"Epoch {epoch+1}/{epochs}, Loss: {loss.item():.4f}\")\n"
   ]
  },
  {
   "cell_type": "code",
   "execution_count": null,
   "metadata": {
    "colab": {
     "base_uri": "https://localhost:8080/",
     "height": 430
    },
    "executionInfo": {
     "elapsed": 193,
     "status": "ok",
     "timestamp": 1738341263489,
     "user": {
      "displayName": "Ryan Roussel",
      "userId": "02503318963409515820"
     },
     "user_tz": 360
    },
    "id": "g3HhnNDXoY3L",
    "outputId": "545f6f4e-a378-4360-a094-268108234f95"
   },
   "outputs": [],
   "source": [
    "# Plot data and model\n",
    "predicted = model(X).detach()  # Detach from computation graph for plotting\n",
    "\n",
    "plt.scatter(X, y, label='Original Data')\n",
    "plt.plot(X, predicted, color='red', label='Fitted Line')\n",
    "plt.legend()\n",
    "plt.show()\n"
   ]
  },
  {
   "cell_type": "markdown",
   "metadata": {
    "collapsed": false,
    "id": "YoZbf5mUoY3L"
   },
   "source": [
    "### **Task:**\n",
    "Now fit the data imported below using a polynomial function instead of a linear function.\n"
   ]
  },
  {
   "cell_type": "code",
   "execution_count": null,
   "metadata": {
    "colab": {
     "base_uri": "https://localhost:8080/",
     "height": 430
    },
    "executionInfo": {
     "elapsed": 616,
     "status": "ok",
     "timestamp": 1738341264103,
     "user": {
      "displayName": "Ryan Roussel",
      "userId": "02503318963409515820"
     },
     "user_tz": 360
    },
    "id": "ZJX9-lv2oY3L",
    "outputId": "35287c42-bf9d-4cb4-b69d-c67f393db2d1"
   },
   "outputs": [],
   "source": [
    "# Load dataset\n",
    "\n",
    "data = torch.tensor(np.load(drive_directory + 'data.npy'))\n",
    "\n",
    "plt.scatter(data[:,0], data[:,1], label='Original Data')\n",
    "#plt.plot(X, predicted, color='red', label='Fitted Line')\n",
    "plt.legend()\n",
    "plt.show()"
   ]
  },
  {
   "cell_type": "code",
   "execution_count": null,
   "metadata": {
    "id": "2bMeGK2rp4qM",
    "executionInfo": {
     "status": "ok",
     "timestamp": 1738341264103,
     "user_tz": 360,
     "elapsed": 2,
     "user": {
      "displayName": "Ryan Roussel",
      "userId": "02503318963409515820"
     }
    }
   },
   "outputs": [],
   "source": []
  },
  {
   "cell_type": "code",
   "execution_count": null,
   "metadata": {
    "id": "A7yUc-zqiQln",
    "executionInfo": {
     "status": "ok",
     "timestamp": 1738341264103,
     "user_tz": 360,
     "elapsed": 1,
     "user": {
      "displayName": "Ryan Roussel",
      "userId": "02503318963409515820"
     }
    }
   },
   "outputs": [],
   "source": []
  },
  {
   "cell_type": "code",
   "execution_count": null,
   "metadata": {
    "colab": {
     "base_uri": "https://localhost:8080/"
    },
    "executionInfo": {
     "elapsed": 1694,
     "status": "ok",
     "timestamp": 1738341265796,
     "user": {
      "displayName": "Ryan Roussel",
      "userId": "02503318963409515820"
     },
     "user_tz": 360
    },
    "id": "BU7HOm9ziTiO",
    "outputId": "05838fed-a84f-47d6-81c7-b46288a1d42c"
   },
   "outputs": [],
   "source": []
  },
  {
   "cell_type": "code",
   "execution_count": null,
   "metadata": {
    "colab": {
     "base_uri": "https://localhost:8080/",
     "height": 430
    },
    "executionInfo": {
     "elapsed": 493,
     "status": "ok",
     "timestamp": 1738341266287,
     "user": {
      "displayName": "Ryan Roussel",
      "userId": "02503318963409515820"
     },
     "user_tz": 360
    },
    "id": "4VxB3gPwiVfp",
    "outputId": "a8a31d62-6776-4a3c-9f17-35afc0544c25"
   },
   "outputs": [],
   "source": []
  },
  {
   "cell_type": "code",
   "execution_count": null,
   "metadata": {
    "id": "Pm40NeQJisQ7",
    "executionInfo": {
     "status": "ok",
     "timestamp": 1738341266287,
     "user_tz": 360,
     "elapsed": 2,
     "user": {
      "displayName": "Ryan Roussel",
      "userId": "02503318963409515820"
     }
    }
   },
   "outputs": [],
   "source": []
  },
  {
   "cell_type": "markdown",
   "metadata": {
    "id": "Z1QgNUAvoY3J"
   },
   "source": [
    "## Gradient descent with numerical differentiation\n",
    "\n",
    "### **Homework:**\n",
    "Try to minimize again the beam size, but using numerical differentiation instead of autograd. In this case, you will **not** call the `.backward` and `.grad` functions, but instead you will need to calculate the gradient numerically: vary in the input `K` by `h=1.e-4` in each direction, in order to compute the gradient of `beam_size`.\n",
    "\n",
    "(Note that, because we do not call `.backward`, we also do not need to set `requires_grad = True`.)\n",
    "    \n",
    "Does the algorithm reach the same final value, for the beamsize? What if you increase the value of `h` to `h=1.e-1`?"
   ]
  },
  {
   "cell_type": "code",
   "execution_count": null,
   "metadata": {
    "id": "kW1KjB07oY3J",
    "executionInfo": {
     "status": "ok",
     "timestamp": 1738341207944,
     "user_tz": 360,
     "elapsed": 2,
     "user": {
      "displayName": "Ryan Roussel",
      "userId": "02503318963409515820"
     }
    }
   },
   "outputs": [],
   "source": [
    "def gradient_descent_nd(X0, function, alpha=0.1, n_iterations=100):\n",
    "    \"\"\"\n",
    "    Performs n_iterations iterations of gradient descent,\n",
    "    with numerical differentiation\n",
    "\n",
    "    Inputs:\n",
    "    X0: a pytorch tensor to be modified in-place by the gradient descent algorithm\n",
    "    function: a callable, that takes X0 as input\n",
    "    alpha: step size for the gradient descent algorithm\n",
    "    n_iterations: number of iterations of gradient descent\n",
    "\n",
    "    Returns:\n",
    "    history_X: array of values of X\n",
    "    history_f: array of values of f\n",
    "    \"\"\"\n",
    "    history_X = []\n",
    "    history_f = []\n",
    "    for iteration in range(n_iterations): # iterations of gradient descent\n",
    "        f = function(X0)\n",
    "\n",
    "\n",
    "\n",
    "        # Keep a copy in history (do not modify these lines)\n",
    "        history_X.append( X0.detach().numpy().copy() )\n",
    "        history_f.append( f.detach().numpy().copy() )\n",
    "\n",
    "    return np.array(history_X), np.array(history_f)"
   ]
  },
  {
   "cell_type": "code",
   "execution_count": null,
   "metadata": {
    "colab": {
     "base_uri": "https://localhost:8080/",
     "height": 449
    },
    "executionInfo": {
     "elapsed": 23901,
     "status": "ok",
     "timestamp": 1738341231843,
     "user": {
      "displayName": "Ryan Roussel",
      "userId": "02503318963409515820"
     },
     "user_tz": 360
    },
    "id": "YJDwhtPPoY3J",
    "outputId": "b0ba64f4-1b66-4675-bf08-868dffe1c6bd"
   },
   "outputs": [],
   "source": [
    "# Your code here: call `gradient_descent_nd` and plot the corresponding `history_f`\n"
   ]
  },
  {
   "cell_type": "markdown",
   "metadata": {
    "id": "OzgnaXt_oY3J"
   },
   "source": [
    "**Your answer here:** (Does the algorithm reach the same value of `K`?)"
   ]
  },
  {
   "cell_type": "markdown",
   "metadata": {
    "id": "02_yI62LoY3K"
   },
   "source": [
    "### Gradient descent with noise\n",
    "\n",
    "The function below emulates noise in the beam size measurement.\n",
    "Call this function several times for a given value of `K`."
   ]
  },
  {
   "cell_type": "code",
   "execution_count": null,
   "metadata": {
    "id": "DJx3baF2oY3K",
    "executionInfo": {
     "status": "ok",
     "timestamp": 1738341231843,
     "user_tz": 360,
     "elapsed": 3,
     "user": {
      "displayName": "Ryan Roussel",
      "userId": "02503318963409515820"
     }
    }
   },
   "outputs": [],
   "source": [
    "def beamsize_with_noise(K):\n",
    "    return calculate_beamsize(K) + 1.0e-5 * torch.randn(1)"
   ]
  },
  {
   "cell_type": "code",
   "execution_count": null,
   "metadata": {
    "colab": {
     "base_uri": "https://localhost:8080/"
    },
    "executionInfo": {
     "elapsed": 3,
     "status": "ok",
     "timestamp": 1738341231843,
     "user": {
      "displayName": "Ryan Roussel",
      "userId": "02503318963409515820"
     },
     "user_tz": 360
    },
    "id": "28IcMKpfoY3K",
    "outputId": "879b5614-9396-4ca0-cc43-2d3d8ee7bb22"
   },
   "outputs": [],
   "source": [
    "# Call this function several times to get a sense of how much\n",
    "# the noise is changing the result\n",
    "beamsize_with_noise(X0)"
   ]
  },
  {
   "cell_type": "markdown",
   "metadata": {
    "id": "Bx9FCYBIoY3K"
   },
   "source": [
    "### **Homework:**\n",
    "\n",
    "Now perform the same optimization as before, but on the function `beam_size_with_noise` instead of `beam_size`. Does the version of gradient descent with finite difference reach the same value too? Why?\n"
   ]
  },
  {
   "cell_type": "code",
   "execution_count": null,
   "metadata": {
    "colab": {
     "base_uri": "https://localhost:8080/",
     "height": 455
    },
    "executionInfo": {
     "elapsed": 16472,
     "status": "ok",
     "timestamp": 1738341248313,
     "user": {
      "displayName": "Ryan Roussel",
      "userId": "02503318963409515820"
     },
     "user_tz": 360
    },
    "id": "b-eitaHyoY3K",
    "outputId": "43a40a83-1bd3-43c1-c39c-b2a5eada6ffb"
   },
   "outputs": [],
   "source": [
    "# Your code here\n"
   ]
  },
  {
   "cell_type": "markdown",
   "metadata": {
    "id": "EmQe3Wr0oY3K"
   },
   "source": [
    "**Your answer here:** (Does gradient descent reach approximately the same final value\n",
    " of the beamsize as before? Why or why not?)"
   ]
  },
  {
   "cell_type": "markdown",
   "source": [
    "# BONUS CHALLANGE (NOT GRADED, SOLUTIONS PROVIDED AT THE END OF THIS WEEK)\n",
    "The scipy minimize function https://docs.scipy.org/doc/scipy/reference/generated/scipy.optimize.minimize.html can incorperate a Python callable that returns the Jacobian of the objective function to greatly increase optimization performance. Implement a Python script that uses Jacobians calculated from automatic differentiation in the `scipy.optimize.minimize` function to quickly optimize the beamsize minimization problem from above.\n",
    "\n",
    "## SUPER BONUS CHALLANGE (ALSO NOT GRADED, SOLUTIONS PROVIDED AT THE END OF THIS WEEK)\n",
    "Scipy minimizers are local minimizers so it makes sense to restart optimization from multiple points and optimize each in parallel. Implement optimization restarts in parallel using batch computation of the gradients inside `scipy.optimize.minimize`."
   ],
   "metadata": {
    "id": "6rgudXzMSGYg"
   }
  },
  {
   "cell_type": "code",
   "source": [],
   "metadata": {
    "id": "NMoZ8zO5SF4E"
   },
   "execution_count": null,
   "outputs": []
  }
 ],
 "metadata": {
  "colab": {
   "provenance": []
  },
  "kernelspec": {
   "display_name": "Python 3",
   "name": "python3"
  },
  "language_info": {
   "codemirror_mode": {
    "name": "ipython",
    "version": 3
   },
   "file_extension": ".py",
   "mimetype": "text/x-python",
   "name": "python",
   "nbconvert_exporter": "python",
   "pygments_lexer": "ipython3",
   "version": "3.9.21"
  }
 },
 "nbformat": 4,
 "nbformat_minor": 0
}
