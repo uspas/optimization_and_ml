{
 "cells": [
  {
   "cell_type": "markdown",
   "metadata": {
    "id": "SzOs9Z0QRM3p"
   },
   "source": [
    "# Lab 05 - Neural networks\n",
    "## Tasks\n",
    "- Train a neural network to fit the MNIST dataset\n",
    "- Train a neural network to fit data from the AWA photoinjector"
   ]
  },
  {
   "cell_type": "markdown",
   "metadata": {
    "id": "bDMCyfnCRM3q"
   },
   "source": [
    "# Set up environment"
   ]
  },
  {
   "cell_type": "code",
   "execution_count": null,
   "metadata": {
    "ExecuteTime": {
     "end_time": "2025-01-02T18:35:12.262987400Z",
     "start_time": "2025-01-02T18:35:07.550933100Z"
    },
    "colab": {
     "base_uri": "https://localhost:8080/"
    },
    "executionInfo": {
     "elapsed": 26041,
     "status": "ok",
     "timestamp": 1738377834333,
     "user": {
      "displayName": "Ryan Roussel",
      "userId": "02503318963409515820"
     },
     "user_tz": 360
    },
    "id": "VXY16HVKRM3q",
    "outputId": "ed9039ef-4ede-4efc-e632-54c135d0f211"
   },
   "outputs": [
    {
     "data": {
      "text/plain": [
       "<torch._C.Generator at 0x7d61933d4ef0>"
      ]
     },
     "execution_count": 1,
     "metadata": {},
     "output_type": "execute_result"
    }
   ],
   "source": [
    "%reset -f\n",
    "\n",
    "import os\n",
    "import numpy as np\n",
    "import matplotlib.pyplot as plt\n",
    "\n",
    "#matplotlib graphs will be included in your notebook, next to the code:\n",
    "%matplotlib inline\n",
    "\n",
    "#add PyTorch and TorchVision (used for cropping etc.)\n",
    "import torch\n",
    "import torchvision\n",
    "\n",
    "import torch.nn as nn\n",
    "import torch.nn.functional as F\n",
    "import torch.optim as optim\n",
    "\n",
    "import pandas as pd\n",
    "random_seed = 1\n",
    "torch.backends.cudnn.enabled = False\n",
    "torch.manual_seed(random_seed)\n",
    "\n",
    "#cwd = os.getcwd()"
   ]
  },
  {
   "cell_type": "code",
   "execution_count": null,
   "metadata": {
    "colab": {
     "base_uri": "https://localhost:8080/"
    },
    "executionInfo": {
     "elapsed": 674,
     "status": "ok",
     "timestamp": 1738378215854,
     "user": {
      "displayName": "Ryan Roussel",
      "userId": "02503318963409515820"
     },
     "user_tz": 360
    },
    "id": "MLiNJ2nJJo-Q",
    "outputId": "86533c38-30a8-42cc-a54b-dd8c45c833d7"
   },
   "outputs": [
    {
     "name": "stdout",
     "output_type": "stream",
     "text": [
      "Drive already mounted at /content/drive; to attempt to forcibly remount, call drive.mount(\"/content/drive\", force_remount=True).\n"
     ]
    }
   ],
   "source": [
    "from google.colab import drive\n",
    "drive.mount('/content/drive')\n",
    "\n",
    "drive_directory = '/content/drive/MyDrive/optimization_and_ml/labs/lab_05_neural_networks/'\n",
    "cwd = drive_directory"
   ]
  },
  {
   "cell_type": "markdown",
   "metadata": {
    "id": "Bg3iCF_vRM3r"
   },
   "source": [
    "# Load training and test data\n",
    "To start with we will be training a neural network to identify handwritten numbers. The input of this neural network will be the flattened image data (28 x 28 px) from the MNIST dataset (shape is 784 x 1). The output layer is a set of 10 neurons each representing an integer from 0-9. The neurons return between 0-1 based on the likelihood that a given number is in the image."
   ]
  },
  {
   "cell_type": "code",
   "execution_count": null,
   "metadata": {
    "ExecuteTime": {
     "end_time": "2025-01-02T18:35:12.295992300Z",
     "start_time": "2025-01-02T18:35:12.265987300Z"
    },
    "colab": {
     "base_uri": "https://localhost:8080/"
    },
    "executionInfo": {
     "elapsed": 4329,
     "status": "ok",
     "timestamp": 1738377858742,
     "user": {
      "displayName": "Ryan Roussel",
      "userId": "02503318963409515820"
     },
     "user_tz": 360
    },
    "id": "cmn2MPgJRM3r",
    "outputId": "54a5028c-2c8b-4891-9872-46f9668c46d7"
   },
   "outputs": [
    {
     "name": "stdout",
     "output_type": "stream",
     "text": [
      "Downloading http://yann.lecun.com/exdb/mnist/train-images-idx3-ubyte.gz\n",
      "Failed to download (trying next):\n",
      "<urlopen error [Errno 111] Connection refused>\n",
      "\n",
      "Downloading https://ossci-datasets.s3.amazonaws.com/mnist/train-images-idx3-ubyte.gz\n",
      "Downloading https://ossci-datasets.s3.amazonaws.com/mnist/train-images-idx3-ubyte.gz to /content/drive/MyDrive/USPAS_ML/lab_05_neural_networks//files/MNIST/raw/train-images-idx3-ubyte.gz\n"
     ]
    },
    {
     "name": "stderr",
     "output_type": "stream",
     "text": [
      "100%|██████████| 9.91M/9.91M [00:00<00:00, 20.2MB/s]\n"
     ]
    },
    {
     "name": "stdout",
     "output_type": "stream",
     "text": [
      "Extracting /content/drive/MyDrive/USPAS_ML/lab_05_neural_networks//files/MNIST/raw/train-images-idx3-ubyte.gz to /content/drive/MyDrive/USPAS_ML/lab_05_neural_networks//files/MNIST/raw\n",
      "\n",
      "Downloading http://yann.lecun.com/exdb/mnist/train-labels-idx1-ubyte.gz\n",
      "Failed to download (trying next):\n",
      "<urlopen error [Errno 111] Connection refused>\n",
      "\n",
      "Downloading https://ossci-datasets.s3.amazonaws.com/mnist/train-labels-idx1-ubyte.gz\n",
      "Downloading https://ossci-datasets.s3.amazonaws.com/mnist/train-labels-idx1-ubyte.gz to /content/drive/MyDrive/USPAS_ML/lab_05_neural_networks//files/MNIST/raw/train-labels-idx1-ubyte.gz\n"
     ]
    },
    {
     "name": "stderr",
     "output_type": "stream",
     "text": [
      "100%|██████████| 28.9k/28.9k [00:00<00:00, 700kB/s]\n"
     ]
    },
    {
     "name": "stdout",
     "output_type": "stream",
     "text": [
      "Extracting /content/drive/MyDrive/USPAS_ML/lab_05_neural_networks//files/MNIST/raw/train-labels-idx1-ubyte.gz to /content/drive/MyDrive/USPAS_ML/lab_05_neural_networks//files/MNIST/raw\n",
      "\n",
      "Downloading http://yann.lecun.com/exdb/mnist/t10k-images-idx3-ubyte.gz\n",
      "Failed to download (trying next):\n",
      "<urlopen error [Errno 111] Connection refused>\n",
      "\n",
      "Downloading https://ossci-datasets.s3.amazonaws.com/mnist/t10k-images-idx3-ubyte.gz\n",
      "Downloading https://ossci-datasets.s3.amazonaws.com/mnist/t10k-images-idx3-ubyte.gz to /content/drive/MyDrive/USPAS_ML/lab_05_neural_networks//files/MNIST/raw/t10k-images-idx3-ubyte.gz\n"
     ]
    },
    {
     "name": "stderr",
     "output_type": "stream",
     "text": [
      "100%|██████████| 1.65M/1.65M [00:00<00:00, 4.97MB/s]\n"
     ]
    },
    {
     "name": "stdout",
     "output_type": "stream",
     "text": [
      "Extracting /content/drive/MyDrive/USPAS_ML/lab_05_neural_networks//files/MNIST/raw/t10k-images-idx3-ubyte.gz to /content/drive/MyDrive/USPAS_ML/lab_05_neural_networks//files/MNIST/raw\n",
      "\n",
      "Downloading http://yann.lecun.com/exdb/mnist/t10k-labels-idx1-ubyte.gz\n",
      "Failed to download (trying next):\n",
      "<urlopen error [Errno 111] Connection refused>\n",
      "\n",
      "Downloading https://ossci-datasets.s3.amazonaws.com/mnist/t10k-labels-idx1-ubyte.gz\n",
      "Downloading https://ossci-datasets.s3.amazonaws.com/mnist/t10k-labels-idx1-ubyte.gz to /content/drive/MyDrive/USPAS_ML/lab_05_neural_networks//files/MNIST/raw/t10k-labels-idx1-ubyte.gz\n"
     ]
    },
    {
     "name": "stderr",
     "output_type": "stream",
     "text": [
      "100%|██████████| 4.54k/4.54k [00:00<00:00, 4.41MB/s]"
     ]
    },
    {
     "name": "stdout",
     "output_type": "stream",
     "text": [
      "Extracting /content/drive/MyDrive/USPAS_ML/lab_05_neural_networks//files/MNIST/raw/t10k-labels-idx1-ubyte.gz to /content/drive/MyDrive/USPAS_ML/lab_05_neural_networks//files/MNIST/raw\n"
     ]
    },
    {
     "name": "stderr",
     "output_type": "stream",
     "text": [
      "\n"
     ]
    },
    {
     "name": "stdout",
     "output_type": "stream",
     "text": [
      "\n"
     ]
    }
   ],
   "source": [
    "#create objects to load and pre-process the data\n",
    "batch_size_train = 1024\n",
    "batch_size_test = 1000\n",
    "\n",
    "train_loader = torch.utils.data.DataLoader(\n",
    "    torchvision.datasets.MNIST(cwd + '/files/', train=True, download=True,\n",
    "                                 transform=torchvision.transforms.Compose([\n",
    "                                    torchvision.transforms.ToTensor(),\n",
    "                                    torchvision.transforms.Normalize(\n",
    "                                     (0.1307,), (0.3081,))\n",
    "                             ])),\n",
    "    batch_size=batch_size_train, shuffle=True)\n",
    "\n",
    "test_loader = torch.utils.data.DataLoader(\n",
    "    torchvision.datasets.MNIST(cwd + '/files/', train=False, download=True,\n",
    "                                transform=torchvision.transforms.Compose([\n",
    "                                torchvision.transforms.ToTensor(),\n",
    "                                torchvision.transforms.Normalize(\n",
    "                                     (0.1307,), (0.3081,))\n",
    "                             ])),\n",
    "    batch_size=batch_size_test, shuffle=True)\n"
   ]
  },
  {
   "cell_type": "markdown",
   "metadata": {
    "id": "6GUjAMtQRM3s"
   },
   "source": [
    "## Examine the data"
   ]
  },
  {
   "cell_type": "code",
   "execution_count": null,
   "metadata": {
    "ExecuteTime": {
     "end_time": "2025-01-02T18:35:12.893028300Z",
     "start_time": "2025-01-02T18:35:12.294991300Z"
    },
    "colab": {
     "base_uri": "https://localhost:8080/",
     "height": 876
    },
    "executionInfo": {
     "elapsed": 1454,
     "status": "ok",
     "timestamp": 1738377860195,
     "user": {
      "displayName": "Ryan Roussel",
      "userId": "02503318963409515820"
     },
     "user_tz": 360
    },
    "id": "rAM_FoqjRM3s",
    "outputId": "22fe9a8c-44be-48af-8889-7eef08150227"
   },
   "outputs": [
    {
     "name": "stdout",
     "output_type": "stream",
     "text": [
      "torch.Size([1000, 1, 28, 28])\n"
     ]
    },
    {
     "data": {
      "image/png": "[encoded data removed]",
      "text/plain": [
       "<Figure size 640x480 with 6 Axes>"
      ]
     },
     "execution_count": 4,
     "metadata": {},
     "output_type": "execute_result"
    },
    {
     "data": {
      "image/png": "[encoded data removed]",
      "text/plain": [
       "<Figure size 640x480 with 6 Axes>"
      ]
     },
     "metadata": {},
     "output_type": "display_data"
    }
   ],
   "source": [
    "examples = enumerate(test_loader)\n",
    "batch_idx, (example_data, example_targets) = next(examples)\n",
    "print(example_data.shape)\n",
    "\n",
    "fig = plt.figure()\n",
    "for i in range(6):\n",
    "    plt.subplot(2,3,i+1)\n",
    "    plt.tight_layout()\n",
    "    plt.imshow(example_data[i][0], cmap='gray', interpolation='none')\n",
    "    plt.title(\"Ground Truth: {}\".format(example_targets[i]))\n",
    "    plt.xticks([])\n",
    "    plt.yticks([])\n",
    "fig"
   ]
  },
  {
   "cell_type": "markdown",
   "metadata": {
    "id": "yKzccuGGRM3t"
   },
   "source": [
    "# Build a Neural Network model (using fully connected layers)"
   ]
  },
  {
   "cell_type": "code",
   "execution_count": null,
   "metadata": {
    "ExecuteTime": {
     "end_time": "2025-01-02T18:35:12.922032100Z",
     "start_time": "2025-01-02T18:35:12.897059Z"
    },
    "executionInfo": {
     "elapsed": 3,
     "status": "ok",
     "timestamp": 1738377860195,
     "user": {
      "displayName": "Ryan Roussel",
      "userId": "02503318963409515820"
     },
     "user_tz": 360
    },
    "id": "fdz9yck7RM3t"
   },
   "outputs": [],
   "source": [
    "# we use a simple fully connected network using one hidden layer with a ReLU activation function\n",
    "# the output layer is a log_softmax layer that normalizes the output such that the sum of outputs is one.\n",
    "# See https://pytorch.org/docs/stable/generated/torch.nn.LogSoftmax.html for details\n",
    "class NN(nn.Module):\n",
    "    def __init__(self):\n",
    "        super(NN, self).__init__()\n",
    "\n",
    "        hidden_size = 20\n",
    "\n",
    "        self.linear1 = nn.Linear(784, hidden_size)\n",
    "        self.relu = nn.ReLU()\n",
    "        self.linear2 = nn.Linear(hidden_size, 10)\n",
    "\n",
    "    def forward(self, x):\n",
    "        #note that the data x is shape (batch_size, 1, 28, 28) need to reshape to flatten image -> (batch_size, 1, 784)\n",
    "        x = x.view((x.shape[0], 784))\n",
    "\n",
    "        #propagate through model\n",
    "        x = self.linear1(x)\n",
    "        x = self.relu(x)\n",
    "        x = self.linear2(x)\n",
    "\n",
    "        return F.log_softmax(x)"
   ]
  },
  {
   "cell_type": "code",
   "execution_count": null,
   "metadata": {
    "ExecuteTime": {
     "end_time": "2025-01-02T18:35:12.922032100Z",
     "start_time": "2025-01-02T18:35:12.910031800Z"
    },
    "executionInfo": {
     "elapsed": 3,
     "status": "ok",
     "timestamp": 1738377860195,
     "user": {
      "displayName": "Ryan Roussel",
      "userId": "02503318963409515820"
     },
     "user_tz": 360
    },
    "id": "bNoQyg3SRM3u"
   },
   "outputs": [],
   "source": [
    "\n",
    "learning_rate = 0.1\n",
    "momentum = 0.5\n",
    "log_interval = 10\n",
    "\n",
    "fully_connected_model = NN()\n",
    "optimizer = optim.SGD(fully_connected_model.parameters(), lr=learning_rate,\n",
    "                      momentum=momentum)"
   ]
  },
  {
   "cell_type": "markdown",
   "metadata": {
    "id": "P6e0cqSsRM3u"
   },
   "source": [
    "## Train the model\n",
    "\n",
    "### **Task:**\n",
    "Insert code inside the training loop in the training function below. Then train the model and plot the loss as a function of training steps. The loss function in this case is `F.nll_loss()`.\n"
   ]
  },
  {
   "cell_type": "code",
   "execution_count": null,
   "metadata": {
    "executionInfo": {
     "elapsed": 3,
     "status": "ok",
     "timestamp": 1738377860195,
     "user": {
      "displayName": "Ryan Roussel",
      "userId": "02503318963409515820"
     },
     "user_tz": 360
    },
    "id": "AkMytH6wRmb1"
   },
   "outputs": [],
   "source": [
    "if not os.path.exists(cwd + '/results'):\n",
    "    os.makedirs(cwd + '/results')"
   ]
  },
  {
   "cell_type": "code",
   "execution_count": null,
   "metadata": {
    "ExecuteTime": {
     "end_time": "2025-01-02T18:35:12.938031900Z",
     "start_time": "2025-01-02T18:35:12.928029Z"
    },
    "executionInfo": {
     "elapsed": 3,
     "status": "ok",
     "timestamp": 1738377860196,
     "user": {
      "displayName": "Ryan Roussel",
      "userId": "02503318963409515820"
     },
     "user_tz": 360
    },
    "id": "ym4MkKs9RM3u"
   },
   "outputs": [],
   "source": [
    "def train_model(model, epochs, train_loader, optimizer):\n",
    "\n",
    "    train_losses = []\n",
    "    train_counter = []\n",
    "\n",
    "    #set network to training mode\n",
    "    model.train()\n",
    "    for epoch in range(epochs):\n",
    "        #iterate through data batches\n",
    "        for batch_idx, (data, target) in enumerate(train_loader):\n",
    "            ################################################################\n",
    "            #ANSWER KEY START\n",
    "            ################################################################\n",
    "\n",
    "            #reset gradients\n",
    "            optimizer.zero_grad()\n",
    "\n",
    "            #evaluate network with data\n",
    "            output = model(data)\n",
    "\n",
    "            #compute loss and derivative\n",
    "            loss = F.nll_loss(output, target)\n",
    "            loss.backward()\n",
    "\n",
    "            #step optimizer\n",
    "            optimizer.step()\n",
    "\n",
    "            ################################################################\n",
    "            #ANSWER KEY END\n",
    "            ################################################################\n",
    "            #print out results and save to file\n",
    "            if batch_idx % log_interval == 0:\n",
    "                print('Train Epoch: {} [{}/{} ({:.0f}%)]\\tLoss: {:.6f}'.format(\n",
    "                        epoch, batch_idx * len(data), len(train_loader.dataset),\n",
    "                        100. * batch_idx / len(train_loader), loss.item()))\n",
    "            train_losses.append(loss.item())\n",
    "            train_counter.append(\n",
    "                (batch_idx*batch_size_train) + (epoch*len(train_loader.dataset)))\n",
    "            torch.save(model.state_dict(), cwd + '/results/model.pth')\n",
    "            torch.save(optimizer.state_dict(), cwd + '/results/optimizer.pth')\n",
    "\n",
    "    return train_losses, train_counter"
   ]
  },
  {
   "cell_type": "code",
   "execution_count": null,
   "metadata": {
    "ExecuteTime": {
     "end_time": "2025-01-02T18:35:12.973031400Z",
     "start_time": "2025-01-02T18:35:12.941055100Z"
    },
    "executionInfo": {
     "elapsed": 3,
     "status": "ok",
     "timestamp": 1738377860196,
     "user": {
      "displayName": "Ryan Roussel",
      "userId": "02503318963409515820"
     },
     "user_tz": 360
    },
    "id": "pRMYbgJ5RM3u"
   },
   "outputs": [],
   "source": [
    "def test_model(model,loader):\n",
    "    test_losses = []\n",
    "    model.eval()\n",
    "    test_loss = 0\n",
    "    correct = 0\n",
    "    with torch.no_grad():\n",
    "        for data, target in loader:\n",
    "            output = model(data)\n",
    "            test_loss += F.nll_loss(output, target).item()\n",
    "            pred = output.data.max(1, keepdim=True)[1]\n",
    "            correct += pred.eq(target.data.view_as(pred)).sum()\n",
    "    test_loss /= len(test_loader.dataset)\n",
    "    test_losses.append(test_loss)\n",
    "    print('\\nTest set: Avg. loss: {:.4f}, Accuracy: {}/{} ({:.0f}%)\\n'.format(\n",
    "        test_loss, correct, len(test_loader.dataset),\n",
    "        100. * correct / len(test_loader.dataset)))\n",
    "\n",
    "    return test_losses"
   ]
  },
  {
   "cell_type": "code",
   "execution_count": null,
   "metadata": {
    "ExecuteTime": {
     "end_time": "2025-01-02T18:36:13.828374300Z",
     "start_time": "2025-01-02T18:35:12.954032500Z"
    },
    "colab": {
     "base_uri": "https://localhost:8080/"
    },
    "executionInfo": {
     "elapsed": 92100,
     "status": "ok",
     "timestamp": 1738377952293,
     "user": {
      "displayName": "Ryan Roussel",
      "userId": "02503318963409515820"
     },
     "user_tz": 360
    },
    "id": "UVXidxdcRM3v",
    "outputId": "df5d262b-ccf0-4039-c455-768f027125ab"
   },
   "outputs": [
    {
     "name": "stderr",
     "output_type": "stream",
     "text": [
      "<ipython-input-5-ea4421921081>:23: UserWarning: Implicit dimension choice for log_softmax has been deprecated. Change the call to include dim=X as an argument.\n",
      "  return F.log_softmax(x)\n"
     ]
    },
    {
     "name": "stdout",
     "output_type": "stream",
     "text": [
      "Train Epoch: 0 [0/60000 (0%)]\tLoss: 2.312592\n",
      "Train Epoch: 0 [10240/60000 (17%)]\tLoss: 0.890141\n",
      "Train Epoch: 0 [20480/60000 (34%)]\tLoss: 0.542878\n",
      "Train Epoch: 0 [30720/60000 (51%)]\tLoss: 0.443003\n",
      "Train Epoch: 0 [40960/60000 (68%)]\tLoss: 0.408322\n",
      "Train Epoch: 0 [51200/60000 (85%)]\tLoss: 0.372087\n",
      "Train Epoch: 1 [0/60000 (0%)]\tLoss: 0.332622\n",
      "Train Epoch: 1 [10240/60000 (17%)]\tLoss: 0.335877\n",
      "Train Epoch: 1 [20480/60000 (34%)]\tLoss: 0.342772\n",
      "Train Epoch: 1 [30720/60000 (51%)]\tLoss: 0.341244\n",
      "Train Epoch: 1 [40960/60000 (68%)]\tLoss: 0.285919\n",
      "Train Epoch: 1 [51200/60000 (85%)]\tLoss: 0.290328\n",
      "Train Epoch: 2 [0/60000 (0%)]\tLoss: 0.331665\n",
      "Train Epoch: 2 [10240/60000 (17%)]\tLoss: 0.296951\n",
      "Train Epoch: 2 [20480/60000 (34%)]\tLoss: 0.277711\n",
      "Train Epoch: 2 [30720/60000 (51%)]\tLoss: 0.276212\n",
      "Train Epoch: 2 [40960/60000 (68%)]\tLoss: 0.257357\n",
      "Train Epoch: 2 [51200/60000 (85%)]\tLoss: 0.260620\n",
      "Train Epoch: 3 [0/60000 (0%)]\tLoss: 0.264813\n",
      "Train Epoch: 3 [10240/60000 (17%)]\tLoss: 0.265525\n",
      "Train Epoch: 3 [20480/60000 (34%)]\tLoss: 0.249440\n",
      "Train Epoch: 3 [30720/60000 (51%)]\tLoss: 0.281945\n",
      "Train Epoch: 3 [40960/60000 (68%)]\tLoss: 0.242407\n",
      "Train Epoch: 3 [51200/60000 (85%)]\tLoss: 0.243722\n",
      "Train Epoch: 4 [0/60000 (0%)]\tLoss: 0.230253\n",
      "Train Epoch: 4 [10240/60000 (17%)]\tLoss: 0.199952\n",
      "Train Epoch: 4 [20480/60000 (34%)]\tLoss: 0.221159\n",
      "Train Epoch: 4 [30720/60000 (51%)]\tLoss: 0.243170\n",
      "Train Epoch: 4 [40960/60000 (68%)]\tLoss: 0.217776\n",
      "Train Epoch: 4 [51200/60000 (85%)]\tLoss: 0.219156\n"
     ]
    },
    {
     "name": "stderr",
     "output_type": "stream",
     "text": [
      "/usr/local/lib/python3.11/dist-packages/torch/nn/_reduction.py:51: UserWarning: size_average and reduce args will be deprecated, please use reduction='sum' instead.\n",
      "  warnings.warn(warning.format(ret))\n"
     ]
    },
    {
     "name": "stdout",
     "output_type": "stream",
     "text": [
      "\n",
      "Test set: Avg. loss: 0.2241, Accuracy: 9331/10000 (93%)\n",
      "\n"
     ]
    }
   ],
   "source": [
    "################################################################\n",
    "#ANSWER KEY\n",
    "################################################################\n",
    "\n",
    "n_epochs = 5\n",
    "train_losses,counter = train_model(fully_connected_model, n_epochs, train_loader, optimizer)\n",
    "test_losses = test_model(fully_connected_model,test_loader)\n"
   ]
  },
  {
   "cell_type": "code",
   "execution_count": null,
   "metadata": {
    "ExecuteTime": {
     "end_time": "2025-01-02T18:36:13.948377Z",
     "start_time": "2025-01-02T18:36:13.830373400Z"
    },
    "colab": {
     "base_uri": "https://localhost:8080/",
     "height": 466
    },
    "executionInfo": {
     "elapsed": 141,
     "status": "ok",
     "timestamp": 1738377952432,
     "user": {
      "displayName": "Ryan Roussel",
      "userId": "02503318963409515820"
     },
     "user_tz": 360
    },
    "id": "Bz-hLt2ARM3v",
    "outputId": "c1fe3fa0-f946-4adb-8ab7-3e9a139483da"
   },
   "outputs": [
    {
     "data": {
      "text/plain": [
       "Text(0, 0.5, 'mse loss')"
      ]
     },
     "execution_count": 11,
     "metadata": {},
     "output_type": "execute_result"
    },
    {
     "data": {
      "image/png": "[encoded data removed]",
      "text/plain": [
       "<Figure size 640x480 with 1 Axes>"
      ]
     },
     "metadata": {},
     "output_type": "display_data"
    }
   ],
   "source": [
    "fig, ax = plt.subplots()\n",
    "ax.plot(train_losses)\n",
    "ax.set_xlabel('training steps')\n",
    "ax.set_ylabel('mse loss')"
   ]
  },
  {
   "cell_type": "code",
   "execution_count": null,
   "metadata": {
    "ExecuteTime": {
     "end_time": "2025-01-02T18:36:13.969404100Z",
     "start_time": "2025-01-02T18:36:13.949374800Z"
    },
    "executionInfo": {
     "elapsed": 2,
     "status": "ok",
     "timestamp": 1738377952432,
     "user": {
      "displayName": "Ryan Roussel",
      "userId": "02503318963409515820"
     },
     "user_tz": 360
    },
    "id": "JGOA-2JKRM3v"
   },
   "outputs": [],
   "source": []
  },
  {
   "cell_type": "markdown",
   "metadata": {
    "id": "pc1oyEPsRM3v"
   },
   "source": [
    "# Build model with CNN Layers\n",
    "For the MNIST data set it is reasonable to use a fully connected network. If we have larger images then this scales poorly and becomes impractical quickly. Instead we can use a Convolutional neural network (CNN)."
   ]
  },
  {
   "cell_type": "code",
   "execution_count": null,
   "metadata": {
    "ExecuteTime": {
     "end_time": "2025-01-02T18:36:13.977376400Z",
     "start_time": "2025-01-02T18:36:13.967374500Z"
    },
    "executionInfo": {
     "elapsed": 113,
     "status": "ok",
     "timestamp": 1738377952543,
     "user": {
      "displayName": "Ryan Roussel",
      "userId": "02503318963409515820"
     },
     "user_tz": 360
    },
    "id": "OlY6A5TxRM3w"
   },
   "outputs": [],
   "source": [
    "class CNN(nn.Module):\n",
    "    def __init__(self):\n",
    "        super(CNN, self).__init__()\n",
    "        self.conv1 = nn.Conv2d(1, 10, kernel_size=5)\n",
    "        self.conv2 = nn.Conv2d(10, 20, kernel_size=5)\n",
    "        self.conv2_drop = nn.Dropout2d()\n",
    "        self.fc1 = nn.Linear(320, 50)\n",
    "        self.fc2 = nn.Linear(50, 10)\n",
    "\n",
    "    def forward(self, x):\n",
    "        x = F.relu(F.max_pool2d(self.conv1(x), 2))\n",
    "        x = F.relu(F.max_pool2d(self.conv2_drop(self.conv2(x)), 2))\n",
    "        x = x.view(-1, 320)\n",
    "        x = F.relu(self.fc1(x))\n",
    "        x = F.dropout(x, training=self.training)\n",
    "        x = self.fc2(x)\n",
    "        return F.log_softmax(x)"
   ]
  },
  {
   "cell_type": "markdown",
   "metadata": {
    "id": "4Gdx609ORM3w"
   },
   "source": [
    "## Train the model\n",
    "\n",
    "### **Task:**\n",
    "Train the CNN model and plot the loss as a function of number of training examples seen.\n"
   ]
  },
  {
   "cell_type": "code",
   "execution_count": null,
   "metadata": {
    "ExecuteTime": {
     "end_time": "2025-01-02T18:37:00.876882300Z",
     "start_time": "2025-01-02T18:36:13.980376300Z"
    },
    "colab": {
     "base_uri": "https://localhost:8080/"
    },
    "executionInfo": {
     "elapsed": 114589,
     "status": "ok",
     "timestamp": 1738378067131,
     "user": {
      "displayName": "Ryan Roussel",
      "userId": "02503318963409515820"
     },
     "user_tz": 360
    },
    "id": "sDA18QzZRM3w",
    "outputId": "e068b4c5-b9bb-48b8-92cb-3fd69993b82b"
   },
   "outputs": [
    {
     "name": "stderr",
     "output_type": "stream",
     "text": [
      "<ipython-input-12-0c038cec0b0c>:17: UserWarning: Implicit dimension choice for log_softmax has been deprecated. Change the call to include dim=X as an argument.\n",
      "  return F.log_softmax(x)\n"
     ]
    },
    {
     "name": "stdout",
     "output_type": "stream",
     "text": [
      "Train Epoch: 0 [0/60000 (0%)]\tLoss: 2.322436\n",
      "Train Epoch: 0 [10240/60000 (17%)]\tLoss: 2.145313\n",
      "Train Epoch: 0 [20480/60000 (34%)]\tLoss: 1.248829\n",
      "Train Epoch: 0 [30720/60000 (51%)]\tLoss: 0.879465\n",
      "Train Epoch: 0 [40960/60000 (68%)]\tLoss: 0.708999\n",
      "Train Epoch: 0 [51200/60000 (85%)]\tLoss: 0.640314\n",
      "Train Epoch: 1 [0/60000 (0%)]\tLoss: 0.645098\n",
      "Train Epoch: 1 [10240/60000 (17%)]\tLoss: 0.535221\n",
      "Train Epoch: 1 [20480/60000 (34%)]\tLoss: 0.476596\n",
      "Train Epoch: 1 [30720/60000 (51%)]\tLoss: 0.415461\n",
      "Train Epoch: 1 [40960/60000 (68%)]\tLoss: 0.519821\n",
      "Train Epoch: 1 [51200/60000 (85%)]\tLoss: 0.417070\n",
      "Train Epoch: 2 [0/60000 (0%)]\tLoss: 0.414429\n",
      "Train Epoch: 2 [10240/60000 (17%)]\tLoss: 0.412904\n",
      "Train Epoch: 2 [20480/60000 (34%)]\tLoss: 0.462824\n",
      "Train Epoch: 2 [30720/60000 (51%)]\tLoss: 0.321695\n",
      "Train Epoch: 2 [40960/60000 (68%)]\tLoss: 0.352835\n",
      "Train Epoch: 2 [51200/60000 (85%)]\tLoss: 0.344766\n",
      "\n",
      "Test set: Avg. loss: 0.1169, Accuracy: 9635/10000 (96%)\n",
      "\n"
     ]
    }
   ],
   "source": [
    "################################################################\n",
    "#ANSWER KEY\n",
    "################################################################\n",
    "cnn_model = CNN()\n",
    "cnn_optimizer = optim.SGD(cnn_model.parameters(), lr=learning_rate,\n",
    "                      momentum=momentum)\n",
    "\n",
    "n_epochs = 3\n",
    "train_losses,counter = train_model(cnn_model, n_epochs, train_loader, cnn_optimizer)\n",
    "test_losses = test_model(cnn_model,test_loader)"
   ]
  },
  {
   "cell_type": "code",
   "execution_count": null,
   "metadata": {
    "ExecuteTime": {
     "end_time": "2025-01-02T18:37:01.012530500Z",
     "start_time": "2025-01-02T18:37:00.888890200Z"
    },
    "colab": {
     "base_uri": "https://localhost:8080/",
     "height": 466
    },
    "executionInfo": {
     "elapsed": 250,
     "status": "ok",
     "timestamp": 1738378067378,
     "user": {
      "displayName": "Ryan Roussel",
      "userId": "02503318963409515820"
     },
     "user_tz": 360
    },
    "id": "n787b8RmRM3w",
    "outputId": "ba50865c-a6b9-403b-f683-7b8c79390551"
   },
   "outputs": [
    {
     "data": {
      "text/plain": [
       "Text(0, 0.5, 'negative log likelihood loss')"
      ]
     },
     "execution_count": 14,
     "metadata": {},
     "output_type": "execute_result"
    },
    {
     "data": {
      "image/png": "[encoded data removed]",
      "text/plain": [
       "<Figure size 640x480 with 1 Axes>"
      ]
     },
     "metadata": {},
     "output_type": "display_data"
    }
   ],
   "source": [
    "fig, ax = plt.subplots()\n",
    "ax.plot(train_losses)\n",
    "ax.set_xlabel('number of training examples seen')\n",
    "ax.set_ylabel('negative log likelihood loss')"
   ]
  },
  {
   "cell_type": "markdown",
   "metadata": {
    "id": "vIL5BNiIRM3w"
   },
   "source": [
    "# NN for AWA Photoinjector\n",
    "\n",
    "### **Homework:**\n",
    "    \n",
    "Now its your turn! Implement and train a NN model to perform regression on data from the AWA photoinjector.\n",
    "    \n",
    "- The input layer should accept 6 parameters and return 7 parameters\n",
    "- Start with 3 hidden layers with 20 neurons each and tanh activiation functions (since we are doing regression, not classification)\n",
    "- Use the MSELoss function `torch.nn.functional.mse_loss()`"
   ]
  },
  {
   "cell_type": "code",
   "execution_count": null,
   "metadata": {
    "ExecuteTime": {
     "end_time": "2025-01-02T18:37:01.059530500Z",
     "start_time": "2025-01-02T18:37:01.015557900Z"
    },
    "colab": {
     "base_uri": "https://localhost:8080/"
    },
    "executionInfo": {
     "elapsed": 2267,
     "status": "ok",
     "timestamp": 1738378227955,
     "user": {
      "displayName": "Ryan Roussel",
      "userId": "02503318963409515820"
     },
     "user_tz": 360
    },
    "id": "E_Bhb0GiRM3w",
    "outputId": "c0fc7512-efa9-4b4b-b309-749dae7d9da7"
   },
   "outputs": [
    {
     "name": "stdout",
     "output_type": "stream",
     "text": [
      "torch.Size([1024, 6])\n"
     ]
    }
   ],
   "source": [
    "#load AWA data\n",
    "df = pd.read_pickle(drive_directory + 'AWA_data.pkl')\n",
    "features = ['P0','P1','G0','G1','K1','K2']\n",
    "targets = ['rms_x','rms_y','rms_s','emit_x','emit_y','emit_s','dE']\n",
    "\n",
    "n_train = 70000\n",
    "n_test = 30000\n",
    "batch_size = 1024\n",
    "\n",
    "#create test and train datasets\n",
    "train_data = torch.utils.data.TensorDataset(torch.tensor(df.head(n_train)[features].values).float(),\n",
    "                                            torch.tensor(df.head(n_train)[targets].values).float())\n",
    "\n",
    "test_data = torch.utils.data.TensorDataset(torch.tensor(df.tail(n_test)[features].values).float(),\n",
    "                                           torch.tensor(df.tail(n_test)[targets].values).float())\n",
    "\n",
    "train_loader = torch.utils.data.DataLoader(train_data, batch_size=batch_size, shuffle=True)\n",
    "test_loader = torch.utils.data.DataLoader(test_data, batch_size=batch_size, shuffle=True)\n",
    "\n",
    "\n",
    "examples = enumerate(train_loader)\n",
    "batch_idx, (example_data, example_targets) = next(examples)\n",
    "print(example_data.shape)\n"
   ]
  },
  {
   "cell_type": "code",
   "execution_count": null,
   "metadata": {
    "ExecuteTime": {
     "end_time": "2025-01-02T18:37:01.073532800Z",
     "start_time": "2025-01-02T18:37:01.064529200Z"
    },
    "executionInfo": {
     "elapsed": 111,
     "status": "ok",
     "timestamp": 1738378230318,
     "user": {
      "displayName": "Ryan Roussel",
      "userId": "02503318963409515820"
     },
     "user_tz": 360
    },
    "id": "4DsUa6kWRM3x"
   },
   "outputs": [],
   "source": [
    "class AWANN(nn.Module):\n",
    "    def __init__(self):\n",
    "        super(AWANN, self).__init__()\n",
    "\n",
    "        hidden_size = 20\n",
    "        self.linear1 = nn.Linear(6, hidden_size)\n",
    "        self.tanh1 = nn.Tanh()\n",
    "        self.linear2 = nn.Linear(hidden_size, hidden_size)\n",
    "        self.tanh2 = nn.Tanh()\n",
    "        self.linear3 = nn.Linear(hidden_size, hidden_size)\n",
    "        self.tanh3 = nn.Tanh()\n",
    "        self.linear4 = nn.Linear(hidden_size, 7)\n",
    "\n",
    "    def forward(self, x):\n",
    "        # propagate through model\n",
    "        x = self.linear1(x)\n",
    "        x = self.tanh1(x)\n",
    "        x = self.linear2(x)\n",
    "        x = self.tanh2(x)\n",
    "        x = self.linear3(x)\n",
    "        x = self.tanh3(x)\n",
    "        x = self.linear4(x)\n",
    "\n",
    "        return x"
   ]
  },
  {
   "cell_type": "code",
   "execution_count": null,
   "metadata": {
    "ExecuteTime": {
     "end_time": "2025-01-02T18:37:01.097530300Z",
     "start_time": "2025-01-02T18:37:01.079529200Z"
    },
    "executionInfo": {
     "elapsed": 114,
     "status": "ok",
     "timestamp": 1738378230809,
     "user": {
      "displayName": "Ryan Roussel",
      "userId": "02503318963409515820"
     },
     "user_tz": 360
    },
    "id": "GRNPSubERM3x"
   },
   "outputs": [],
   "source": [
    "def train_model(model, epochs, train_loader):\n",
    "\n",
    "    train_losses = []\n",
    "    train_counter = []\n",
    "\n",
    "    #set network to training mode\n",
    "    model.train()\n",
    "\n",
    "    #iterate through data batches\n",
    "    for batch_idx, (data, target) in enumerate(train_loader):\n",
    "        ################################################################\n",
    "        #ANSWER KEY START\n",
    "        ################################################################\n",
    "\n",
    "        #reset gradients\n",
    "        optimizer.zero_grad()\n",
    "\n",
    "        #evaluate network with data\n",
    "        output = model(data)\n",
    "\n",
    "        #compute loss and derivative\n",
    "        loss = F.mse_loss(output, target)\n",
    "        loss.backward()\n",
    "\n",
    "        #step optimizer\n",
    "        optimizer.step()\n",
    "\n",
    "        ################################################################\n",
    "        #ANSWER KEY END\n",
    "        ################################################################\n",
    "        #print out results and save to file\n",
    "        if batch_idx % log_interval == 0:\n",
    "            print('Train Epoch: {} [{}/{} ({:.0f}%)]\\tLoss: {:.6f}'.format(\n",
    "                    epoch, batch_idx * len(data), len(train_loader.dataset),\n",
    "                    100. * batch_idx / len(train_loader), loss.item()))\n",
    "        train_losses.append(loss.item())\n",
    "        train_counter.append(\n",
    "            (batch_idx*batch_size) + (epoch*len(train_loader.dataset)))\n",
    "        torch.save(model.state_dict(), cwd + '/results/model.pth')\n",
    "        torch.save(optimizer.state_dict(), cwd + '/results/optimizer.pth')\n",
    "\n",
    "    return train_losses, train_counter"
   ]
  },
  {
   "cell_type": "code",
   "execution_count": null,
   "metadata": {
    "ExecuteTime": {
     "end_time": "2025-01-02T18:37:01.104529900Z",
     "start_time": "2025-01-02T18:37:01.093531500Z"
    },
    "executionInfo": {
     "elapsed": 97,
     "status": "ok",
     "timestamp": 1738378231215,
     "user": {
      "displayName": "Ryan Roussel",
      "userId": "02503318963409515820"
     },
     "user_tz": 360
    },
    "id": "ZHPCGksbRM3x"
   },
   "outputs": [],
   "source": [
    "def test_model(model):\n",
    "    model.eval()\n",
    "    with torch.no_grad():\n",
    "        data,target = test_loader.dataset.tensors\n",
    "        output = model(data)\n",
    "        test_loss = F.mse_loss(output, target).item()\n",
    "\n",
    "    return test_loss"
   ]
  },
  {
   "cell_type": "code",
   "execution_count": null,
   "metadata": {
    "ExecuteTime": {
     "end_time": "2025-01-02T18:37:07.170851700Z",
     "start_time": "2025-01-02T18:37:01.106529100Z"
    },
    "colab": {
     "base_uri": "https://localhost:8080/"
    },
    "executionInfo": {
     "elapsed": 15402,
     "status": "ok",
     "timestamp": 1738378247222,
     "user": {
      "displayName": "Ryan Roussel",
      "userId": "02503318963409515820"
     },
     "user_tz": 360
    },
    "id": "8YCQh1psRM3x",
    "outputId": "1083f4d2-fe41-4e63-9d9a-d5c634269c0a"
   },
   "outputs": [
    {
     "name": "stdout",
     "output_type": "stream",
     "text": [
      "Train Epoch: 1 [0/70000 (0%)]\tLoss: 0.372432\n",
      "Train Epoch: 1 [10240/70000 (14%)]\tLoss: 0.119419\n",
      "Train Epoch: 1 [20480/70000 (29%)]\tLoss: 0.106593\n",
      "Train Epoch: 1 [30720/70000 (43%)]\tLoss: 0.105597\n",
      "Train Epoch: 1 [40960/70000 (58%)]\tLoss: 0.095915\n",
      "Train Epoch: 1 [51200/70000 (72%)]\tLoss: 0.087193\n",
      "Train Epoch: 1 [61440/70000 (87%)]\tLoss: 0.082703\n"
     ]
    },
    {
     "name": "stderr",
     "output_type": "stream",
     "text": [
      "/usr/local/lib/python3.11/dist-packages/torch/nn/_reduction.py:51: UserWarning: size_average and reduce args will be deprecated, please use reduction='sum' instead.\n",
      "  warnings.warn(warning.format(ret))\n"
     ]
    },
    {
     "name": "stdout",
     "output_type": "stream",
     "text": [
      "Train Epoch: 2 [0/70000 (0%)]\tLoss: 0.065291\n",
      "Train Epoch: 2 [10240/70000 (14%)]\tLoss: 0.055364\n",
      "Train Epoch: 2 [20480/70000 (29%)]\tLoss: 0.047589\n",
      "Train Epoch: 2 [30720/70000 (43%)]\tLoss: 0.039740\n",
      "Train Epoch: 2 [40960/70000 (58%)]\tLoss: 0.032111\n",
      "Train Epoch: 2 [51200/70000 (72%)]\tLoss: 0.027094\n",
      "Train Epoch: 2 [61440/70000 (87%)]\tLoss: 0.024624\n",
      "Train Epoch: 3 [0/70000 (0%)]\tLoss: 0.029680\n",
      "Train Epoch: 3 [10240/70000 (14%)]\tLoss: 0.028160\n",
      "Train Epoch: 3 [20480/70000 (29%)]\tLoss: 0.022122\n",
      "Train Epoch: 3 [30720/70000 (43%)]\tLoss: 0.020628\n",
      "Train Epoch: 3 [40960/70000 (58%)]\tLoss: 0.027220\n",
      "Train Epoch: 3 [51200/70000 (72%)]\tLoss: 0.020185\n",
      "Train Epoch: 3 [61440/70000 (87%)]\tLoss: 0.023444\n",
      "Train Epoch: 4 [0/70000 (0%)]\tLoss: 0.019647\n",
      "Train Epoch: 4 [10240/70000 (14%)]\tLoss: 0.022876\n",
      "Train Epoch: 4 [20480/70000 (29%)]\tLoss: 0.017816\n",
      "Train Epoch: 4 [30720/70000 (43%)]\tLoss: 0.020064\n",
      "Train Epoch: 4 [40960/70000 (58%)]\tLoss: 0.019069\n",
      "Train Epoch: 4 [51200/70000 (72%)]\tLoss: 0.018518\n",
      "Train Epoch: 4 [61440/70000 (87%)]\tLoss: 0.019619\n",
      "Train Epoch: 5 [0/70000 (0%)]\tLoss: 0.016220\n",
      "Train Epoch: 5 [10240/70000 (14%)]\tLoss: 0.017360\n",
      "Train Epoch: 5 [20480/70000 (29%)]\tLoss: 0.017783\n",
      "Train Epoch: 5 [30720/70000 (43%)]\tLoss: 0.018252\n",
      "Train Epoch: 5 [40960/70000 (58%)]\tLoss: 0.016794\n",
      "Train Epoch: 5 [51200/70000 (72%)]\tLoss: 0.021138\n",
      "Train Epoch: 5 [61440/70000 (87%)]\tLoss: 0.015532\n"
     ]
    }
   ],
   "source": [
    "################################################################\n",
    "#ANSWER KEY\n",
    "################################################################\n",
    "awa_model = AWANN()\n",
    "optimizer = optim.SGD(awa_model.parameters(), lr=learning_rate,\n",
    "                      momentum=momentum)\n",
    "\n",
    "train_losses = []\n",
    "test_losses = []\n",
    "n_epochs = 5\n",
    "for epoch in range(1, n_epochs + 1):\n",
    "    train_losses += train_model(awa_model, epoch, train_loader)[0]\n",
    "    test_losses += test_model(awa_model)"
   ]
  },
  {
   "cell_type": "code",
   "execution_count": null,
   "metadata": {
    "ExecuteTime": {
     "end_time": "2025-01-02T18:37:07.300377800Z",
     "start_time": "2025-01-02T18:37:07.167852Z"
    },
    "colab": {
     "base_uri": "https://localhost:8080/",
     "height": 447
    },
    "executionInfo": {
     "elapsed": 203,
     "status": "ok",
     "timestamp": 1738378253116,
     "user": {
      "displayName": "Ryan Roussel",
      "userId": "02503318963409515820"
     },
     "user_tz": 360
    },
    "id": "iyxQir-qRM3y",
    "outputId": "cbb8bcfc-ebf8-4fec-e071-b0d0666f18e0"
   },
   "outputs": [
    {
     "data": {
      "text/plain": [
       "[<matplotlib.lines.Line2D at 0x7d6095b2b510>]"
      ]
     },
     "execution_count": 22,
     "metadata": {},
     "output_type": "execute_result"
    },
    {
     "data": {
      "image/png": "[encoded data removed]",
      "text/plain": [
       "<Figure size 640x480 with 1 Axes>"
      ]
     },
     "metadata": {},
     "output_type": "display_data"
    }
   ],
   "source": [
    "fig, ax = plt.subplots()\n",
    "ax.plot(train_losses)\n",
    "ax.plot(test_losses)"
   ]
  },
  {
   "cell_type": "code",
   "execution_count": null,
   "metadata": {
    "ExecuteTime": {
     "end_time": "2025-01-02T18:37:07.345378500Z",
     "start_time": "2025-01-02T18:37:07.316380Z"
    },
    "executionInfo": {
     "elapsed": 259304,
     "status": "aborted",
     "timestamp": 1738378067379,
     "user": {
      "displayName": "Ryan Roussel",
      "userId": "02503318963409515820"
     },
     "user_tz": 360
    },
    "id": "FIkME9fMRM3y"
   },
   "outputs": [],
   "source": []
  }
 ],
 "metadata": {
  "colab": {
   "provenance": []
  },
  "kernelspec": {
   "display_name": "Python 3 (ipykernel)",
   "language": "python",
   "name": "python3"
  },
  "language_info": {
   "codemirror_mode": {
    "name": "ipython",
    "version": 3
   },
   "file_extension": ".py",
   "mimetype": "text/x-python",
   "name": "python",
   "nbconvert_exporter": "python",
   "pygments_lexer": "ipython3",
   "version": "3.7.2"
  }
 },
 "nbformat": 4,
 "nbformat_minor": 0
}
