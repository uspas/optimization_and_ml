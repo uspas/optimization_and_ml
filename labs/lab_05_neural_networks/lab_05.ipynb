{
 "cells": [
  {
   "cell_type": "markdown",
   "metadata": {
    "id": "SzOs9Z0QRM3p"
   },
   "source": [
    "# Lab 05 - Neural networks\n",
    "## Tasks\n",
    "- Train a neural network to fit the MNIST dataset\n",
    "- Train a neural network to fit data from the AWA photoinjector"
   ]
  },
  {
   "cell_type": "markdown",
   "metadata": {
    "id": "bDMCyfnCRM3q"
   },
   "source": [
    "# Set up environment"
   ]
  },
  {
   "cell_type": "code",
   "execution_count": null,
   "metadata": {
    "colab": {
     "base_uri": "https://localhost:8080/"
    },
    "executionInfo": {
     "elapsed": 26041,
     "status": "ok",
     "timestamp": 1738377834333,
     "user": {
      "displayName": "Ryan Roussel",
      "userId": "02503318963409515820"
     },
     "user_tz": 360
    },
    "id": "VXY16HVKRM3q",
    "outputId": "ed9039ef-4ede-4efc-e632-54c135d0f211"
   },
   "outputs": [],
   "source": [
    "%reset -f\n",
    "\n",
    "import os\n",
    "import numpy as np\n",
    "import matplotlib.pyplot as plt\n",
    "\n",
    "#matplotlib graphs will be included in your notebook, next to the code:\n",
    "%matplotlib inline\n",
    "\n",
    "#add PyTorch and TorchVision (used for cropping etc.)\n",
    "import torch\n",
    "import torchvision\n",
    "\n",
    "import torch.nn as nn\n",
    "import torch.nn.functional as F\n",
    "import torch.optim as optim\n",
    "\n",
    "import pandas as pd\n",
    "random_seed = 1\n",
    "torch.backends.cudnn.enabled = False\n",
    "torch.manual_seed(random_seed)\n",
    "\n",
    "#cwd = os.getcwd()"
   ]
  },
  {
   "cell_type": "code",
   "execution_count": null,
   "metadata": {
    "colab": {
     "base_uri": "https://localhost:8080/"
    },
    "executionInfo": {
     "elapsed": 674,
     "status": "ok",
     "timestamp": 1738378215854,
     "user": {
      "displayName": "Ryan Roussel",
      "userId": "02503318963409515820"
     },
     "user_tz": 360
    },
    "id": "MLiNJ2nJJo-Q",
    "outputId": "86533c38-30a8-42cc-a54b-dd8c45c833d7"
   },
   "outputs": [],
   "source": [
    "from google.colab import drive\n",
    "drive.mount('/content/drive')\n",
    "\n",
    "drive_directory = '/content/drive/MyDrive/optimization_and_ml/labs/lab_05_neural_networks/'\n",
    "cwd = drive_directory"
   ]
  },
  {
   "cell_type": "markdown",
   "metadata": {
    "id": "Bg3iCF_vRM3r"
   },
   "source": [
    "# Load training and test data\n",
    "To start with we will be training a neural network to identify handwritten numbers. The input of this neural network will be the flattened image data (28 x 28 px) from the MNIST dataset (shape is 784 x 1). The output layer is a set of 10 neurons each representing an integer from 0-9. The neurons return between 0-1 based on the likelihood that a given number is in the image."
   ]
  },
  {
   "cell_type": "code",
   "execution_count": null,
   "metadata": {
    "colab": {
     "base_uri": "https://localhost:8080/"
    },
    "executionInfo": {
     "elapsed": 4329,
     "status": "ok",
     "timestamp": 1738377858742,
     "user": {
      "displayName": "Ryan Roussel",
      "userId": "02503318963409515820"
     },
     "user_tz": 360
    },
    "id": "cmn2MPgJRM3r",
    "outputId": "54a5028c-2c8b-4891-9872-46f9668c46d7"
   },
   "outputs": [],
   "source": [
    "#create objects to load and pre-process the data\n",
    "batch_size_train = 1024\n",
    "batch_size_test = 1000\n",
    "\n",
    "train_loader = torch.utils.data.DataLoader(\n",
    "    torchvision.datasets.MNIST(cwd + '/files/', train=True, download=True,\n",
    "                                 transform=torchvision.transforms.Compose([\n",
    "                                    torchvision.transforms.ToTensor(),\n",
    "                                    torchvision.transforms.Normalize(\n",
    "                                     (0.1307,), (0.3081,))\n",
    "                             ])),\n",
    "    batch_size=batch_size_train, shuffle=True)\n",
    "\n",
    "test_loader = torch.utils.data.DataLoader(\n",
    "    torchvision.datasets.MNIST(cwd + '/files/', train=False, download=True,\n",
    "                                transform=torchvision.transforms.Compose([\n",
    "                                torchvision.transforms.ToTensor(),\n",
    "                                torchvision.transforms.Normalize(\n",
    "                                     (0.1307,), (0.3081,))\n",
    "                             ])),\n",
    "    batch_size=batch_size_test, shuffle=True)\n"
   ]
  },
  {
   "cell_type": "markdown",
   "metadata": {
    "id": "6GUjAMtQRM3s"
   },
   "source": [
    "## Examine the data"
   ]
  },
  {
   "cell_type": "code",
   "execution_count": null,
   "metadata": {
    "colab": {
     "base_uri": "https://localhost:8080/",
     "height": 876
    },
    "executionInfo": {
     "elapsed": 1454,
     "status": "ok",
     "timestamp": 1738377860195,
     "user": {
      "displayName": "Ryan Roussel",
      "userId": "02503318963409515820"
     },
     "user_tz": 360
    },
    "id": "rAM_FoqjRM3s",
    "outputId": "22fe9a8c-44be-48af-8889-7eef08150227"
   },
   "outputs": [],
   "source": [
    "examples = enumerate(test_loader)\n",
    "batch_idx, (example_data, example_targets) = next(examples)\n",
    "print(example_data.shape)\n",
    "\n",
    "fig = plt.figure()\n",
    "for i in range(6):\n",
    "    plt.subplot(2,3,i+1)\n",
    "    plt.tight_layout()\n",
    "    plt.imshow(example_data[i][0], cmap='gray', interpolation='none')\n",
    "    plt.title(\"Ground Truth: {}\".format(example_targets[i]))\n",
    "    plt.xticks([])\n",
    "    plt.yticks([])\n",
    "fig"
   ]
  },
  {
   "cell_type": "markdown",
   "metadata": {
    "id": "yKzccuGGRM3t"
   },
   "source": [
    "# Build a Neural Network model (using fully connected layers)"
   ]
  },
  {
   "cell_type": "code",
   "execution_count": null,
   "metadata": {
    "executionInfo": {
     "elapsed": 3,
     "status": "ok",
     "timestamp": 1738377860195,
     "user": {
      "displayName": "Ryan Roussel",
      "userId": "02503318963409515820"
     },
     "user_tz": 360
    },
    "id": "fdz9yck7RM3t"
   },
   "outputs": [],
   "source": [
    "# we use a simple fully connected network using one hidden layer with a ReLU activation function\n",
    "# the output layer is a log_softmax layer that normalizes the output such that the sum of outputs is one.\n",
    "# See https://pytorch.org/docs/stable/generated/torch.nn.LogSoftmax.html for details\n",
    "class NN(nn.Module):\n",
    "    def __init__(self):\n",
    "        super(NN, self).__init__()\n",
    "\n",
    "        hidden_size = 20\n",
    "\n",
    "        self.linear1 = nn.Linear(784, hidden_size)\n",
    "        self.relu = nn.ReLU()\n",
    "        self.linear2 = nn.Linear(hidden_size, 10)\n",
    "\n",
    "    def forward(self, x):\n",
    "        #note that the data x is shape (batch_size, 1, 28, 28) need to reshape to flatten image -> (batch_size, 1, 784)\n",
    "        x = x.view((x.shape[0], 784))\n",
    "\n",
    "        #propagate through model\n",
    "        x = self.linear1(x)\n",
    "        x = self.relu(x)\n",
    "        x = self.linear2(x)\n",
    "\n",
    "        return F.log_softmax(x)"
   ]
  },
  {
   "cell_type": "code",
   "execution_count": null,
   "metadata": {
    "executionInfo": {
     "elapsed": 3,
     "status": "ok",
     "timestamp": 1738377860195,
     "user": {
      "displayName": "Ryan Roussel",
      "userId": "02503318963409515820"
     },
     "user_tz": 360
    },
    "id": "bNoQyg3SRM3u"
   },
   "outputs": [],
   "source": [
    "\n",
    "learning_rate = 0.1\n",
    "momentum = 0.5\n",
    "log_interval = 10\n",
    "\n",
    "fully_connected_model = NN()\n",
    "optimizer = optim.SGD(fully_connected_model.parameters(), lr=learning_rate,\n",
    "                      momentum=momentum)"
   ]
  },
  {
   "cell_type": "markdown",
   "metadata": {
    "id": "P6e0cqSsRM3u"
   },
   "source": [
    "## Train the model\n",
    "\n",
    "### **Task:**\n",
    "Insert code inside the training loop in the training function below. Then train the model and plot the loss as a function of training steps. The loss function in this case is `F.nll_loss()`.\n"
   ]
  },
  {
   "cell_type": "code",
   "execution_count": null,
   "metadata": {
    "executionInfo": {
     "elapsed": 3,
     "status": "ok",
     "timestamp": 1738377860195,
     "user": {
      "displayName": "Ryan Roussel",
      "userId": "02503318963409515820"
     },
     "user_tz": 360
    },
    "id": "AkMytH6wRmb1"
   },
   "outputs": [],
   "source": [
    "if not os.path.exists(cwd + '/results'):\n",
    "    os.makedirs(cwd + '/results')"
   ]
  },
  {
   "cell_type": "code",
   "execution_count": null,
   "metadata": {
    "executionInfo": {
     "elapsed": 3,
     "status": "ok",
     "timestamp": 1738377860196,
     "user": {
      "displayName": "Ryan Roussel",
      "userId": "02503318963409515820"
     },
     "user_tz": 360
    },
    "id": "ym4MkKs9RM3u"
   },
   "outputs": [],
   "source": [
    "def train_model(model, epochs, train_loader, optimizer):\n",
    "\n",
    "    train_losses = []\n",
    "    train_counter = []\n",
    "\n",
    "    #set network to training mode\n",
    "    model.train()\n",
    "    for epoch in range(epochs):\n",
    "        #iterate through data batches\n",
    "        for batch_idx, (data, target) in enumerate(train_loader):\n",
    "\n",
    "\n",
    "            #print out results and save to file\n",
    "            if batch_idx % log_interval == 0:\n",
    "                print('Train Epoch: {} [{}/{} ({:.0f}%)]\\tLoss: {:.6f}'.format(\n",
    "                        epoch, batch_idx * len(data), len(train_loader.dataset),\n",
    "                        100. * batch_idx / len(train_loader), loss.item()))\n",
    "            train_losses.append(loss.item())\n",
    "            train_counter.append(\n",
    "                (batch_idx*batch_size_train) + (epoch*len(train_loader.dataset)))\n",
    "            torch.save(model.state_dict(), cwd + '/results/model.pth')\n",
    "            torch.save(optimizer.state_dict(), cwd + '/results/optimizer.pth')\n",
    "\n",
    "    return train_losses, train_counter"
   ]
  },
  {
   "cell_type": "code",
   "execution_count": null,
   "metadata": {
    "executionInfo": {
     "elapsed": 3,
     "status": "ok",
     "timestamp": 1738377860196,
     "user": {
      "displayName": "Ryan Roussel",
      "userId": "02503318963409515820"
     },
     "user_tz": 360
    },
    "id": "pRMYbgJ5RM3u"
   },
   "outputs": [],
   "source": [
    "def test_model(model,loader):\n",
    "    test_losses = []\n",
    "    model.eval()\n",
    "    test_loss = 0\n",
    "    correct = 0\n",
    "    with torch.no_grad():\n",
    "        for data, target in loader:\n",
    "            output = model(data)\n",
    "            test_loss += F.nll_loss(output, target, size_average=False).item()\n",
    "            pred = output.data.max(1, keepdim=True)[1]\n",
    "            correct += pred.eq(target.data.view_as(pred)).sum()\n",
    "    test_loss /= len(test_loader.dataset)\n",
    "    test_losses.append(test_loss)\n",
    "    print('\\nTest set: Avg. loss: {:.4f}, Accuracy: {}/{} ({:.0f}%)\\n'.format(\n",
    "        test_loss, correct, len(test_loader.dataset),\n",
    "        100. * correct / len(test_loader.dataset)))\n",
    "\n",
    "    return test_losses"
   ]
  },
  {
   "cell_type": "code",
   "execution_count": null,
   "metadata": {
    "executionInfo": {
     "elapsed": 2,
     "status": "ok",
     "timestamp": 1738377952432,
     "user": {
      "displayName": "Ryan Roussel",
      "userId": "02503318963409515820"
     },
     "user_tz": 360
    },
    "id": "JGOA-2JKRM3v"
   },
   "outputs": [],
   "source": []
  },
  {
   "cell_type": "markdown",
   "metadata": {
    "id": "pc1oyEPsRM3v"
   },
   "source": [
    "# Build model with CNN Layers\n",
    "For the MNIST data set it is reasonable to use a fully connected network. If we have larger images then this scales poorly and becomes impractical quickly. Instead we can use a Convolutional neural network (CNN)."
   ]
  },
  {
   "cell_type": "code",
   "execution_count": null,
   "metadata": {
    "executionInfo": {
     "elapsed": 113,
     "status": "ok",
     "timestamp": 1738377952543,
     "user": {
      "displayName": "Ryan Roussel",
      "userId": "02503318963409515820"
     },
     "user_tz": 360
    },
    "id": "OlY6A5TxRM3w"
   },
   "outputs": [],
   "source": [
    "class CNN(nn.Module):\n",
    "    def __init__(self):\n",
    "        super(CNN, self).__init__()\n",
    "        self.conv1 = nn.Conv2d(1, 10, kernel_size=5)\n",
    "        self.conv2 = nn.Conv2d(10, 20, kernel_size=5)\n",
    "        self.conv2_drop = nn.Dropout2d()\n",
    "        self.fc1 = nn.Linear(320, 50)\n",
    "        self.fc2 = nn.Linear(50, 10)\n",
    "\n",
    "    def forward(self, x):\n",
    "        x = F.relu(F.max_pool2d(self.conv1(x), 2))\n",
    "        x = F.relu(F.max_pool2d(self.conv2_drop(self.conv2(x)), 2))\n",
    "        x = x.view(-1, 320)\n",
    "        x = F.relu(self.fc1(x))\n",
    "        x = F.dropout(x, training=self.training)\n",
    "        x = self.fc2(x)\n",
    "        return F.log_softmax(x)"
   ]
  },
  {
   "cell_type": "markdown",
   "metadata": {
    "id": "4Gdx609ORM3w"
   },
   "source": [
    "## Train the model\n",
    "\n",
    "### **Task:**\n",
    "Train the CNN model and plot the loss as a function of number of training examples seen.\n"
   ]
  },
  {
   "cell_type": "code",
   "execution_count": null,
   "metadata": {
    "colab": {
     "base_uri": "https://localhost:8080/"
    },
    "executionInfo": {
     "elapsed": 114589,
     "status": "ok",
     "timestamp": 1738378067131,
     "user": {
      "displayName": "Ryan Roussel",
      "userId": "02503318963409515820"
     },
     "user_tz": 360
    },
    "id": "sDA18QzZRM3w",
    "outputId": "e068b4c5-b9bb-48b8-92cb-3fd69993b82b"
   },
   "outputs": [],
   "source": []
  },
  {
   "cell_type": "code",
   "execution_count": null,
   "metadata": {
    "colab": {
     "base_uri": "https://localhost:8080/",
     "height": 466
    },
    "executionInfo": {
     "elapsed": 250,
     "status": "ok",
     "timestamp": 1738378067378,
     "user": {
      "displayName": "Ryan Roussel",
      "userId": "02503318963409515820"
     },
     "user_tz": 360
    },
    "id": "n787b8RmRM3w",
    "outputId": "ba50865c-a6b9-403b-f683-7b8c79390551"
   },
   "outputs": [],
   "source": []
  },
  {
   "cell_type": "markdown",
   "metadata": {
    "id": "vIL5BNiIRM3w"
   },
   "source": [
    "# NN for AWA Photoinjector\n",
    "\n",
    "### **Homework:**\n",
    "    \n",
    "Now its your turn! Implement and train a NN model to perform regression on data from the AWA photoinjector.\n",
    "    \n",
    "- The input layer should accept 6 parameters and return 7 parameters\n",
    "- Start with 3 hidden layers with 20 neurons each and tanh activiation functions (since we are doing regression, not classification)\n",
    "- Use the MSELoss function `torch.nn.functional.mse_loss()`"
   ]
  },
  {
   "cell_type": "code",
   "execution_count": null,
   "metadata": {
    "colab": {
     "base_uri": "https://localhost:8080/"
    },
    "executionInfo": {
     "elapsed": 2267,
     "status": "ok",
     "timestamp": 1738378227955,
     "user": {
      "displayName": "Ryan Roussel",
      "userId": "02503318963409515820"
     },
     "user_tz": 360
    },
    "id": "E_Bhb0GiRM3w",
    "outputId": "c0fc7512-efa9-4b4b-b309-749dae7d9da7"
   },
   "outputs": [],
   "source": [
    "#load AWA data\n",
    "df = pd.read_pickle(drive_directory + 'AWA_data.pkl')\n",
    "features = ['P0','P1','G0','G1','K1','K2']\n",
    "targets = ['rms_x','rms_y','rms_s','emit_x','emit_y','emit_s','dE']\n",
    "\n",
    "n_train = 70000\n",
    "n_test = 30000\n",
    "batch_size = 1024\n",
    "\n",
    "#create test and train datasets\n",
    "train_data = torch.utils.data.TensorDataset(torch.tensor(df.head(n_train)[features].values).float(),\n",
    "                                            torch.tensor(df.head(n_train)[targets].values).float())\n",
    "\n",
    "test_data = torch.utils.data.TensorDataset(torch.tensor(df.tail(n_test)[features].values).float(),\n",
    "                                           torch.tensor(df.tail(n_test)[targets].values).float())\n",
    "\n",
    "train_loader = torch.utils.data.DataLoader(train_data, batch_size=batch_size, shuffle=True)\n",
    "test_loader = torch.utils.data.DataLoader(test_data, batch_size=batch_size, shuffle=True)\n",
    "\n",
    "\n",
    "examples = enumerate(train_loader)\n",
    "batch_idx, (example_data, example_targets) = next(examples)\n",
    "print(example_data.shape)\n"
   ]
  },
  {
   "cell_type": "code",
   "execution_count": null,
   "metadata": {
    "executionInfo": {
     "elapsed": 114,
     "status": "ok",
     "timestamp": 1738378230809,
     "user": {
      "displayName": "Ryan Roussel",
      "userId": "02503318963409515820"
     },
     "user_tz": 360
    },
    "id": "GRNPSubERM3x"
   },
   "outputs": [],
   "source": [
    "def train_model(model):\n",
    "    pass"
   ]
  },
  {
   "cell_type": "code",
   "execution_count": 1,
   "metadata": {
    "executionInfo": {
     "elapsed": 97,
     "status": "ok",
     "timestamp": 1738378231215,
     "user": {
      "displayName": "Ryan Roussel",
      "userId": "02503318963409515820"
     },
     "user_tz": 360
    },
    "id": "ZHPCGksbRM3x"
   },
   "outputs": [],
   "source": [
    "def test_model(model):\n",
    "    model.eval()\n",
    "    with torch.no_grad():\n",
    "        data,target = test_loader.dataset.tensors\n",
    "        output = model(data)\n",
    "        test_loss = F.mse_loss(output, target).item()\n",
    "\n",
    "    return test_loss"
   ]
  },
  {
   "cell_type": "code",
   "execution_count": null,
   "metadata": {
    "colab": {
     "base_uri": "https://localhost:8080/"
    },
    "executionInfo": {
     "elapsed": 15402,
     "status": "ok",
     "timestamp": 1738378247222,
     "user": {
      "displayName": "Ryan Roussel",
      "userId": "02503318963409515820"
     },
     "user_tz": 360
    },
    "id": "8YCQh1psRM3x",
    "outputId": "1083f4d2-fe41-4e63-9d9a-d5c634269c0a"
   },
   "outputs": [],
   "source": []
  }
 ],
 "metadata": {
  "colab": {
   "provenance": []
  },
  "kernelspec": {
   "display_name": "Python 3 (ipykernel)",
   "language": "python",
   "name": "python3"
  },
  "language_info": {
   "codemirror_mode": {
    "name": "ipython",
    "version": 3
   },
   "file_extension": ".py",
   "mimetype": "text/x-python",
   "name": "python",
   "nbconvert_exporter": "python",
   "pygments_lexer": "ipython3",
   "version": "3.12.0"
  }
 },
 "nbformat": 4,
 "nbformat_minor": 4
}
