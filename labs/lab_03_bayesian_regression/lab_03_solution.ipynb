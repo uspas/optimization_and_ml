{
 "cells": [
  {
   "cell_type": "markdown",
   "metadata": {
    "id": "uwXV1t5Rov1v"
   },
   "source": [
    "# Lab 03 - Gaussian Process Modeling\n",
    "## Tasks\n",
    "- Construct a Gaussian Process model using GPyTorch and tune hyperparameters of GP model given noisy data\n",
    "- Construct Gaussian Process models using the Xopt package\n",
    "- Gaussian Process model visualization and sampling"
   ]
  },
  {
   "cell_type": "markdown",
   "metadata": {
    "id": "urfcN6v_ov1w"
   },
   "source": [
    "# Imports"
   ]
  },
  {
   "cell_type": "code",
   "execution_count": 8,
   "metadata": {
    "colab": {
     "base_uri": "https://localhost:8080/"
    },
    "id": "pYpEBMB7o5CC",
    "outputId": "8b5ed0d8-7b26-4542-d08d-7ac88b8e1f89"
   },
   "outputs": [
    {
     "name": "stdout",
     "output_type": "stream",
     "text": [
      "Requirement already satisfied: botorch==0.12.0 in /usr/local/lib/python3.11/dist-packages (0.12.0)\n",
      "Requirement already satisfied: gpytorch in /usr/local/lib/python3.11/dist-packages (1.13)\n",
      "Requirement already satisfied: xopt==2.5.2 in /usr/local/lib/python3.11/dist-packages (2.5.2)\n",
      "Requirement already satisfied: multipledispatch in /usr/local/lib/python3.11/dist-packages (from botorch==0.12.0) (1.0.0)\n",
      "Requirement already satisfied: scipy in /usr/local/lib/python3.11/dist-packages (from botorch==0.12.0) (1.13.1)\n",
      "Requirement already satisfied: mpmath<=1.3,>=0.19 in /usr/local/lib/python3.11/dist-packages (from botorch==0.12.0) (1.3.0)\n",
      "Requirement already satisfied: torch>=2.0.1 in /usr/local/lib/python3.11/dist-packages (from botorch==0.12.0) (2.5.1+cu124)\n",
      "Requirement already satisfied: pyro-ppl>=1.8.4 in /usr/local/lib/python3.11/dist-packages (from botorch==0.12.0) (1.9.1)\n",
      "Requirement already satisfied: typing-extensions in /usr/local/lib/python3.11/dist-packages (from botorch==0.12.0) (4.12.2)\n",
      "Requirement already satisfied: linear-operator==0.5.3 in /usr/local/lib/python3.11/dist-packages (from botorch==0.12.0) (0.5.3)\n",
      "Requirement already satisfied: jaxtyping==0.2.19 in /usr/local/lib/python3.11/dist-packages (from gpytorch) (0.2.19)\n",
      "Requirement already satisfied: scikit-learn in /usr/local/lib/python3.11/dist-packages (from gpytorch) (1.6.1)\n",
      "Requirement already satisfied: deap in /usr/local/lib/python3.11/dist-packages (from xopt==2.5.2) (1.4.2)\n",
      "Requirement already satisfied: numpy in /usr/local/lib/python3.11/dist-packages (from xopt==2.5.2) (1.26.4)\n",
      "Requirement already satisfied: pydantic>=2.3 in /usr/local/lib/python3.11/dist-packages (from xopt==2.5.2) (2.10.6)\n",
      "Requirement already satisfied: pyyaml in /usr/local/lib/python3.11/dist-packages (from xopt==2.5.2) (6.0.2)\n",
      "Requirement already satisfied: pandas in /usr/local/lib/python3.11/dist-packages (from xopt==2.5.2) (2.2.2)\n",
      "Requirement already satisfied: ipywidgets in /usr/local/lib/python3.11/dist-packages (from xopt==2.5.2) (7.7.1)\n",
      "Requirement already satisfied: tqdm in /usr/local/lib/python3.11/dist-packages (from xopt==2.5.2) (4.67.1)\n",
      "Requirement already satisfied: orjson in /usr/local/lib/python3.11/dist-packages (from xopt==2.5.2) (3.10.15)\n",
      "Requirement already satisfied: matplotlib in /usr/local/lib/python3.11/dist-packages (from xopt==2.5.2) (3.10.0)\n",
      "Requirement already satisfied: typeguard>=2.13.3 in /usr/local/lib/python3.11/dist-packages (from jaxtyping==0.2.19->gpytorch) (4.4.1)\n",
      "Requirement already satisfied: annotated-types>=0.6.0 in /usr/local/lib/python3.11/dist-packages (from pydantic>=2.3->xopt==2.5.2) (0.7.0)\n",
      "Requirement already satisfied: pydantic-core==2.27.2 in /usr/local/lib/python3.11/dist-packages (from pydantic>=2.3->xopt==2.5.2) (2.27.2)\n",
      "Requirement already satisfied: opt-einsum>=2.3.2 in /usr/local/lib/python3.11/dist-packages (from pyro-ppl>=1.8.4->botorch==0.12.0) (3.4.0)\n",
      "Requirement already satisfied: pyro-api>=0.1.1 in /usr/local/lib/python3.11/dist-packages (from pyro-ppl>=1.8.4->botorch==0.12.0) (0.1.2)\n",
      "Requirement already satisfied: filelock in /usr/local/lib/python3.11/dist-packages (from torch>=2.0.1->botorch==0.12.0) (3.17.0)\n",
      "Requirement already satisfied: networkx in /usr/local/lib/python3.11/dist-packages (from torch>=2.0.1->botorch==0.12.0) (3.4.2)\n",
      "Requirement already satisfied: jinja2 in /usr/local/lib/python3.11/dist-packages (from torch>=2.0.1->botorch==0.12.0) (3.1.5)\n",
      "Requirement already satisfied: fsspec in /usr/local/lib/python3.11/dist-packages (from torch>=2.0.1->botorch==0.12.0) (2024.10.0)\n",
      "Requirement already satisfied: nvidia-cuda-nvrtc-cu12==12.4.127 in /usr/local/lib/python3.11/dist-packages (from torch>=2.0.1->botorch==0.12.0) (12.4.127)\n",
      "Requirement already satisfied: nvidia-cuda-runtime-cu12==12.4.127 in /usr/local/lib/python3.11/dist-packages (from torch>=2.0.1->botorch==0.12.0) (12.4.127)\n",
      "Requirement already satisfied: nvidia-cuda-cupti-cu12==12.4.127 in /usr/local/lib/python3.11/dist-packages (from torch>=2.0.1->botorch==0.12.0) (12.4.127)\n",
      "Requirement already satisfied: nvidia-cudnn-cu12==9.1.0.70 in /usr/local/lib/python3.11/dist-packages (from torch>=2.0.1->botorch==0.12.0) (9.1.0.70)\n",
      "Requirement already satisfied: nvidia-cublas-cu12==12.4.5.8 in /usr/local/lib/python3.11/dist-packages (from torch>=2.0.1->botorch==0.12.0) (12.4.5.8)\n",
      "Requirement already satisfied: nvidia-cufft-cu12==11.2.1.3 in /usr/local/lib/python3.11/dist-packages (from torch>=2.0.1->botorch==0.12.0) (11.2.1.3)\n",
      "Requirement already satisfied: nvidia-curand-cu12==10.3.5.147 in /usr/local/lib/python3.11/dist-packages (from torch>=2.0.1->botorch==0.12.0) (10.3.5.147)\n",
      "Requirement already satisfied: nvidia-cusolver-cu12==11.6.1.9 in /usr/local/lib/python3.11/dist-packages (from torch>=2.0.1->botorch==0.12.0) (11.6.1.9)\n",
      "Requirement already satisfied: nvidia-cusparse-cu12==12.3.1.170 in /usr/local/lib/python3.11/dist-packages (from torch>=2.0.1->botorch==0.12.0) (12.3.1.170)\n",
      "Requirement already satisfied: nvidia-nccl-cu12==2.21.5 in /usr/local/lib/python3.11/dist-packages (from torch>=2.0.1->botorch==0.12.0) (2.21.5)\n",
      "Requirement already satisfied: nvidia-nvtx-cu12==12.4.127 in /usr/local/lib/python3.11/dist-packages (from torch>=2.0.1->botorch==0.12.0) (12.4.127)\n",
      "Requirement already satisfied: nvidia-nvjitlink-cu12==12.4.127 in /usr/local/lib/python3.11/dist-packages (from torch>=2.0.1->botorch==0.12.0) (12.4.127)\n",
      "Requirement already satisfied: triton==3.1.0 in /usr/local/lib/python3.11/dist-packages (from torch>=2.0.1->botorch==0.12.0) (3.1.0)\n",
      "Requirement already satisfied: sympy==1.13.1 in /usr/local/lib/python3.11/dist-packages (from torch>=2.0.1->botorch==0.12.0) (1.13.1)\n",
      "Requirement already satisfied: ipykernel>=4.5.1 in /usr/local/lib/python3.11/dist-packages (from ipywidgets->xopt==2.5.2) (5.5.6)\n",
      "Requirement already satisfied: ipython-genutils~=0.2.0 in /usr/local/lib/python3.11/dist-packages (from ipywidgets->xopt==2.5.2) (0.2.0)\n",
      "Requirement already satisfied: traitlets>=4.3.1 in /usr/local/lib/python3.11/dist-packages (from ipywidgets->xopt==2.5.2) (5.7.1)\n",
      "Requirement already satisfied: widgetsnbextension~=3.6.0 in /usr/local/lib/python3.11/dist-packages (from ipywidgets->xopt==2.5.2) (3.6.10)\n",
      "Requirement already satisfied: ipython>=4.0.0 in /usr/local/lib/python3.11/dist-packages (from ipywidgets->xopt==2.5.2) (7.34.0)\n",
      "Requirement already satisfied: jupyterlab-widgets>=1.0.0 in /usr/local/lib/python3.11/dist-packages (from ipywidgets->xopt==2.5.2) (3.0.13)\n",
      "Requirement already satisfied: contourpy>=1.0.1 in /usr/local/lib/python3.11/dist-packages (from matplotlib->xopt==2.5.2) (1.3.1)\n",
      "Requirement already satisfied: cycler>=0.10 in /usr/local/lib/python3.11/dist-packages (from matplotlib->xopt==2.5.2) (0.12.1)\n",
      "Requirement already satisfied: fonttools>=4.22.0 in /usr/local/lib/python3.11/dist-packages (from matplotlib->xopt==2.5.2) (4.55.7)\n",
      "Requirement already satisfied: kiwisolver>=1.3.1 in /usr/local/lib/python3.11/dist-packages (from matplotlib->xopt==2.5.2) (1.4.8)\n",
      "Requirement already satisfied: packaging>=20.0 in /usr/local/lib/python3.11/dist-packages (from matplotlib->xopt==2.5.2) (24.2)\n",
      "Requirement already satisfied: pillow>=8 in /usr/local/lib/python3.11/dist-packages (from matplotlib->xopt==2.5.2) (11.1.0)\n",
      "Requirement already satisfied: pyparsing>=2.3.1 in /usr/local/lib/python3.11/dist-packages (from matplotlib->xopt==2.5.2) (3.2.1)\n",
      "Requirement already satisfied: python-dateutil>=2.7 in /usr/local/lib/python3.11/dist-packages (from matplotlib->xopt==2.5.2) (2.8.2)\n",
      "Requirement already satisfied: pytz>=2020.1 in /usr/local/lib/python3.11/dist-packages (from pandas->xopt==2.5.2) (2024.2)\n",
      "Requirement already satisfied: tzdata>=2022.7 in /usr/local/lib/python3.11/dist-packages (from pandas->xopt==2.5.2) (2025.1)\n",
      "Requirement already satisfied: joblib>=1.2.0 in /usr/local/lib/python3.11/dist-packages (from scikit-learn->gpytorch) (1.4.2)\n",
      "Requirement already satisfied: threadpoolctl>=3.1.0 in /usr/local/lib/python3.11/dist-packages (from scikit-learn->gpytorch) (3.5.0)\n",
      "Requirement already satisfied: jupyter-client in /usr/local/lib/python3.11/dist-packages (from ipykernel>=4.5.1->ipywidgets->xopt==2.5.2) (6.1.12)\n",
      "Requirement already satisfied: tornado>=4.2 in /usr/local/lib/python3.11/dist-packages (from ipykernel>=4.5.1->ipywidgets->xopt==2.5.2) (6.4.2)\n",
      "Requirement already satisfied: setuptools>=18.5 in /usr/local/lib/python3.11/dist-packages (from ipython>=4.0.0->ipywidgets->xopt==2.5.2) (75.1.0)\n",
      "Requirement already satisfied: jedi>=0.16 in /usr/local/lib/python3.11/dist-packages (from ipython>=4.0.0->ipywidgets->xopt==2.5.2) (0.19.2)\n",
      "Requirement already satisfied: decorator in /usr/local/lib/python3.11/dist-packages (from ipython>=4.0.0->ipywidgets->xopt==2.5.2) (4.4.2)\n",
      "Requirement already satisfied: pickleshare in /usr/local/lib/python3.11/dist-packages (from ipython>=4.0.0->ipywidgets->xopt==2.5.2) (0.7.5)\n",
      "Requirement already satisfied: prompt-toolkit!=3.0.0,!=3.0.1,<3.1.0,>=2.0.0 in /usr/local/lib/python3.11/dist-packages (from ipython>=4.0.0->ipywidgets->xopt==2.5.2) (3.0.50)\n",
      "Requirement already satisfied: pygments in /usr/local/lib/python3.11/dist-packages (from ipython>=4.0.0->ipywidgets->xopt==2.5.2) (2.18.0)\n",
      "Requirement already satisfied: backcall in /usr/local/lib/python3.11/dist-packages (from ipython>=4.0.0->ipywidgets->xopt==2.5.2) (0.2.0)\n",
      "Requirement already satisfied: matplotlib-inline in /usr/local/lib/python3.11/dist-packages (from ipython>=4.0.0->ipywidgets->xopt==2.5.2) (0.1.7)\n",
      "Requirement already satisfied: pexpect>4.3 in /usr/local/lib/python3.11/dist-packages (from ipython>=4.0.0->ipywidgets->xopt==2.5.2) (4.9.0)\n",
      "Requirement already satisfied: six>=1.5 in /usr/local/lib/python3.11/dist-packages (from python-dateutil>=2.7->matplotlib->xopt==2.5.2) (1.17.0)\n",
      "Requirement already satisfied: notebook>=4.4.1 in /usr/local/lib/python3.11/dist-packages (from widgetsnbextension~=3.6.0->ipywidgets->xopt==2.5.2) (6.5.5)\n",
      "Requirement already satisfied: MarkupSafe>=2.0 in /usr/local/lib/python3.11/dist-packages (from jinja2->torch>=2.0.1->botorch==0.12.0) (3.0.2)\n",
      "Requirement already satisfied: parso<0.9.0,>=0.8.4 in /usr/local/lib/python3.11/dist-packages (from jedi>=0.16->ipython>=4.0.0->ipywidgets->xopt==2.5.2) (0.8.4)\n",
      "Requirement already satisfied: pyzmq<25,>=17 in /usr/local/lib/python3.11/dist-packages (from notebook>=4.4.1->widgetsnbextension~=3.6.0->ipywidgets->xopt==2.5.2) (24.0.1)\n",
      "Requirement already satisfied: argon2-cffi in /usr/local/lib/python3.11/dist-packages (from notebook>=4.4.1->widgetsnbextension~=3.6.0->ipywidgets->xopt==2.5.2) (23.1.0)\n",
      "Requirement already satisfied: jupyter-core>=4.6.1 in /usr/local/lib/python3.11/dist-packages (from notebook>=4.4.1->widgetsnbextension~=3.6.0->ipywidgets->xopt==2.5.2) (5.7.2)\n",
      "Requirement already satisfied: nbformat in /usr/local/lib/python3.11/dist-packages (from notebook>=4.4.1->widgetsnbextension~=3.6.0->ipywidgets->xopt==2.5.2) (5.10.4)\n",
      "Requirement already satisfied: nbconvert>=5 in /usr/local/lib/python3.11/dist-packages (from notebook>=4.4.1->widgetsnbextension~=3.6.0->ipywidgets->xopt==2.5.2) (7.16.6)\n",
      "Requirement already satisfied: nest-asyncio>=1.5 in /usr/local/lib/python3.11/dist-packages (from notebook>=4.4.1->widgetsnbextension~=3.6.0->ipywidgets->xopt==2.5.2) (1.6.0)\n",
      "Requirement already satisfied: Send2Trash>=1.8.0 in /usr/local/lib/python3.11/dist-packages (from notebook>=4.4.1->widgetsnbextension~=3.6.0->ipywidgets->xopt==2.5.2) (1.8.3)\n",
      "Requirement already satisfied: terminado>=0.8.3 in /usr/local/lib/python3.11/dist-packages (from notebook>=4.4.1->widgetsnbextension~=3.6.0->ipywidgets->xopt==2.5.2) (0.18.1)\n",
      "Requirement already satisfied: prometheus-client in /usr/local/lib/python3.11/dist-packages (from notebook>=4.4.1->widgetsnbextension~=3.6.0->ipywidgets->xopt==2.5.2) (0.21.1)\n",
      "Requirement already satisfied: nbclassic>=0.4.7 in /usr/local/lib/python3.11/dist-packages (from notebook>=4.4.1->widgetsnbextension~=3.6.0->ipywidgets->xopt==2.5.2) (1.2.0)\n",
      "Requirement already satisfied: ptyprocess>=0.5 in /usr/local/lib/python3.11/dist-packages (from pexpect>4.3->ipython>=4.0.0->ipywidgets->xopt==2.5.2) (0.7.0)\n",
      "Requirement already satisfied: wcwidth in /usr/local/lib/python3.11/dist-packages (from prompt-toolkit!=3.0.0,!=3.0.1,<3.1.0,>=2.0.0->ipython>=4.0.0->ipywidgets->xopt==2.5.2) (0.2.13)\n",
      "Requirement already satisfied: platformdirs>=2.5 in /usr/local/lib/python3.11/dist-packages (from jupyter-core>=4.6.1->notebook>=4.4.1->widgetsnbextension~=3.6.0->ipywidgets->xopt==2.5.2) (4.3.6)\n",
      "Requirement already satisfied: notebook-shim>=0.2.3 in /usr/local/lib/python3.11/dist-packages (from nbclassic>=0.4.7->notebook>=4.4.1->widgetsnbextension~=3.6.0->ipywidgets->xopt==2.5.2) (0.2.4)\n",
      "Requirement already satisfied: beautifulsoup4 in /usr/local/lib/python3.11/dist-packages (from nbconvert>=5->notebook>=4.4.1->widgetsnbextension~=3.6.0->ipywidgets->xopt==2.5.2) (4.12.3)\n",
      "Requirement already satisfied: bleach!=5.0.0 in /usr/local/lib/python3.11/dist-packages (from bleach[css]!=5.0.0->nbconvert>=5->notebook>=4.4.1->widgetsnbextension~=3.6.0->ipywidgets->xopt==2.5.2) (6.2.0)\n",
      "Requirement already satisfied: defusedxml in /usr/local/lib/python3.11/dist-packages (from nbconvert>=5->notebook>=4.4.1->widgetsnbextension~=3.6.0->ipywidgets->xopt==2.5.2) (0.7.1)\n",
      "Requirement already satisfied: jupyterlab-pygments in /usr/local/lib/python3.11/dist-packages (from nbconvert>=5->notebook>=4.4.1->widgetsnbextension~=3.6.0->ipywidgets->xopt==2.5.2) (0.3.0)\n",
      "Requirement already satisfied: mistune<4,>=2.0.3 in /usr/local/lib/python3.11/dist-packages (from nbconvert>=5->notebook>=4.4.1->widgetsnbextension~=3.6.0->ipywidgets->xopt==2.5.2) (3.1.1)\n",
      "Requirement already satisfied: nbclient>=0.5.0 in /usr/local/lib/python3.11/dist-packages (from nbconvert>=5->notebook>=4.4.1->widgetsnbextension~=3.6.0->ipywidgets->xopt==2.5.2) (0.10.2)\n",
      "Requirement already satisfied: pandocfilters>=1.4.1 in /usr/local/lib/python3.11/dist-packages (from nbconvert>=5->notebook>=4.4.1->widgetsnbextension~=3.6.0->ipywidgets->xopt==2.5.2) (1.5.1)\n",
      "Requirement already satisfied: fastjsonschema>=2.15 in /usr/local/lib/python3.11/dist-packages (from nbformat->notebook>=4.4.1->widgetsnbextension~=3.6.0->ipywidgets->xopt==2.5.2) (2.21.1)\n",
      "Requirement already satisfied: jsonschema>=2.6 in /usr/local/lib/python3.11/dist-packages (from nbformat->notebook>=4.4.1->widgetsnbextension~=3.6.0->ipywidgets->xopt==2.5.2) (4.23.0)\n",
      "Requirement already satisfied: argon2-cffi-bindings in /usr/local/lib/python3.11/dist-packages (from argon2-cffi->notebook>=4.4.1->widgetsnbextension~=3.6.0->ipywidgets->xopt==2.5.2) (21.2.0)\n",
      "Requirement already satisfied: webencodings in /usr/local/lib/python3.11/dist-packages (from bleach!=5.0.0->bleach[css]!=5.0.0->nbconvert>=5->notebook>=4.4.1->widgetsnbextension~=3.6.0->ipywidgets->xopt==2.5.2) (0.5.1)\n",
      "Requirement already satisfied: tinycss2<1.5,>=1.1.0 in /usr/local/lib/python3.11/dist-packages (from bleach[css]!=5.0.0->nbconvert>=5->notebook>=4.4.1->widgetsnbextension~=3.6.0->ipywidgets->xopt==2.5.2) (1.4.0)\n",
      "Requirement already satisfied: attrs>=22.2.0 in /usr/local/lib/python3.11/dist-packages (from jsonschema>=2.6->nbformat->notebook>=4.4.1->widgetsnbextension~=3.6.0->ipywidgets->xopt==2.5.2) (25.1.0)\n",
      "Requirement already satisfied: jsonschema-specifications>=2023.03.6 in /usr/local/lib/python3.11/dist-packages (from jsonschema>=2.6->nbformat->notebook>=4.4.1->widgetsnbextension~=3.6.0->ipywidgets->xopt==2.5.2) (2024.10.1)\n",
      "Requirement already satisfied: referencing>=0.28.4 in /usr/local/lib/python3.11/dist-packages (from jsonschema>=2.6->nbformat->notebook>=4.4.1->widgetsnbextension~=3.6.0->ipywidgets->xopt==2.5.2) (0.36.2)\n",
      "Requirement already satisfied: rpds-py>=0.7.1 in /usr/local/lib/python3.11/dist-packages (from jsonschema>=2.6->nbformat->notebook>=4.4.1->widgetsnbextension~=3.6.0->ipywidgets->xopt==2.5.2) (0.22.3)\n",
      "Requirement already satisfied: jupyter-server<3,>=1.8 in /usr/local/lib/python3.11/dist-packages (from notebook-shim>=0.2.3->nbclassic>=0.4.7->notebook>=4.4.1->widgetsnbextension~=3.6.0->ipywidgets->xopt==2.5.2) (1.24.0)\n",
      "Requirement already satisfied: cffi>=1.0.1 in /usr/local/lib/python3.11/dist-packages (from argon2-cffi-bindings->argon2-cffi->notebook>=4.4.1->widgetsnbextension~=3.6.0->ipywidgets->xopt==2.5.2) (1.17.1)\n",
      "Requirement already satisfied: soupsieve>1.2 in /usr/local/lib/python3.11/dist-packages (from beautifulsoup4->nbconvert>=5->notebook>=4.4.1->widgetsnbextension~=3.6.0->ipywidgets->xopt==2.5.2) (2.6)\n",
      "Requirement already satisfied: pycparser in /usr/local/lib/python3.11/dist-packages (from cffi>=1.0.1->argon2-cffi-bindings->argon2-cffi->notebook>=4.4.1->widgetsnbextension~=3.6.0->ipywidgets->xopt==2.5.2) (2.22)\n",
      "Requirement already satisfied: anyio<4,>=3.1.0 in /usr/local/lib/python3.11/dist-packages (from jupyter-server<3,>=1.8->notebook-shim>=0.2.3->nbclassic>=0.4.7->notebook>=4.4.1->widgetsnbextension~=3.6.0->ipywidgets->xopt==2.5.2) (3.7.1)\n",
      "Requirement already satisfied: websocket-client in /usr/local/lib/python3.11/dist-packages (from jupyter-server<3,>=1.8->notebook-shim>=0.2.3->nbclassic>=0.4.7->notebook>=4.4.1->widgetsnbextension~=3.6.0->ipywidgets->xopt==2.5.2) (1.8.0)\n",
      "Requirement already satisfied: idna>=2.8 in /usr/local/lib/python3.11/dist-packages (from anyio<4,>=3.1.0->jupyter-server<3,>=1.8->notebook-shim>=0.2.3->nbclassic>=0.4.7->notebook>=4.4.1->widgetsnbextension~=3.6.0->ipywidgets->xopt==2.5.2) (3.10)\n",
      "Requirement already satisfied: sniffio>=1.1 in /usr/local/lib/python3.11/dist-packages (from anyio<4,>=3.1.0->jupyter-server<3,>=1.8->notebook-shim>=0.2.3->nbclassic>=0.4.7->notebook>=4.4.1->widgetsnbextension~=3.6.0->ipywidgets->xopt==2.5.2) (1.3.1)\n"
     ]
    }
   ],
   "source": [
    "!pip install botorch==0.12.0 gpytorch xopt==2.5.2"
   ]
  },
  {
   "cell_type": "code",
   "execution_count": 9,
   "metadata": {
    "ExecuteTime": {
     "end_time": "2025-01-02T18:18:53.825563600Z",
     "start_time": "2025-01-02T18:18:51.270993700Z"
    },
    "id": "BLwRZCDgov1x"
   },
   "outputs": [],
   "source": [
    "%reset -f\n",
    "\n",
    "import numpy as np\n",
    "import matplotlib.pyplot as plt\n",
    "\n",
    "np.random.seed(0)\n",
    "\n",
    "import torch\n",
    "import gpytorch"
   ]
  },
  {
   "cell_type": "markdown",
   "metadata": {
    "id": "c3OioqGGQKru"
   },
   "source": [
    "# Gaussian Process modeling"
   ]
  },
  {
   "cell_type": "markdown",
   "metadata": {
    "id": "sz6MpV6vov1x"
   },
   "source": [
    "## Generate Data (1D)\n",
    "We are going to look at some data generated by random sampling in the domain [0,1]. The function that generated this data is\n",
    "\n",
    "$$\n",
    "f(x) = \\sin(2\\pi x) + x\n",
    "$$\n",
    "\n",
    "The columns of the array is $(x)$. We need to convert it to a torch tensor to use with GPyTorch."
   ]
  },
  {
   "cell_type": "code",
   "execution_count": 10,
   "metadata": {
    "ExecuteTime": {
     "end_time": "2025-01-02T18:18:53.840563300Z",
     "start_time": "2025-01-02T18:18:53.828563900Z"
    },
    "id": "EeFlf8U7ov1y",
    "tags": []
   },
   "outputs": [],
   "source": [
    "x = np.random.rand(5)\n",
    "train_x = x.reshape(-1,1)\n",
    "train_y = np.sin(2*np.pi*train_x[:,0]) + train_x[:,0] + np.random.randn(train_x.shape[0]) * 0.01\n",
    "\n",
    "train_x = torch.from_numpy(train_x)\n",
    "train_y = torch.from_numpy(train_y)"
   ]
  },
  {
   "cell_type": "markdown",
   "metadata": {
    "id": "WujfYndlov1y"
   },
   "source": [
    "## Define a GP Model in GPyTorch\n",
    "Here we define an Exact GP model using GPyTorch. The model is exact because we have analytic expressions for the integrals associated with the GP likelihood and output distribution. If we had a non-Gaussian likelihood or some other complication that prevented analytic integration we can also use Variational/Approximate/MCMC techniques to approximate the integrals necessary.\n",
    "\n",
    "Taking a close look at the model below we see two important modules:\n",
    "- ```self.mean_module``` which represents the mean function\n",
    "- ```self.covar_module``` which represents the kernel function (or what is used to calculate the kernel matrix\n",
    "\n",
    "Both of these objects are torch.nn.Module objects (see https://pytorch.org/docs/stable/generated/torch.nn.Module.html). PyTorch modules have trainable parameters which we can access when doing training. By grouping the modules inside another PyTorch module (gpytorch.models.ExactGP) lets us easily control which parameters are trained and which are not."
   ]
  },
  {
   "cell_type": "code",
   "execution_count": 11,
   "metadata": {
    "ExecuteTime": {
     "end_time": "2025-01-02T18:18:53.863563600Z",
     "start_time": "2025-01-02T18:18:53.842563400Z"
    },
    "id": "VjsFjD7dov1z"
   },
   "outputs": [],
   "source": [
    "class ExactGPModel(gpytorch.models.ExactGP):\n",
    "    def __init__(self, train_x, train_f, likelihood):\n",
    "        super(ExactGPModel, self).__init__(train_x, train_f, likelihood)\n",
    "        self.mean_module = gpytorch.means.ConstantMean()\n",
    "        self.covar_module = gpytorch.kernels.ScaleKernel(gpytorch.kernels.RBFKernel())\n",
    "\n",
    "    def forward(self, x):\n",
    "        mean_x = self.mean_module(x)\n",
    "        covar_x = self.covar_module(x)\n",
    "        return gpytorch.distributions.MultivariateNormal(mean_x, covar_x)"
   ]
  },
  {
   "cell_type": "markdown",
   "metadata": {
    "id": "SvUpgu15ov1z"
   },
   "source": [
    "Here we initialize our model with the training data and a defined likelihood (also a nn.Module) with a trainable noise parameter."
   ]
  },
  {
   "cell_type": "code",
   "execution_count": 12,
   "metadata": {
    "ExecuteTime": {
     "end_time": "2025-01-02T18:18:54.245563400Z",
     "start_time": "2025-01-02T18:18:53.857563100Z"
    },
    "id": "RREkpLoYov10"
   },
   "outputs": [],
   "source": [
    "likelihood = gpytorch.likelihoods.GaussianLikelihood()\n",
    "model = ExactGPModel(train_x, train_y, likelihood)"
   ]
  },
  {
   "cell_type": "markdown",
   "metadata": {
    "id": "srmZIarjov10"
   },
   "source": [
    "NOTE: All PyTorch modules (including ExactGPModel) have ```.train()``` and ```.eval()``` modes. ```train()``` mode is for optimizing model hyperameters. ```.eval()``` mode is for computing predictions through the model posterior."
   ]
  },
  {
   "cell_type": "markdown",
   "metadata": {
    "id": "31HAqzmwov10"
   },
   "source": [
    "## Training the model\n",
    "Here we train the hyperparameters of the model (the parameters of the covar_module and the mean_module) to maximize the marginal log likelihood (minimize the negative marginal log likelihood). Note that since everything is defined in pyTorch we can use Autograd functionality to get the derivatives which will speed up optimization using the modified gradient descent algorithm ADAM.\n",
    "\n",
    "Also note that several of these hyperparameters (lengthscale and noise) must be strictly positive. Since ADAM is an unconstrained optimizer (which optimizes over the domain (-inf, inf)) gpytorch accounts for this constraint by optimizing the log of the lengthscale (raw_lengthscale). To get the actual lengthscale just use ```model.covar_module.base_kernel.lengthscale.item()```\n",
    "\n",
    "### **Task:**\n",
    "\n",
    "Write the steps for minimizing the negative log likelihood using pytorch. Refer back to Lab 1 for a reminder of how to do this. Use `gpytorch.mlls.ExactMarginalLogLikelihood(likelihood, model)` as the loss function (which we are trying to maximize!). Use your function to train the model and report the marginal log likelihood.\n"
   ]
  },
  {
   "cell_type": "code",
   "execution_count": 13,
   "metadata": {
    "ExecuteTime": {
     "end_time": "2025-01-02T18:18:54.260570100Z",
     "start_time": "2025-01-02T18:18:54.246563500Z"
    },
    "id": "95Zpp_deov10"
   },
   "outputs": [],
   "source": [
    "def train_model(model, likelihood):\n",
    "    # Find optimal model hyperparameters\n",
    "    model.train()\n",
    "    likelihood.train()\n",
    "\n",
    "    # define optimizer\n",
    "    optimizer = torch.optim.Adam(model.parameters(), lr=0.1)\n",
    "    ################################################################\n",
    "    #ANSWER KEY - GPyTorch Training\n",
    "    ################################################################\n",
    "\n",
    "    #set training iterations\n",
    "    training_iter = 100\n",
    "\n",
    "    #print the trainable parameters\n",
    "    for param in model.named_parameters():\n",
    "        print(f'{param[0]} : {param[1]}')\n",
    "\n",
    "    # Use the adam optimizer\n",
    "    optimizer = torch.optim.Adam(model.parameters(), lr=0.1)  # Includes GaussianLikelihood parameters\n",
    "\n",
    "    # \"Loss\" for GPs - the marginal log likelihood\n",
    "    mll = gpytorch.mlls.ExactMarginalLogLikelihood(likelihood, model)\n",
    "\n",
    "    for i in range(training_iter):\n",
    "        # Zero gradients from previous iteration\n",
    "        optimizer.zero_grad()\n",
    "        # Output from model\n",
    "        output = model(train_x)\n",
    "        # Calc loss and backprop gradients\n",
    "        loss = -mll(output, train_y)\n",
    "        loss.backward()\n",
    "        print('Iter %d/%d - Loss: %.3f  noise: %.3f' % (\n",
    "            i + 1, training_iter, loss.item(),\n",
    "            model.likelihood.noise.item()\n",
    "        ))\n",
    "        optimizer.step()\n",
    "\n",
    "\n",
    "    #print the new trainable parameters\n",
    "    for param in model.named_parameters():\n",
    "        print(f'{param[0]} : {param[1]}')\n",
    "\n",
    "    return loss"
   ]
  },
  {
   "cell_type": "code",
   "execution_count": 14,
   "metadata": {
    "ExecuteTime": {
     "end_time": "2025-01-02T18:18:55.285568700Z",
     "start_time": "2025-01-02T18:18:54.262570100Z"
    },
    "colab": {
     "base_uri": "https://localhost:8080/"
    },
    "id": "W3nH6FYuov11",
    "outputId": "67ccd891-b4d5-4ecf-80ec-0eaf4fc254f5",
    "tags": []
   },
   "outputs": [
    {
     "name": "stdout",
     "output_type": "stream",
     "text": [
      "likelihood.noise_covar.raw_noise : Parameter containing:\n",
      "tensor([0.], requires_grad=True)\n",
      "mean_module.raw_constant : Parameter containing:\n",
      "tensor(0., requires_grad=True)\n",
      "covar_module.raw_outputscale : Parameter containing:\n",
      "tensor(0., requires_grad=True)\n",
      "covar_module.base_kernel.raw_lengthscale : Parameter containing:\n",
      "tensor([[0.]], requires_grad=True)\n",
      "Iter 1/100 - Loss: 1.027  noise: 0.693\n",
      "Iter 2/100 - Loss: 0.993  noise: 0.644\n",
      "Iter 3/100 - Loss: 0.961  noise: 0.598\n",
      "Iter 4/100 - Loss: 0.931  noise: 0.554\n",
      "Iter 5/100 - Loss: 0.903  noise: 0.513\n",
      "Iter 6/100 - Loss: 0.874  noise: 0.474\n",
      "Iter 7/100 - Loss: 0.844  noise: 0.438\n",
      "Iter 8/100 - Loss: 0.812  noise: 0.403\n",
      "Iter 9/100 - Loss: 0.781  noise: 0.371\n",
      "Iter 10/100 - Loss: 0.751  noise: 0.341\n",
      "Iter 11/100 - Loss: 0.721  noise: 0.314\n",
      "Iter 12/100 - Loss: 0.691  noise: 0.288\n",
      "Iter 13/100 - Loss: 0.661  noise: 0.264\n",
      "Iter 14/100 - Loss: 0.631  noise: 0.242\n",
      "Iter 15/100 - Loss: 0.600  noise: 0.221\n",
      "Iter 16/100 - Loss: 0.570  noise: 0.203\n",
      "Iter 17/100 - Loss: 0.542  noise: 0.185\n",
      "Iter 18/100 - Loss: 0.515  noise: 0.169\n",
      "Iter 19/100 - Loss: 0.489  noise: 0.155\n",
      "Iter 20/100 - Loss: 0.464  noise: 0.141\n",
      "Iter 21/100 - Loss: 0.444  noise: 0.129\n",
      "Iter 22/100 - Loss: 0.426  noise: 0.118\n",
      "Iter 23/100 - Loss: 0.411  noise: 0.108\n",
      "Iter 24/100 - Loss: 0.397  noise: 0.099\n",
      "Iter 25/100 - Loss: 0.386  noise: 0.090\n",
      "Iter 26/100 - Loss: 0.377  noise: 0.083\n",
      "Iter 27/100 - Loss: 0.367  noise: 0.076\n",
      "Iter 28/100 - Loss: 0.359  noise: 0.070\n",
      "Iter 29/100 - Loss: 0.350  noise: 0.065\n",
      "Iter 30/100 - Loss: 0.340  noise: 0.060\n",
      "Iter 31/100 - Loss: 0.330  noise: 0.055\n",
      "Iter 32/100 - Loss: 0.318  noise: 0.051\n",
      "Iter 33/100 - Loss: 0.304  noise: 0.048\n",
      "Iter 34/100 - Loss: 0.288  noise: 0.044\n",
      "Iter 35/100 - Loss: 0.271  noise: 0.041\n",
      "Iter 36/100 - Loss: 0.251  noise: 0.038\n",
      "Iter 37/100 - Loss: 0.231  noise: 0.036\n",
      "Iter 38/100 - Loss: 0.211  noise: 0.033\n",
      "Iter 39/100 - Loss: 0.191  noise: 0.031\n",
      "Iter 40/100 - Loss: 0.171  noise: 0.028\n",
      "Iter 41/100 - Loss: 0.151  noise: 0.026\n",
      "Iter 42/100 - Loss: 0.132  noise: 0.024\n",
      "Iter 43/100 - Loss: 0.112  noise: 0.022\n",
      "Iter 44/100 - Loss: 0.093  noise: 0.021\n",
      "Iter 45/100 - Loss: 0.074  noise: 0.019\n",
      "Iter 46/100 - Loss: 0.056  noise: 0.017\n",
      "Iter 47/100 - Loss: 0.038  noise: 0.016\n",
      "Iter 48/100 - Loss: 0.020  noise: 0.015\n",
      "Iter 49/100 - Loss: 0.001  noise: 0.013\n",
      "Iter 50/100 - Loss: -0.017  noise: 0.012\n",
      "Iter 51/100 - Loss: -0.035  noise: 0.011\n",
      "Iter 52/100 - Loss: -0.053  noise: 0.010\n",
      "Iter 53/100 - Loss: -0.071  noise: 0.009\n",
      "Iter 54/100 - Loss: -0.090  noise: 0.008\n",
      "Iter 55/100 - Loss: -0.108  noise: 0.008\n",
      "Iter 56/100 - Loss: -0.126  noise: 0.007\n",
      "Iter 57/100 - Loss: -0.144  noise: 0.006\n",
      "Iter 58/100 - Loss: -0.163  noise: 0.006\n",
      "Iter 59/100 - Loss: -0.181  noise: 0.005\n",
      "Iter 60/100 - Loss: -0.199  noise: 0.005\n",
      "Iter 61/100 - Loss: -0.217  noise: 0.004\n",
      "Iter 62/100 - Loss: -0.235  noise: 0.004\n",
      "Iter 63/100 - Loss: -0.253  noise: 0.003\n",
      "Iter 64/100 - Loss: -0.271  noise: 0.003\n",
      "Iter 65/100 - Loss: -0.289  noise: 0.003\n",
      "Iter 66/100 - Loss: -0.306  noise: 0.003\n",
      "Iter 67/100 - Loss: -0.323  noise: 0.002\n",
      "Iter 68/100 - Loss: -0.340  noise: 0.002\n",
      "Iter 69/100 - Loss: -0.357  noise: 0.002\n",
      "Iter 70/100 - Loss: -0.373  noise: 0.002\n",
      "Iter 71/100 - Loss: -0.390  noise: 0.002\n",
      "Iter 72/100 - Loss: -0.406  noise: 0.001\n",
      "Iter 73/100 - Loss: -0.422  noise: 0.001\n",
      "Iter 74/100 - Loss: -0.437  noise: 0.001\n",
      "Iter 75/100 - Loss: -0.452  noise: 0.001\n",
      "Iter 76/100 - Loss: -0.467  noise: 0.001\n",
      "Iter 77/100 - Loss: -0.482  noise: 0.001\n",
      "Iter 78/100 - Loss: -0.496  noise: 0.001\n",
      "Iter 79/100 - Loss: -0.510  noise: 0.001\n",
      "Iter 80/100 - Loss: -0.524  noise: 0.001\n",
      "Iter 81/100 - Loss: -0.537  noise: 0.001\n",
      "Iter 82/100 - Loss: -0.550  noise: 0.001\n",
      "Iter 83/100 - Loss: -0.563  noise: 0.001\n",
      "Iter 84/100 - Loss: -0.576  noise: 0.001\n",
      "Iter 85/100 - Loss: -0.588  noise: 0.001\n",
      "Iter 86/100 - Loss: -0.599  noise: 0.000\n",
      "Iter 87/100 - Loss: -0.611  noise: 0.000\n",
      "Iter 88/100 - Loss: -0.621  noise: 0.000\n",
      "Iter 89/100 - Loss: -0.632  noise: 0.000\n",
      "Iter 90/100 - Loss: -0.642  noise: 0.000\n",
      "Iter 91/100 - Loss: -0.652  noise: 0.000\n",
      "Iter 92/100 - Loss: -0.661  noise: 0.000\n",
      "Iter 93/100 - Loss: -0.670  noise: 0.000\n",
      "Iter 94/100 - Loss: -0.678  noise: 0.000\n",
      "Iter 95/100 - Loss: -0.687  noise: 0.000\n",
      "Iter 96/100 - Loss: -0.694  noise: 0.000\n",
      "Iter 97/100 - Loss: -0.702  noise: 0.000\n",
      "Iter 98/100 - Loss: -0.709  noise: 0.000\n",
      "Iter 99/100 - Loss: -0.715  noise: 0.000\n",
      "Iter 100/100 - Loss: -0.721  noise: 0.000\n",
      "likelihood.noise_covar.raw_noise : Parameter containing:\n",
      "tensor([-9.0066], requires_grad=True)\n",
      "mean_module.raw_constant : Parameter containing:\n",
      "tensor(0.7452, requires_grad=True)\n",
      "covar_module.raw_outputscale : Parameter containing:\n",
      "tensor(0.2207, requires_grad=True)\n",
      "covar_module.base_kernel.raw_lengthscale : Parameter containing:\n",
      "tensor([[-1.0513]], requires_grad=True)\n"
     ]
    }
   ],
   "source": [
    "nmll = train_model(model, likelihood)"
   ]
  },
  {
   "cell_type": "markdown",
   "metadata": {
    "id": "-I4i4P4sov11"
   },
   "source": [
    "## Plot the 1D model probability distribution"
   ]
  },
  {
   "cell_type": "code",
   "execution_count": 15,
   "metadata": {
    "ExecuteTime": {
     "end_time": "2025-01-02T18:18:55.430568400Z",
     "start_time": "2025-01-02T18:18:55.284567400Z"
    },
    "colab": {
     "base_uri": "https://localhost:8080/",
     "height": 468
    },
    "id": "dIuEZZsDov11",
    "outputId": "5615bc69-6cac-4b92-bcb8-070b04b3cfa0"
   },
   "outputs": [
    {
     "data": {
      "text/plain": [
       "[<matplotlib.lines.Line2D at 0x7acbee286dd0>]"
      ]
     },
     "execution_count": 15,
     "metadata": {},
     "output_type": "execute_result"
    },
    {
     "data": {
      "image/png": "[encoded data removed]",
      "text/plain": [
       "<Figure size 640x480 with 1 Axes>"
      ]
     },
     "metadata": {},
     "output_type": "display_data"
    }
   ],
   "source": [
    "#plot the gp distribution in the normalized range\n",
    "x = torch.linspace(0, 1, 50).double()\n",
    "model.eval()\n",
    "with torch.no_grad():\n",
    "    p = model(x)\n",
    "\n",
    "    #get the mean\n",
    "    m = p.mean\n",
    "\n",
    "    #get the 2 sigma confidence region around the mean\n",
    "    l,u = p.confidence_region()\n",
    "\n",
    "fig,ax = plt.subplots()\n",
    "ax.set_xlabel('x')\n",
    "ax.set_ylabel('y')\n",
    "#plot mean and confidence region\n",
    "ax.plot(x, m)\n",
    "ax.fill_between(x.squeeze(), l, u, alpha = 0.25, lw = 0)\n",
    "\n",
    "#plot samples\n",
    "ax.plot(train_x, train_y,'oC1')"
   ]
  },
  {
   "cell_type": "markdown",
   "metadata": {
    "id": "KMEb8wGnov12",
    "tags": []
   },
   "source": [
    "## Plot the samples from the model"
   ]
  },
  {
   "cell_type": "code",
   "execution_count": 16,
   "metadata": {
    "ExecuteTime": {
     "end_time": "2025-01-02T18:18:55.609566700Z",
     "start_time": "2025-01-02T18:18:55.433566700Z"
    },
    "colab": {
     "base_uri": "https://localhost:8080/",
     "height": 501
    },
    "id": "xDj61_sXov12",
    "outputId": "ad5674c0-e446-4ad9-9c90-34d649195d39",
    "tags": []
   },
   "outputs": [
    {
     "name": "stderr",
     "output_type": "stream",
     "text": [
      "/usr/local/lib/python3.11/dist-packages/linear_operator/utils/cholesky.py:40: NumericalWarning: A not p.d., added jitter of 1.0e-08 to the diagonal\n",
      "  warnings.warn(\n"
     ]
    },
    {
     "data": {
      "text/plain": [
       "[<matplotlib.lines.Line2D at 0x7acbee33e7d0>]"
      ]
     },
     "execution_count": 16,
     "metadata": {},
     "output_type": "execute_result"
    },
    {
     "data": {
      "image/png": "[encoded data removed]",
      "text/plain": [
       "<Figure size 640x480 with 1 Axes>"
      ]
     },
     "metadata": {},
     "output_type": "display_data"
    }
   ],
   "source": [
    "#use the normalized range\n",
    "x = torch.linspace(0, 1, 50).double()\n",
    "#specify number of samples\n",
    "n_samples = 10\n",
    "model.eval()\n",
    "with torch.no_grad():\n",
    "    p = model(x)\n",
    "    s = p.rsample(torch.Size([n_samples]))\n",
    "\n",
    "fig,ax = plt.subplots()\n",
    "ax.set_xlabel('x')\n",
    "ax.set_ylabel('y')\n",
    "\n",
    "#plot samples from posterior model\n",
    "for sample in s:\n",
    "    ax.plot(x, sample,'C0',alpha = 0.5)\n",
    "\n",
    "#plot measurements\n",
    "ax.plot(train_x, train_y,'oC1')"
   ]
  },
  {
   "cell_type": "markdown",
   "metadata": {
    "collapsed": false,
    "id": "FLu-2sHFov12"
   },
   "source": [
    "## Building and visualizing models in Xopt\n",
    "Xopt builds models in Botorch, which has a separate class for GP modeling that loosely wraps ExactGP classes. Visualizing the model has some slight differences."
   ]
  },
  {
   "cell_type": "code",
   "execution_count": 17,
   "metadata": {
    "ExecuteTime": {
     "end_time": "2025-01-02T18:18:56.961577600Z",
     "start_time": "2025-01-02T18:18:55.584567600Z"
    },
    "id": "yXOtEK3Vov12"
   },
   "outputs": [],
   "source": [
    "from xopt.generators.bayesian.models.standard import StandardModelConstructor\n",
    "from xopt import VOCS\n",
    "import pandas as pd\n",
    "\n",
    "vocs = VOCS(variables={\"x\":[0,1]}, observables=[\"y\"])\n",
    "data = pd.DataFrame({\"x\":train_x.flatten().numpy(), \"y\":train_y.flatten().numpy()})\n",
    "\n",
    "# define a model constructor\n",
    "model_constructor = StandardModelConstructor()\n",
    "xopt_gp_model = model_constructor.build_model_from_vocs(\n",
    "    vocs=vocs,\n",
    "    data=data,\n",
    ")"
   ]
  },
  {
   "cell_type": "code",
   "execution_count": 18,
   "metadata": {
    "ExecuteTime": {
     "end_time": "2025-01-02T18:18:57.245582500Z",
     "start_time": "2025-01-02T18:18:56.962579300Z"
    },
    "colab": {
     "base_uri": "https://localhost:8080/",
     "height": 252
    },
    "id": "QeCh-jmIov13",
    "outputId": "4bc5317a-7fd7-4eb5-d390-b5755d711357"
   },
   "outputs": [
    {
     "data": {
      "text/plain": [
       "(<Figure size 600x200 with 1 Axes>,\n",
       " array([[<Axes: xlabel='x', ylabel='y'>]], dtype=object))"
      ]
     },
     "execution_count": 18,
     "metadata": {},
     "output_type": "execute_result"
    },
    {
     "data": {
      "image/png": "[encoded data removed]",
      "text/plain": [
       "<Figure size 600x200 with 1 Axes>"
      ]
     },
     "metadata": {},
     "output_type": "display_data"
    }
   ],
   "source": [
    "from xopt.generators.bayesian.visualize import visualize_model\n",
    "visualize_model(xopt_gp_model, vocs, data)"
   ]
  },
  {
   "cell_type": "markdown",
   "metadata": {
    "id": "sOp9YeJUov13"
   },
   "source": [
    "## Generate Data (3D)\n",
    "We are going to look at some data that was generated by sampling a 5 x 5 x 5 grid in the domain [0,1] on each axis. The function that generated this data is\n",
    "\n",
    "$$\n",
    "f(x_1,x_2,x_3) = \\sin(2\\pi x_1)\\sin(\\pi x_2) + x_3\n",
    "$$\n",
    "\n",
    "The columns of the imported array is $(x_1,x_2,x_3,f)$. We need to convert it to a torch tensor to use with GPyTorch."
   ]
  },
  {
   "cell_type": "code",
   "execution_count": 19,
   "metadata": {
    "ExecuteTime": {
     "end_time": "2025-01-02T18:18:57.260582100Z",
     "start_time": "2025-01-02T18:18:57.248581300Z"
    },
    "id": "IIZg7hWBov13"
   },
   "outputs": [],
   "source": [
    "x = np.linspace(0,1,5)\n",
    "xx = np.meshgrid(x,x,x)\n",
    "train_x = np.vstack([ele.ravel() for ele in xx]).T\n",
    "train_y = np.sin(2*np.pi*train_x[:,0]) * np.sin(np.pi*train_x[:,1]) + train_x[:,2] + np.random.randn(train_x.shape[0]) * 0.01\n",
    "\n",
    "train_x = torch.from_numpy(train_x)\n",
    "train_y = torch.from_numpy(train_y)"
   ]
  },
  {
   "cell_type": "markdown",
   "metadata": {
    "id": "3G7zdryWov13"
   },
   "source": [
    "### **Task:**\n",
    "Define a new GP model that uses a different kernel (or combination of kernels) to maximize the marginal log likelihood.\n"
   ]
  },
  {
   "cell_type": "code",
   "execution_count": 20,
   "metadata": {
    "ExecuteTime": {
     "end_time": "2025-01-02T18:18:57.285578700Z",
     "start_time": "2025-01-02T18:18:57.264580600Z"
    },
    "id": "pYFdgr2cov13"
   },
   "outputs": [],
   "source": [
    "class MyExactGPModel(gpytorch.models.ExactGP):\n",
    "    def __init__(self, train_x, train_y, likelihood):\n",
    "        super(MyExactGPModel, self).__init__(train_x, train_y, likelihood)\n",
    "        self.mean_module = gpytorch.means.ConstantMean()\n",
    "\n",
    "        ################################################################\n",
    "        #ANSWER KEY - GPyTorch New Kernel\n",
    "        ################################################################\n",
    "        self.covar_module = gpytorch.kernels.ScaleKernel(\n",
    "                                gpytorch.kernels.PeriodicKernel(active_dims = 0) *\\\n",
    "                                gpytorch.kernels.PeriodicKernel(active_dims = 1)) +\\\n",
    "                                gpytorch.kernels.ScaleKernel(gpytorch.kernels.LinearKernel(active_dims = 2))\n",
    "\n",
    "\n",
    "    def forward(self, x):\n",
    "        mean_x = self.mean_module(x)\n",
    "        covar_x = self.covar_module(x)\n",
    "        return gpytorch.distributions.MultivariateNormal(mean_x, covar_x)"
   ]
  },
  {
   "cell_type": "code",
   "execution_count": 21,
   "metadata": {
    "ExecuteTime": {
     "end_time": "2025-01-02T18:18:58.295578400Z",
     "start_time": "2025-01-02T18:18:57.278578700Z"
    },
    "colab": {
     "base_uri": "https://localhost:8080/"
    },
    "id": "h4s1D0B_ov13",
    "outputId": "f032eb8f-28b5-4f29-aae8-99b415fa121d",
    "tags": []
   },
   "outputs": [
    {
     "name": "stdout",
     "output_type": "stream",
     "text": [
      "likelihood.noise_covar.raw_noise : Parameter containing:\n",
      "tensor([0.], requires_grad=True)\n",
      "mean_module.raw_constant : Parameter containing:\n",
      "tensor(0., requires_grad=True)\n",
      "covar_module.kernels.0.raw_outputscale : Parameter containing:\n",
      "tensor(0., requires_grad=True)\n",
      "covar_module.kernels.0.base_kernel.kernels.0.raw_lengthscale : Parameter containing:\n",
      "tensor([[0.]], requires_grad=True)\n",
      "covar_module.kernels.0.base_kernel.kernels.0.raw_period_length : Parameter containing:\n",
      "tensor([[0.]], requires_grad=True)\n",
      "covar_module.kernels.0.base_kernel.kernels.1.raw_lengthscale : Parameter containing:\n",
      "tensor([[0.]], requires_grad=True)\n",
      "covar_module.kernels.0.base_kernel.kernels.1.raw_period_length : Parameter containing:\n",
      "tensor([[0.]], requires_grad=True)\n",
      "covar_module.kernels.1.raw_outputscale : Parameter containing:\n",
      "tensor(0., requires_grad=True)\n",
      "covar_module.kernels.1.base_kernel.raw_variance : Parameter containing:\n",
      "tensor([[0.]], requires_grad=True)\n",
      "Iter 1/100 - Loss: 0.931  noise: 0.693\n",
      "Iter 2/100 - Loss: 0.892  noise: 0.644\n"
     ]
    },
    {
     "name": "stderr",
     "output_type": "stream",
     "text": [
      "/usr/local/lib/python3.11/dist-packages/linear_operator/utils/cholesky.py:40: NumericalWarning: A not p.d., added jitter of 1.0e-08 to the diagonal\n",
      "  warnings.warn(\n"
     ]
    },
    {
     "name": "stdout",
     "output_type": "stream",
     "text": [
      "Iter 3/100 - Loss: 0.861  noise: 0.598\n",
      "Iter 4/100 - Loss: 0.822  noise: 0.555\n",
      "Iter 5/100 - Loss: 0.781  noise: 0.513\n",
      "Iter 6/100 - Loss: 0.743  noise: 0.474\n",
      "Iter 7/100 - Loss: 0.702  noise: 0.437\n",
      "Iter 8/100 - Loss: 0.656  noise: 0.403\n",
      "Iter 9/100 - Loss: 0.609  noise: 0.370\n",
      "Iter 10/100 - Loss: 0.572  noise: 0.340\n",
      "Iter 11/100 - Loss: 0.532  noise: 0.311\n",
      "Iter 12/100 - Loss: 0.487  noise: 0.285\n",
      "Iter 13/100 - Loss: 0.440  noise: 0.261\n",
      "Iter 14/100 - Loss: 0.393  noise: 0.238\n",
      "Iter 15/100 - Loss: 0.346  noise: 0.217\n",
      "Iter 16/100 - Loss: 0.300  noise: 0.198\n",
      "Iter 17/100 - Loss: 0.258  noise: 0.180\n",
      "Iter 18/100 - Loss: 0.220  noise: 0.163\n",
      "Iter 19/100 - Loss: 0.179  noise: 0.148\n",
      "Iter 20/100 - Loss: 0.134  noise: 0.134\n",
      "Iter 21/100 - Loss: 0.089  noise: 0.122\n",
      "Iter 22/100 - Loss: 0.047  noise: 0.110\n",
      "Iter 23/100 - Loss: 0.008  noise: 0.100\n",
      "Iter 24/100 - Loss: -0.035  noise: 0.090\n",
      "Iter 25/100 - Loss: -0.079  noise: 0.082\n",
      "Iter 26/100 - Loss: -0.125  noise: 0.074\n",
      "Iter 27/100 - Loss: -0.167  noise: 0.067\n",
      "Iter 28/100 - Loss: -0.210  noise: 0.060\n",
      "Iter 29/100 - Loss: -0.258  noise: 0.054\n",
      "Iter 30/100 - Loss: -0.303  noise: 0.049\n",
      "Iter 31/100 - Loss: -0.346  noise: 0.044\n",
      "Iter 32/100 - Loss: -0.393  noise: 0.040\n",
      "Iter 33/100 - Loss: -0.440  noise: 0.036\n",
      "Iter 34/100 - Loss: -0.483  noise: 0.032\n",
      "Iter 35/100 - Loss: -0.532  noise: 0.029\n",
      "Iter 36/100 - Loss: -0.575  noise: 0.026\n",
      "Iter 37/100 - Loss: -0.623  noise: 0.024\n",
      "Iter 38/100 - Loss: -0.667  noise: 0.021\n",
      "Iter 39/100 - Loss: -0.716  noise: 0.019\n",
      "Iter 40/100 - Loss: -0.757  noise: 0.017\n",
      "Iter 41/100 - Loss: -0.800  noise: 0.016\n",
      "Iter 42/100 - Loss: -0.845  noise: 0.014\n",
      "Iter 43/100 - Loss: -0.894  noise: 0.013\n",
      "Iter 44/100 - Loss: -0.934  noise: 0.011\n",
      "Iter 45/100 - Loss: -0.978  noise: 0.010\n",
      "Iter 46/100 - Loss: -1.024  noise: 0.009\n",
      "Iter 47/100 - Loss: -1.072  noise: 0.008\n",
      "Iter 48/100 - Loss: -1.109  noise: 0.007\n",
      "Iter 49/100 - Loss: -1.152  noise: 0.007\n",
      "Iter 50/100 - Loss: -1.206  noise: 0.006\n",
      "Iter 51/100 - Loss: -1.251  noise: 0.005\n",
      "Iter 52/100 - Loss: -1.285  noise: 0.005\n",
      "Iter 53/100 - Loss: -1.331  noise: 0.004\n",
      "Iter 54/100 - Loss: -1.366  noise: 0.004\n",
      "Iter 55/100 - Loss: -1.408  noise: 0.004\n",
      "Iter 56/100 - Loss: -1.467  noise: 0.003\n",
      "Iter 57/100 - Loss: -1.497  noise: 0.003\n",
      "Iter 58/100 - Loss: -1.549  noise: 0.003\n",
      "Iter 59/100 - Loss: -1.563  noise: 0.002\n",
      "Iter 60/100 - Loss: -1.596  noise: 0.002\n",
      "Iter 61/100 - Loss: -1.639  noise: 0.002\n",
      "Iter 62/100 - Loss: -1.710  noise: 0.002\n",
      "Iter 63/100 - Loss: -1.710  noise: 0.002\n",
      "Iter 64/100 - Loss: -1.733  noise: 0.002\n",
      "Iter 65/100 - Loss: -1.761  noise: 0.001\n",
      "Iter 66/100 - Loss: -1.795  noise: 0.001\n",
      "Iter 67/100 - Loss: -1.826  noise: 0.001\n",
      "Iter 68/100 - Loss: -1.861  noise: 0.001\n",
      "Iter 69/100 - Loss: -1.893  noise: 0.001\n",
      "Iter 70/100 - Loss: -1.925  noise: 0.001\n",
      "Iter 71/100 - Loss: -1.958  noise: 0.001\n",
      "Iter 72/100 - Loss: -1.988  noise: 0.001\n",
      "Iter 73/100 - Loss: -2.019  noise: 0.001\n",
      "Iter 74/100 - Loss: -2.051  noise: 0.001\n",
      "Iter 75/100 - Loss: -2.079  noise: 0.001\n",
      "Iter 76/100 - Loss: -2.112  noise: 0.001\n",
      "Iter 77/100 - Loss: -2.144  noise: 0.001\n",
      "Iter 78/100 - Loss: -2.183  noise: 0.000\n",
      "Iter 79/100 - Loss: -2.265  noise: 0.000\n",
      "Iter 80/100 - Loss: -2.263  noise: 0.000\n",
      "Iter 81/100 - Loss: -2.276  noise: 0.000\n",
      "Iter 82/100 - Loss: -2.312  noise: 0.000\n",
      "Iter 83/100 - Loss: -2.289  noise: 0.000\n",
      "Iter 84/100 - Loss: -2.290  noise: 0.000\n",
      "Iter 85/100 - Loss: -2.299  noise: 0.000\n",
      "Iter 86/100 - Loss: -2.310  noise: 0.000\n",
      "Iter 87/100 - Loss: -2.322  noise: 0.000\n",
      "Iter 88/100 - Loss: -2.334  noise: 0.000\n",
      "Iter 89/100 - Loss: -2.345  noise: 0.000\n",
      "Iter 90/100 - Loss: -2.358  noise: 0.000\n",
      "Iter 91/100 - Loss: -2.368  noise: 0.000\n",
      "Iter 92/100 - Loss: -2.378  noise: 0.000\n",
      "Iter 93/100 - Loss: -2.390  noise: 0.000\n",
      "Iter 94/100 - Loss: -2.402  noise: 0.000\n",
      "Iter 95/100 - Loss: -2.410  noise: 0.000\n",
      "Iter 96/100 - Loss: -2.427  noise: 0.000\n",
      "Iter 97/100 - Loss: -2.435  noise: 0.000\n",
      "Iter 98/100 - Loss: -2.498  noise: 0.000\n",
      "Iter 99/100 - Loss: -2.436  noise: 0.000\n",
      "Iter 100/100 - Loss: -2.423  noise: 0.000\n",
      "likelihood.noise_covar.raw_noise : Parameter containing:\n",
      "tensor([-9.4496], requires_grad=True)\n",
      "mean_module.raw_constant : Parameter containing:\n",
      "tensor(0.0003, requires_grad=True)\n",
      "covar_module.kernels.0.raw_outputscale : Parameter containing:\n",
      "tensor(-1.4608, requires_grad=True)\n",
      "covar_module.kernels.0.base_kernel.kernels.0.raw_lengthscale : Parameter containing:\n",
      "tensor([[-0.5352]], requires_grad=True)\n",
      "covar_module.kernels.0.base_kernel.kernels.0.raw_period_length : Parameter containing:\n",
      "tensor([[0.3886]], requires_grad=True)\n",
      "covar_module.kernels.0.base_kernel.kernels.1.raw_lengthscale : Parameter containing:\n",
      "tensor([[3.0101]], requires_grad=True)\n",
      "covar_module.kernels.0.base_kernel.kernels.1.raw_period_length : Parameter containing:\n",
      "tensor([[0.5351]], requires_grad=True)\n",
      "covar_module.kernels.1.raw_outputscale : Parameter containing:\n",
      "tensor(0.5391, requires_grad=True)\n",
      "covar_module.kernels.1.base_kernel.raw_variance : Parameter containing:\n",
      "tensor([[0.5391]], requires_grad=True)\n"
     ]
    },
    {
     "data": {
      "text/plain": [
       "tensor(-2.4232, dtype=torch.float64, grad_fn=<NegBackward0>)"
      ]
     },
     "execution_count": 21,
     "metadata": {},
     "output_type": "execute_result"
    }
   ],
   "source": [
    "################################################################\n",
    "#ANSWER KEY - GPyTorch Training - New Kernel\n",
    "################################################################\n",
    "my_likelihood = gpytorch.likelihoods.GaussianLikelihood()\n",
    "my_model = MyExactGPModel(train_x, train_y, my_likelihood)\n",
    "train_model(my_model, my_likelihood)"
   ]
  },
  {
   "cell_type": "markdown",
   "metadata": {
    "id": "MCiz9njBov14"
   },
   "source": [
    "### **Task:**\n",
    "Plot the mean and uncertainty on the $x_1,x_2 \\in [0,1]$ plane where $x_3=0$ and compare it to a plot of the ground truth function.\n"
   ]
  },
  {
   "cell_type": "code",
   "execution_count": 30,
   "metadata": {
    "ExecuteTime": {
     "end_time": "2025-01-02T18:18:58.330578900Z",
     "start_time": "2025-01-02T18:18:58.299580100Z"
    },
    "colab": {
     "base_uri": "https://localhost:8080/"
    },
    "id": "hZSu0wNEov14",
    "outputId": "036e8622-a3f6-49cb-ed4e-bd232c9be640"
   },
   "outputs": [
    {
     "data": {
      "text/plain": [
       "torch.Size([2500, 1, 3])"
      ]
     },
     "execution_count": 30,
     "metadata": {},
     "output_type": "execute_result"
    }
   ],
   "source": [
    "#Hint: you can use the following code to get the points to be evaluated\n",
    "import torch\n",
    "n = 50\n",
    "x = torch.meshgrid(torch.linspace(0,1,n), torch.linspace(0,1,n))\n",
    "pts = torch.vstack([ele.flatten() for ele in x]).T\n",
    "pts = torch.hstack((pts, torch.zeros((n**2,1)))).unsqueeze(1)\n",
    "\n",
    "pts.shape"
   ]
  },
  {
   "cell_type": "code",
   "execution_count": 31,
   "metadata": {
    "colab": {
     "base_uri": "https://localhost:8080/"
    },
    "id": "1PXlJ2PPAGnu",
    "outputId": "59fd5808-556a-4a6a-98fe-d9ff08e2284a"
   },
   "outputs": [
    {
     "name": "stderr",
     "output_type": "stream",
     "text": [
      "/usr/local/lib/python3.11/dist-packages/linear_operator/utils/cholesky.py:40: NumericalWarning: A not p.d., added jitter of 1.0e-08 to the diagonal\n",
      "  warnings.warn(\n"
     ]
    }
   ],
   "source": [
    "# evaluate the model and get the mean + variance\n",
    "my_model.eval()\n",
    "\n",
    "with torch.no_grad():\n",
    "    post = my_likelihood(my_model(pts))\n",
    "    mean = post.mean"
   ]
  },
  {
   "cell_type": "code",
   "execution_count": 32,
   "metadata": {
    "colab": {
     "base_uri": "https://localhost:8080/",
     "height": 449
    },
    "id": "rrkvAwcsAy2g",
    "outputId": "7375644d-3690-4159-d7e9-73861bb55f89"
   },
   "outputs": [
    {
     "data": {
      "text/plain": [
       "<matplotlib.collections.PolyQuadMesh at 0x7acbdbdf5f50>"
      ]
     },
     "execution_count": 32,
     "metadata": {},
     "output_type": "execute_result"
    },
    {
     "data": {
      "image/png": "[encoded data removed]",
      "text/plain": [
       "<Figure size 640x480 with 1 Axes>"
      ]
     },
     "metadata": {},
     "output_type": "display_data"
    }
   ],
   "source": [
    "fig, ax = plt.subplots()\n",
    "ax.pcolor(*x, mean.reshape(n,n))"
   ]
  },
  {
   "cell_type": "code",
   "execution_count": 24,
   "metadata": {
    "ExecuteTime": {
     "end_time": "2025-01-02T18:18:58.485577800Z",
     "start_time": "2025-01-02T18:18:58.461579600Z"
    },
    "id": "b90XfoECov14"
   },
   "outputs": [],
   "source": []
  }
 ],
 "metadata": {
  "colab": {
   "provenance": []
  },
  "kernelspec": {
   "display_name": "Python 3 (ipykernel)",
   "language": "python",
   "name": "python3"
  },
  "language_info": {
   "codemirror_mode": {
    "name": "ipython",
    "version": 3
   },
   "file_extension": ".py",
   "mimetype": "text/x-python",
   "name": "python",
   "nbconvert_exporter": "python",
   "pygments_lexer": "ipython3",
   "version": "3.7.2"
  }
 },
 "nbformat": 4,
 "nbformat_minor": 0
}
