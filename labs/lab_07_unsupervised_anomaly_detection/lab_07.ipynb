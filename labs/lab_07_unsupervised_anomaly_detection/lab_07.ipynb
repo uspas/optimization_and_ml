{
 "cells": [
  {
   "cell_type": "markdown",
   "metadata": {
    "id": "OygS1_u9VxME"
   },
   "source": [
    "# Lab 07 - Unsupervised learning\n",
    "\n",
    "(Adapted from [one of the 2019 ICFA tutorial notebooks](https://github.com/radiasoft/icfa_ml/blob/master/tutorials_2019/unsupervized_learning/unsupervised_learning.ipynb))\n",
    "\n",
    "## Tasks\n",
    "- K-means clustering comparison\n",
    "- DBSCAN algorithm\n",
    "\n"
   ]
  },
  {
   "cell_type": "markdown",
   "metadata": {
    "id": "tLEDeP7aVxMF"
   },
   "source": [
    "# Environment"
   ]
  },
  {
   "cell_type": "code",
   "execution_count": null,
   "outputs": [],
   "source": [
    "!pip install scikit-learn"
   ],
   "metadata": {
    "collapsed": false
   }
  },
  {
   "cell_type": "code",
   "execution_count": null,
   "outputs": [],
   "source": [
    "%reset -f\n",
    "\n",
    "import numpy as np\n",
    "import matplotlib.pyplot as plt"
   ],
   "metadata": {
    "collapsed": false
   }
  },
  {
   "cell_type": "markdown",
   "metadata": {
    "id": "mhHECazIVxMH"
   },
   "source": [
    "# Introduction\n",
    "\n",
    "As opposed to supervised learning, in unsupervised learning the goal is to infer a model which describes an unknown structure from unlabeled data. We'll consider two classes of unsupervised learning algorithms: clustering and anomaly detection.\n",
    "\n",
    "We'll also see how unsupervised techniques can be used to reduce the dimensionality of the input feature set."
   ]
  },
  {
   "cell_type": "markdown",
   "metadata": {
    "id": "vXQFUVUKVxMI"
   },
   "source": [
    "# 1. Clustering\n",
    "\n",
    "Clustering is the task of grouping a set of items together in such a way that items in one group (a cluster) are more similar to each other than to those in other groups. There are several types of clustering algorithms:\n",
    "\n",
    "*   Hierarchical clustering (e.g. Linkage clustering)\n",
    "*   Centroid-based clustering (e.g. k-means)\n",
    "*   Distribution-based clustering (e.g. Expectation-Maximization)\n",
    "*   Density-based clustering (e.g. DBSCAN)\n",
    "\n",
    "We will look at one of the more simpler approaches: centroid-based clustering.\n"
   ]
  },
  {
   "cell_type": "markdown",
   "metadata": {
    "id": "1Uzv9aKDVxMI"
   },
   "source": [
    "## K-Means Algorithm\n",
    "\n",
    "Suppose we have a dataset {$x_1$, $x_2$, $x_3$, ..., $x_N$} consisting of $N$ observations of $D$ dimensional vectors **x** (i.e. $D$ features).\n",
    "\n",
    "The goal is to partition the dataset into $K$ clusters. Therefore, the number of clusters in our dataset needs to be known a priori.\n",
    "\n",
    "A cluster is a group of data points whose distances between one another in $D$-dimensional space are small compared to points outside the cluster.\n",
    "\n",
    "This can be formalized by introducing a $D$-dimensional mean vector $\\mu_k$, where $k = 1,2,3,...K$. This represents the center of the cluster.\n",
    "\n",
    "The K-means clustering algorithm assigns a vector $x_{i,j}$ to the cluster which minimizes the following distortion measure: $J_k = ||x_{i,j} - \\mu_k||^2$\n",
    "\n",
    "The mean vector is then updated by computing the mean intensity value of the considered cluster such that\n",
    "\n",
    "\\begin{equation}\n",
    "\\mu_k = \\frac{\\sum\\limits_i \\sum\\limits_j r_{i,j,k}x_{i,j}}{\\sum\\limits_i \\sum\\limits_j r_{i,j}}\n",
    "\\end{equation}\n",
    "\n",
    "where\n",
    "\n",
    "\\begin{equation}\n",
    "r_{i,j,k}=\\begin{cases}\n",
    "    1, & \\text{if $k = \\arg_k \\min(||x_{i,j} - \\mu_k||^2)$}\\\\\n",
    "    0, & \\text{otherwise}.\n",
    "  \\end{cases}\n",
    "\\end{equation}\n",
    "\n",
    "(see also Lecture 13.2 — Clustering | KMeans Algorithm — [ Machine Learning | Andrew Ng ] https://www.youtube.com/watch?v=hDmNF9JG3lo for more details)\n"
   ]
  },
  {
   "cell_type": "markdown",
   "metadata": {
    "id": "Nbzh3IJqVxMJ"
   },
   "source": [
    "## Create Dataset\n",
    "Let's generate a two-dimensional dataset that we can easily visualize.\n",
    "\n",
    "Note that the first 7 points are similar to each other (therefore they would belong to cluster 0) while the next 7 points are also similar to each other (they would belong to cluster 1)"
   ]
  },
  {
   "cell_type": "code",
   "execution_count": null,
   "metadata": {
    "colab": {
     "base_uri": "https://localhost:8080/"
    },
    "id": "nqaFYylKVxMK",
    "executionInfo": {
     "status": "ok",
     "timestamp": 1738274722404,
     "user_tz": 480,
     "elapsed": 119,
     "user": {
      "displayName": "River R Robles",
      "userId": "03599211865117737934"
     }
    },
    "outputId": "58d6d649-9c32-4ac2-cb5e-50ad70572c9f"
   },
   "outputs": [],
   "source": [
    "# Generate a dataset\n",
    "data = np.array([[2,2], [2,3], [3,2], [3,3], [5,4], [1,1], [6,4], [15,12], [14,14], [18,14], [25,30], [21,17], [18,16], [12,18]])\n",
    "\n",
    "# Inspect the shape\n",
    "data.shape"
   ]
  },
  {
   "cell_type": "code",
   "execution_count": null,
   "metadata": {
    "colab": {
     "base_uri": "https://localhost:8080/",
     "height": 448
    },
    "id": "4yu8xqoMVxMK",
    "executionInfo": {
     "status": "ok",
     "timestamp": 1738274723836,
     "user_tz": 480,
     "elapsed": 1078,
     "user": {
      "displayName": "River R Robles",
      "userId": "03599211865117737934"
     }
    },
    "outputId": "49e8a640-de11-4dee-9bbe-575c22e23b8a"
   },
   "outputs": [],
   "source": [
    "# Plot the data\n",
    "plt.scatter(data[:,0], data[:,1])"
   ]
  },
  {
   "cell_type": "markdown",
   "metadata": {
    "id": "FS99UNIJVxML"
   },
   "source": [
    "## Clustering by distances"
   ]
  },
  {
   "cell_type": "markdown",
   "metadata": {
    "id": "Srh7yUvDVxML"
   },
   "source": [
    "### **Task**\n",
    "Complete the implementation of the functions `distance`, `predict_cluster` and `predict_clusters`, which are used within the k-means algorithm.\n",
    "    "
   ]
  },
  {
   "cell_type": "code",
   "execution_count": null,
   "metadata": {
    "colab": {
     "base_uri": "https://localhost:8080/"
    },
    "id": "cLGRjwO0VxML",
    "executionInfo": {
     "status": "ok",
     "timestamp": 1738274736571,
     "user_tz": 480,
     "elapsed": 130,
     "user": {
      "displayName": "River R Robles",
      "userId": "03599211865117737934"
     }
    },
    "outputId": "903ca479-290b-47c8-a370-9eeb3d7cc860"
   },
   "outputs": [],
   "source": [
    "# Define a distance function as the Euclidean distance\n",
    "def distance(pt1, pt2):\n",
    "    pass\n",
    "\n",
    "# Test\n",
    "distance(data[0], data[1])"
   ]
  },
  {
   "cell_type": "code",
   "execution_count": null,
   "metadata": {
    "colab": {
     "base_uri": "https://localhost:8080/"
    },
    "id": "C_fMj0ksVxMM",
    "executionInfo": {
     "status": "ok",
     "timestamp": 1738274738548,
     "user_tz": 480,
     "elapsed": 125,
     "user": {
      "displayName": "River R Robles",
      "userId": "03599211865117737934"
     }
    },
    "outputId": "6f0c3242-e457-4b36-904e-0abd7e0aba92"
   },
   "outputs": [],
   "source": [
    "# Return a cluster index of a single data point, given a list of cluster centers\n",
    "def predict_cluster(pt1, centers):\n",
    "    pass\n",
    "\n",
    "# Test. This should return 0\n",
    "predict_cluster(data[0], [ np.array([1,2]), np.array([20,20]) ] )"
   ]
  },
  {
   "cell_type": "code",
   "execution_count": null,
   "metadata": {
    "colab": {
     "base_uri": "https://localhost:8080/"
    },
    "id": "oB5b5uS2VxMM",
    "executionInfo": {
     "status": "ok",
     "timestamp": 1738274739602,
     "user_tz": 480,
     "elapsed": 124,
     "user": {
      "displayName": "River R Robles",
      "userId": "03599211865117737934"
     }
    },
    "outputId": "2799c1e3-f46e-45da-80b8-9ffa3b2ad681"
   },
   "outputs": [],
   "source": [
    "# Return a list of cluster indexes (cluster_labels)\n",
    "def predict_clusters(data, centers):\n",
    "    pass\n",
    "\n",
    "# Test. This should return an array of labels: array([0, 0, 0, 0, 0, 0, 0, 1, 1, 1, 1, 1, 1, 1])\n",
    "predict_clusters(data, [ np.array([1,2]), np.array([20, 20]) ] )"
   ]
  },
  {
   "cell_type": "markdown",
   "metadata": {
    "id": "7i0hYdxJVxMM"
   },
   "source": [
    "## Visualization\n",
    "\n",
    "The code below assigns colors to each cluster: Cluster 0 will be blue, Cluster 1 will be red, etc."
   ]
  },
  {
   "cell_type": "code",
   "execution_count": null,
   "metadata": {
    "colab": {
     "base_uri": "https://localhost:8080/",
     "height": 430
    },
    "id": "fr3NbjJmVxMM",
    "executionInfo": {
     "status": "ok",
     "timestamp": 1738274741605,
     "user_tz": 480,
     "elapsed": 383,
     "user": {
      "displayName": "River R Robles",
      "userId": "03599211865117737934"
     }
    },
    "outputId": "c296c133-767e-4dee-fa4d-2faff7a9eed5"
   },
   "outputs": [],
   "source": [
    "def plot_clusters(data, centers):\n",
    "\n",
    "    # Get the cluster indices\n",
    "    cluster_labels = predict_clusters(data, centers)\n",
    "\n",
    "    fig, ax = plt.subplots()\n",
    "    colors = ['blue', 'red', 'green', 'orange']\n",
    "    for ix, center in enumerate(centers):\n",
    "        cdata = data[cluster_labels == ix]\n",
    "        ax.scatter(cdata[:,0], cdata[:,1], color=colors[ix], label=f'Cluster {ix}')\n",
    "        ax.scatter(center[0], center[1], marker='x', color=colors[ix], label=f'Cluster center {ix}')\n",
    "    ax.legend()\n",
    "\n",
    "plot_clusters(data,  [ np.array([4,2]), np.array([20, 20]) ] )"
   ]
  },
  {
   "cell_type": "markdown",
   "metadata": {
    "id": "RE_r-vC_VxMN"
   },
   "source": [
    "## Algorithm"
   ]
  },
  {
   "cell_type": "markdown",
   "metadata": {
    "id": "00Tl0U4AVxMN"
   },
   "source": [
    "### **Task**\n",
    "    \n",
    "Complete the implementation of the function below, which performs one iteration of k-means, i.e.:\n",
    "    \n",
    "- Finding the center for each data point\n",
    "- Calculating the mean of the data points associated with each cluster.\n",
    "    \n"
   ]
  },
  {
   "cell_type": "code",
   "execution_count": null,
   "metadata": {
    "colab": {
     "base_uri": "https://localhost:8080/"
    },
    "id": "0oNM4HuCVxMN",
    "executionInfo": {
     "status": "ok",
     "timestamp": 1738274751170,
     "user_tz": 480,
     "elapsed": 114,
     "user": {
      "displayName": "River R Robles",
      "userId": "03599211865117737934"
     }
    },
    "outputId": "ba3d13ac-77e8-4b4c-b597-e8db23db4f14"
   },
   "outputs": [],
   "source": [
    "# This will perform one iteration of the algorithm\n",
    "def calculate_new_centers(data, centers):\n",
    "    \"\"\"\n",
    "    Args:\n",
    "        data (array-like): points with shape (N points, D features)\n",
    "        centers (list): initial cluster centers\n",
    "\n",
    "    Returns:\n",
    "        new_centers (list): new centers\n",
    "\n",
    "    \"\"\"\n",
    "\n",
    "    ## SOLUTION\n",
    "\n",
    "    return new_centers\n",
    "\n",
    "calculate_new_centers(data, data[2:4])"
   ]
  },
  {
   "cell_type": "markdown",
   "metadata": {
    "id": "R69wj9b6VxMN"
   },
   "source": [
    "We'll iterate the algorithm 4 times"
   ]
  },
  {
   "cell_type": "code",
   "execution_count": null,
   "metadata": {
    "colab": {
     "base_uri": "https://localhost:8080/",
     "height": 1000
    },
    "id": "a-TmI9p4VxMN",
    "executionInfo": {
     "status": "ok",
     "timestamp": 1738274753962,
     "user_tz": 480,
     "elapsed": 2321,
     "user": {
      "displayName": "River R Robles",
      "userId": "03599211865117737934"
     }
    },
    "outputId": "cb0b4388-d0ed-4b7d-fdcc-6bf374fc5dd1"
   },
   "outputs": [],
   "source": [
    "# Randomly initialize the means to some value (x1, x2) within our two-dimensional space\n",
    "means0 = np.array([[np.random.random()*30,np.random.random()*30], [np.random.random()*30,np.random.random()*30]])\n",
    "\n",
    "for it in range(4):\n",
    "    # Plot the current solution\n",
    "    plot_clusters(data, means0)\n",
    "    plt.title(f'Iteration: {it}')\n",
    "\n",
    "    # Next solution\n",
    "    means0 = calculate_new_centers(data, means0)"
   ]
  },
  {
   "cell_type": "code",
   "execution_count": null,
   "metadata": {
    "colab": {
     "base_uri": "https://localhost:8080/"
    },
    "id": "lu6U4NECVxMO",
    "executionInfo": {
     "status": "ok",
     "timestamp": 1738274753962,
     "user_tz": 480,
     "elapsed": 2,
     "user": {
      "displayName": "River R Robles",
      "userId": "03599211865117737934"
     }
    },
    "outputId": "9236cb7b-4fd8-4d56-853b-80134c999e45"
   },
   "outputs": [],
   "source": [
    "# Final result\n",
    "means0"
   ]
  },
  {
   "cell_type": "code",
   "execution_count": null,
   "metadata": {
    "colab": {
     "base_uri": "https://localhost:8080/"
    },
    "id": "ZEfyp6TZVxMO",
    "executionInfo": {
     "status": "ok",
     "timestamp": 1738274754099,
     "user_tz": 480,
     "elapsed": 2,
     "user": {
      "displayName": "River R Robles",
      "userId": "03599211865117737934"
     }
    },
    "outputId": "c599b339-624e-491c-c474-9ac7d27a3389"
   },
   "outputs": [],
   "source": [
    "# Final cluster assignments\n",
    "predict_clusters(data, means0)"
   ]
  },
  {
   "cell_type": "markdown",
   "metadata": {
    "id": "MAdinChVVxMO"
   },
   "source": [
    "### **Task**\n",
    "    \n",
    "Repeat the above iterations a few times. What are potential problems with the algorithm?\n",
    "    "
   ]
  },
  {
   "cell_type": "markdown",
   "metadata": {
    "id": "OnAMU2XIVxMO"
   },
   "source": [
    "## K-Means with sklearn\n",
    "\n",
    "In practice we often use algorithms from well-developed packages."
   ]
  },
  {
   "cell_type": "code",
   "execution_count": null,
   "metadata": {
    "id": "KUA3t4KyVxMO",
    "executionInfo": {
     "status": "ok",
     "timestamp": 1738274766709,
     "user_tz": 480,
     "elapsed": 3858,
     "user": {
      "displayName": "River R Robles",
      "userId": "03599211865117737934"
     }
    }
   },
   "outputs": [],
   "source": [
    "# We now import the KMeans module in sklearn\n",
    "from sklearn.cluster import KMeans"
   ]
  },
  {
   "cell_type": "code",
   "execution_count": null,
   "metadata": {
    "id": "3WbolQuwVxMP",
    "executionInfo": {
     "status": "ok",
     "timestamp": 1738274766709,
     "user_tz": 480,
     "elapsed": 2,
     "user": {
      "displayName": "River R Robles",
      "userId": "03599211865117737934"
     }
    }
   },
   "outputs": [],
   "source": [
    "# We can use a one-liner to fit our data using 2 clusters\n",
    "kmeans = KMeans(n_clusters=2, random_state=0).fit(data)"
   ]
  },
  {
   "cell_type": "code",
   "execution_count": null,
   "metadata": {
    "colab": {
     "base_uri": "https://localhost:8080/"
    },
    "id": "2sei_5BfVxMP",
    "executionInfo": {
     "status": "ok",
     "timestamp": 1738274766890,
     "user_tz": 480,
     "elapsed": 182,
     "user": {
      "displayName": "River R Robles",
      "userId": "03599211865117737934"
     }
    },
    "outputId": "c6becbc4-8f05-4977-bafe-8495992addb6"
   },
   "outputs": [],
   "source": [
    "# The final means of each cluster\n",
    "kmeans.cluster_centers_"
   ]
  },
  {
   "cell_type": "code",
   "execution_count": null,
   "metadata": {
    "colab": {
     "base_uri": "https://localhost:8080/"
    },
    "id": "Gtwxm-h3VxMP",
    "executionInfo": {
     "status": "ok",
     "timestamp": 1738274766890,
     "user_tz": 480,
     "elapsed": 5,
     "user": {
      "displayName": "River R Robles",
      "userId": "03599211865117737934"
     }
    },
    "outputId": "cf4963e7-87de-4b6e-8adf-0e55ae2ea4a8"
   },
   "outputs": [],
   "source": [
    "# Label per data point indicating the final cluster it has been assigned to:\n",
    "kmeans.labels_"
   ]
  },
  {
   "cell_type": "code",
   "execution_count": null,
   "metadata": {
    "colab": {
     "base_uri": "https://localhost:8080/"
    },
    "id": "w-lPrSaMVxMP",
    "executionInfo": {
     "status": "ok",
     "timestamp": 1738274766890,
     "user_tz": 480,
     "elapsed": 3,
     "user": {
      "displayName": "River R Robles",
      "userId": "03599211865117737934"
     }
    },
    "outputId": "f595ace0-1c54-4548-a819-e67cb86e342c"
   },
   "outputs": [],
   "source": [
    "# We can predict new values\n",
    "kmeans.predict([[0, 0], [17, 15]] )"
   ]
  },
  {
   "cell_type": "code",
   "execution_count": null,
   "metadata": {
    "colab": {
     "base_uri": "https://localhost:8080/",
     "height": 430
    },
    "id": "TBiKdP6bVxMP",
    "executionInfo": {
     "status": "ok",
     "timestamp": 1738274767411,
     "user_tz": 480,
     "elapsed": 523,
     "user": {
      "displayName": "River R Robles",
      "userId": "03599211865117737934"
     }
    },
    "outputId": "3184127b-7805-4c02-fc73-259a142b2986"
   },
   "outputs": [],
   "source": [
    "# Use the same plotting function as before\n",
    "plot_clusters(data, kmeans.cluster_centers_)"
   ]
  },
  {
   "cell_type": "markdown",
   "metadata": {
    "id": "IyhiLltbVxMQ"
   },
   "source": [
    "### **Task**\n",
    "    \n",
    "Try K-means on a smoother dataset, generated below. Plot the clusters using\n",
    "`plot_clusters()`.\n",
    "    "
   ]
  },
  {
   "cell_type": "code",
   "execution_count": null,
   "metadata": {
    "colab": {
     "base_uri": "https://localhost:8080/",
     "height": 448
    },
    "id": "fOKurP6gVxMQ",
    "executionInfo": {
     "status": "ok",
     "timestamp": 1738274771495,
     "user_tz": 480,
     "elapsed": 417,
     "user": {
      "displayName": "River R Robles",
      "userId": "03599211865117737934"
     }
    },
    "outputId": "2ca0689a-cd6c-460c-cd9c-664d69870c7b"
   },
   "outputs": [],
   "source": [
    "data2 = np.random.multivariate_normal([5, 5], np.array([[2, 1], [1,2]]), size=1000)\n",
    "plt.scatter(data2[:,0], data2[:,1])"
   ]
  },
  {
   "cell_type": "code",
   "execution_count": null,
   "metadata": {
    "id": "DMAMSh3GVxMQ",
    "executionInfo": {
     "status": "ok",
     "timestamp": 1738274772155,
     "user_tz": 480,
     "elapsed": 120,
     "user": {
      "displayName": "River R Robles",
      "userId": "03599211865117737934"
     }
    }
   },
   "outputs": [],
   "source": []
  },
  {
   "cell_type": "code",
   "execution_count": null,
   "metadata": {
    "colab": {
     "base_uri": "https://localhost:8080/",
     "height": 430
    },
    "id": "MKpl0BI7VxMQ",
    "executionInfo": {
     "status": "ok",
     "timestamp": 1738274773057,
     "user_tz": 480,
     "elapsed": 507,
     "user": {
      "displayName": "River R Robles",
      "userId": "03599211865117737934"
     }
    },
    "outputId": "6a066951-789a-4fae-873e-3bb8a08ae536"
   },
   "outputs": [],
   "source": [
    "# Use the same plotting function as before\n"
   ]
  },
  {
   "cell_type": "markdown",
   "metadata": {
    "id": "db9bk4RiVxMQ"
   },
   "source": [
    "# 2. Anomaly Detection\n",
    "\n",
    "Anomaly detection is the identification of outliers, which do not resemble the bulk of the dataset. Several techniques are used in anomaly detection, including:\n",
    "\n",
    "\n",
    "\n",
    "*   k Nearest Neighbours\n",
    "*   DBSCAN\n",
    "*   Isolation trees"
   ]
  },
  {
   "cell_type": "markdown",
   "metadata": {
    "id": "6_iT3GNeVxMQ"
   },
   "source": [
    "## k Nearest Neighbours Distance\n",
    "\n",
    "The k Nearest Neighbours distance anomaly detection algorithm assigns a score to each point in the dataset based on its distance from its kth nearest neighbour.\n",
    "\n",
    "The larger the distance score, the more likely the point is an anomaly."
   ]
  },
  {
   "cell_type": "code",
   "execution_count": null,
   "metadata": {
    "colab": {
     "base_uri": "https://localhost:8080/"
    },
    "id": "RoySpfKgVxMR",
    "executionInfo": {
     "status": "ok",
     "timestamp": 1738274774838,
     "user_tz": 480,
     "elapsed": 112,
     "user": {
      "displayName": "River R Robles",
      "userId": "03599211865117737934"
     }
    },
    "outputId": "33641349-ca28-45cb-fc1d-1d079f3a5a21"
   },
   "outputs": [],
   "source": [
    "# Randomly generate points\n",
    "data = np.random.randint(10, size=(15,2)) + 10\n",
    "\n",
    "# Add outliers\n",
    "data = np.vstack((data, np.array([5,5])))\n",
    "\n",
    "# Inspect the shape\n",
    "data.shape"
   ]
  },
  {
   "cell_type": "code",
   "execution_count": null,
   "metadata": {
    "colab": {
     "base_uri": "https://localhost:8080/",
     "height": 448
    },
    "id": "xlliiSxGVxMW",
    "executionInfo": {
     "status": "ok",
     "timestamp": 1738274775539,
     "user_tz": 480,
     "elapsed": 261,
     "user": {
      "displayName": "River R Robles",
      "userId": "03599211865117737934"
     }
    },
    "outputId": "9eba33f8-4c3b-4d0b-dbcf-f3fdc4abad3d"
   },
   "outputs": [],
   "source": [
    "# Visualize the data\n",
    "plt.scatter(data[:,0], data[:,1])"
   ]
  },
  {
   "cell_type": "markdown",
   "metadata": {
    "id": "5KMAfMidVxMW"
   },
   "source": [
    "### **Task**\n",
    "    \n",
    "Complete the implementation of the function `compute_distances` below.\n",
    "    "
   ]
  },
  {
   "cell_type": "code",
   "execution_count": null,
   "metadata": {
    "colab": {
     "base_uri": "https://localhost:8080/",
     "height": 435
    },
    "id": "1a1b8ZzsVxMW",
    "executionInfo": {
     "status": "ok",
     "timestamp": 1738274783071,
     "user_tz": 480,
     "elapsed": 496,
     "user": {
      "displayName": "River R Robles",
      "userId": "03599211865117737934"
     }
    },
    "outputId": "7bfa566c-051d-4675-b88d-2fb4242b9fcf"
   },
   "outputs": [],
   "source": [
    "# Compute distances of each point wrt all other points\n",
    "\n",
    "def compute_distances(data):\n",
    "    \"\"\"\"\n",
    "    Input: array of shape (N points, D features)\n",
    "    Output: array of shape (N,N)\n",
    "    \"\"\"\n",
    "\n",
    "\n",
    "distances = compute_distances(data)\n",
    "\n",
    "#visalize the distances\n",
    "plt.matshow(distances)\n",
    "plt.colorbar()"
   ]
  },
  {
   "cell_type": "code",
   "execution_count": null,
   "metadata": {
    "id": "y8fp1BBnVxMW",
    "executionInfo": {
     "status": "ok",
     "timestamp": 1738274783739,
     "user_tz": 480,
     "elapsed": 104,
     "user": {
      "displayName": "River R Robles",
      "userId": "03599211865117737934"
     }
    }
   },
   "outputs": [],
   "source": [
    "# For each point, sort the distances and check which is the (k + 1)th nearest neighbour\n",
    "\n",
    "def generate_knn_distances(k, distances):\n",
    "\n",
    "    knn_distances = []\n",
    "\n",
    "    for i in range(len(data)):\n",
    "\n",
    "        sorted_distances = np.sort(distances[i,:])\n",
    "\n",
    "        knn_distances.append(sorted_distances[k+1])\n",
    "\n",
    "    return np.array(knn_distances)"
   ]
  },
  {
   "cell_type": "code",
   "execution_count": null,
   "metadata": {
    "colab": {
     "base_uri": "https://localhost:8080/",
     "height": 448
    },
    "id": "y12eMd3gVxMX",
    "executionInfo": {
     "status": "ok",
     "timestamp": 1738274784988,
     "user_tz": 480,
     "elapsed": 362,
     "user": {
      "displayName": "River R Robles",
      "userId": "03599211865117737934"
     }
    },
    "outputId": "554e0f05-a9cb-4bc7-ef8d-b56b2b5b3b73"
   },
   "outputs": [],
   "source": [
    "# Plot scatter plot with heat map\n",
    "\n",
    "knn_distances = generate_knn_distances(3, distances)\n",
    "\n",
    "plt.scatter(data[:,0], data[:,1], c=knn_distances, edgecolors='black')\n",
    "plt.colorbar(label='Outlier Score')"
   ]
  },
  {
   "cell_type": "markdown",
   "metadata": {
    "id": "f0ZGQ_drVxMX"
   },
   "source": [
    "### Try on some other data"
   ]
  },
  {
   "cell_type": "code",
   "execution_count": null,
   "metadata": {
    "colab": {
     "base_uri": "https://localhost:8080/",
     "height": 448
    },
    "id": "BFQSPwOGVxMX",
    "executionInfo": {
     "status": "ok",
     "timestamp": 1738274786337,
     "user_tz": 480,
     "elapsed": 351,
     "user": {
      "displayName": "River R Robles",
      "userId": "03599211865117737934"
     }
    },
    "outputId": "e6eab977-3025-4ed6-8f35-8a28822ebc2d"
   },
   "outputs": [],
   "source": [
    "# Randomly generate points\n",
    "\n",
    "data = np.random.randint(10, size=(15,2)) + 10\n",
    "\n",
    "# Add outliers\n",
    "\n",
    "data = np.vstack((data, np.array([[5,5], [6,6]])))\n",
    "\n",
    "distances = compute_distances(data)\n",
    "\n",
    "knn_distances = generate_knn_distances(3, distances)\n",
    "\n",
    "plt.scatter(data[:,0], data[:,1], c=knn_distances, edgecolors='black')\n",
    "plt.colorbar(label='Outlier Score')"
   ]
  },
  {
   "cell_type": "code",
   "execution_count": null,
   "metadata": {
    "colab": {
     "base_uri": "https://localhost:8080/",
     "height": 451
    },
    "id": "wk62tF_oVxMX",
    "executionInfo": {
     "status": "ok",
     "timestamp": 1738274787609,
     "user_tz": 480,
     "elapsed": 355,
     "user": {
      "displayName": "River R Robles",
      "userId": "03599211865117737934"
     }
    },
    "outputId": "4a45b61f-9e0a-46df-84c0-c89f1d5b48e7"
   },
   "outputs": [],
   "source": [
    "# Randomly generate points\n",
    "\n",
    "data_1 = np.random.randint(10, size=(15,2)) + 10\n",
    "\n",
    "data_2 = np.random.randint(10, size=(15,2)) + 20\n",
    "\n",
    "# Add outliers\n",
    "\n",
    "data = np.vstack((data_1, data_2))\n",
    "\n",
    "data = np.vstack((data, np.array([[5,5], [6,6]])))\n",
    "\n",
    "distances = compute_distances(data)\n",
    "\n",
    "knn_distances = generate_knn_distances(3, distances)\n",
    "\n",
    "plt.scatter(data[:,0], data[:,1], c=knn_distances, edgecolors='black')\n",
    "plt.colorbar(label='Outlier Score')"
   ]
  },
  {
   "cell_type": "markdown",
   "metadata": {
    "id": "mL7Ct7FGVxMX"
   },
   "source": [
    "# 3. Feature dimensionality reduction\n",
    "\n",
    "Principal Components Analysis (PCA) is an unsupervised learning technique which reduces the dimensionality of the features."
   ]
  },
  {
   "cell_type": "code",
   "execution_count": null,
   "metadata": {
    "id": "kznhUQ5yVxMY",
    "executionInfo": {
     "status": "ok",
     "timestamp": 1738274788791,
     "user_tz": 480,
     "elapsed": 133,
     "user": {
      "displayName": "River R Robles",
      "userId": "03599211865117737934"
     }
    }
   },
   "outputs": [],
   "source": [
    "import pandas as pd"
   ]
  },
  {
   "cell_type": "code",
   "execution_count": null,
   "metadata": {
    "id": "-S5zuAM8VxMY",
    "executionInfo": {
     "status": "ok",
     "timestamp": 1738274789195,
     "user_tz": 480,
     "elapsed": 307,
     "user": {
      "displayName": "River R Robles",
      "userId": "03599211865117737934"
     }
    }
   },
   "outputs": [],
   "source": [
    "# load make_blobs to simulate data\n",
    "from sklearn.datasets import make_blobs"
   ]
  },
  {
   "cell_type": "code",
   "execution_count": null,
   "metadata": {
    "colab": {
     "base_uri": "https://localhost:8080/"
    },
    "id": "XVYoWUG7VxMY",
    "executionInfo": {
     "status": "ok",
     "timestamp": 1738274789195,
     "user_tz": 480,
     "elapsed": 2,
     "user": {
      "displayName": "River R Robles",
      "userId": "03599211865117737934"
     }
    },
    "outputId": "51960168-0f17-4921-a84c-c5f07eb6ffba"
   },
   "outputs": [],
   "source": [
    "X1, Y1 = make_blobs(n_features=10,\n",
    "         n_samples=100,\n",
    "         centers=4, random_state=4,\n",
    "         cluster_std=2)\n",
    "\n",
    "# Inspect the shape\n",
    "X1.shape, Y1.shape"
   ]
  },
  {
   "cell_type": "code",
   "execution_count": null,
   "metadata": {
    "colab": {
     "base_uri": "https://localhost:8080/"
    },
    "id": "zohw2GtdVxMY",
    "executionInfo": {
     "status": "ok",
     "timestamp": 1738274789938,
     "user_tz": 480,
     "elapsed": 118,
     "user": {
      "displayName": "River R Robles",
      "userId": "03599211865117737934"
     }
    },
    "outputId": "6bf03518-5f77-421c-a0ac-cb0a991f549d"
   },
   "outputs": [],
   "source": [
    "# Check the labels\n",
    "Y1"
   ]
  },
  {
   "cell_type": "code",
   "execution_count": null,
   "metadata": {
    "colab": {
     "base_uri": "https://localhost:8080/"
    },
    "id": "vaUaMd8XVxMY",
    "executionInfo": {
     "status": "ok",
     "timestamp": 1738274790362,
     "user_tz": 480,
     "elapsed": 109,
     "user": {
      "displayName": "River R Robles",
      "userId": "03599211865117737934"
     }
    },
    "outputId": "90b5bdde-461e-479b-fb7d-0b26d57905d7"
   },
   "outputs": [],
   "source": [
    "# These are the unique ones\n",
    "set(Y1)"
   ]
  },
  {
   "cell_type": "markdown",
   "metadata": {
    "id": "_q4qD5p9VxMZ"
   },
   "source": [
    "# Try to visualize\n",
    "Visualizing this 10-dimensional space is difficult. Try various 2D and 3D projections"
   ]
  },
  {
   "cell_type": "code",
   "execution_count": null,
   "metadata": {
    "id": "HxVUJy6ZVxMZ",
    "executionInfo": {
     "status": "ok",
     "timestamp": 1738274791468,
     "user_tz": 480,
     "elapsed": 107,
     "user": {
      "displayName": "River R Robles",
      "userId": "03599211865117737934"
     }
    }
   },
   "outputs": [],
   "source": [
    "# Plot setup\n",
    "from matplotlib import colors\n",
    "cmap = plt.cm.rainbow\n",
    "norm = colors.BoundaryNorm(np.arange(-.5, 4, 1), cmap.N)"
   ]
  },
  {
   "cell_type": "markdown",
   "metadata": {
    "id": "TZ511gp9VxMZ"
   },
   "source": [
    "### **Task:**\n",
    "Try various projections: 0,1,2, or 3,6,9\n"
   ]
  },
  {
   "cell_type": "code",
   "execution_count": null,
   "metadata": {
    "colab": {
     "base_uri": "https://localhost:8080/",
     "height": 448
    },
    "id": "XcuhOIL9VxMZ",
    "executionInfo": {
     "status": "ok",
     "timestamp": 1738274803497,
     "user_tz": 480,
     "elapsed": 769,
     "user": {
      "displayName": "River R Robles",
      "userId": "03599211865117737934"
     }
    },
    "outputId": "2831694f-2f85-454d-fe99-2d2ef160ce9b"
   },
   "outputs": [],
   "source": []
  },
  {
   "cell_type": "markdown",
   "metadata": {
    "id": "IikDzwztVxMZ"
   },
   "source": [
    "# PCA decomposition\n",
    "\n",
    "Principal Component Analysis (see https://en.wikipedia.org/wiki/Principal_component_analysis) can be useful to project a high-dimensional space onto a lower dimensional space."
   ]
  },
  {
   "cell_type": "code",
   "execution_count": null,
   "metadata": {
    "id": "og9Kf_eRVxMZ",
    "executionInfo": {
     "status": "ok",
     "timestamp": 1738274804174,
     "user_tz": 480,
     "elapsed": 139,
     "user": {
      "displayName": "River R Robles",
      "userId": "03599211865117737934"
     }
    }
   },
   "outputs": [],
   "source": [
    "from sklearn import decomposition"
   ]
  },
  {
   "cell_type": "code",
   "execution_count": null,
   "metadata": {
    "id": "hs-HS1lJVxMa",
    "executionInfo": {
     "status": "ok",
     "timestamp": 1738274804296,
     "user_tz": 480,
     "elapsed": 1,
     "user": {
      "displayName": "River R Robles",
      "userId": "03599211865117737934"
     }
    }
   },
   "outputs": [],
   "source": [
    "# Get the documentation\n",
    "# ?decomposition.PCA"
   ]
  },
  {
   "cell_type": "code",
   "execution_count": null,
   "metadata": {
    "colab": {
     "base_uri": "https://localhost:8080/"
    },
    "id": "LTYnzxwSVxMa",
    "executionInfo": {
     "status": "ok",
     "timestamp": 1738274804589,
     "user_tz": 480,
     "elapsed": 2,
     "user": {
      "displayName": "River R Robles",
      "userId": "03599211865117737934"
     }
    },
    "outputId": "4106158f-4404-47c1-fc27-385cd26943ce"
   },
   "outputs": [],
   "source": [
    "pca = decomposition.PCA(n_components=4)\n",
    "\n",
    "pc = pca.fit_transform(X1)\n",
    "\n",
    "pc.shape"
   ]
  },
  {
   "cell_type": "code",
   "execution_count": null,
   "metadata": {
    "colab": {
     "base_uri": "https://localhost:8080/",
     "height": 424
    },
    "id": "hFo1jwNDVxMa",
    "executionInfo": {
     "status": "ok",
     "timestamp": 1738274805055,
     "user_tz": 480,
     "elapsed": 98,
     "user": {
      "displayName": "River R Robles",
      "userId": "03599211865117737934"
     }
    },
    "outputId": "0af21a8b-6cff-45b8-9ead-865e34b7275c"
   },
   "outputs": [],
   "source": [
    "# Organize the data with pandas\n",
    "\n",
    "pc_df = pd.DataFrame(data = pc,\n",
    "        columns = ['PC1', 'PC2','PC3','PC4'])\n",
    "pc_df['Cluster'] = Y1\n",
    "pc_df"
   ]
  },
  {
   "cell_type": "code",
   "execution_count": null,
   "metadata": {
    "colab": {
     "base_uri": "https://localhost:8080/"
    },
    "id": "-pMLukOFVxMa",
    "executionInfo": {
     "status": "ok",
     "timestamp": 1738274806022,
     "user_tz": 480,
     "elapsed": 106,
     "user": {
      "displayName": "River R Robles",
      "userId": "03599211865117737934"
     }
    },
    "outputId": "8f2b3b6d-5ae4-4e70-9097-4d383c6b0d9a"
   },
   "outputs": [],
   "source": [
    "pca.explained_variance_ratio_"
   ]
  },
  {
   "cell_type": "code",
   "execution_count": null,
   "metadata": {
    "colab": {
     "base_uri": "https://localhost:8080/",
     "height": 462
    },
    "id": "z_JAlC3AVxMa",
    "executionInfo": {
     "status": "ok",
     "timestamp": 1738274808805,
     "user_tz": 480,
     "elapsed": 411,
     "user": {
      "displayName": "River R Robles",
      "userId": "03599211865117737934"
     }
    },
    "outputId": "abf2fbce-a21d-484e-d97d-48dc22034866"
   },
   "outputs": [],
   "source": [
    "df = pd.DataFrame({'var':pca.explained_variance_ratio_,\n",
    "             'PC':['PC1','PC2','PC3','PC4']})\n",
    "df.plot.bar(x='PC',y=\"var\", color=\"c\");"
   ]
  },
  {
   "cell_type": "code",
   "execution_count": null,
   "metadata": {
    "colab": {
     "base_uri": "https://localhost:8080/",
     "height": 430
    },
    "id": "uYjcI3l3VxMb",
    "executionInfo": {
     "status": "ok",
     "timestamp": 1738274809219,
     "user_tz": 480,
     "elapsed": 415,
     "user": {
      "displayName": "River R Robles",
      "userId": "03599211865117737934"
     }
    },
    "outputId": "e1dd0c66-5557-493c-b226-b62ab3687418"
   },
   "outputs": [],
   "source": [
    "from mpl_toolkits.mplot3d import Axes3D\n",
    "\n",
    "fig = plt.figure()\n",
    "ax = fig.add_subplot(111, projection='3d')\n",
    "ax.scatter(pc_df['PC1'], pc_df['PC2'], pc_df['PC3'], c=pc_df['Cluster'])\n",
    "#ax.legend()\n",
    "ax.set_xlabel(\"PC1\")\n",
    "ax.set_ylabel(\"PC2\")\n",
    "ax.set_zlabel(\"PC3\")"
   ]
  },
  {
   "cell_type": "markdown",
   "metadata": {
    "id": "wbBon-WrVxMb"
   },
   "source": [
    "# Homework"
   ]
  },
  {
   "cell_type": "markdown",
   "metadata": {
    "id": "8l-Shcd0VxMb"
   },
   "source": [
    "### **Homework**\n",
    "\n",
    "Perform K-means clustering on both the original and the PCA-reduced blob dataset. Do you get the same results?\n",
    "\n",
    "Note: the specific cluster index assigned by K-means to a given cluster (e.g. `0` or `1` or `2`) may differ (even between repeated calls of k-means on the same dataset), but the value of these specific indices do not carry any meaning: the important point is whether K-means finds the same separate clusters. (Irrespective of how they are labeled.)\n",
    "    \n",
    "</div>"
   ]
  },
  {
   "cell_type": "markdown",
   "metadata": {
    "id": "OuSdnKOeVxMb"
   },
   "source": [
    "### SOLUTION"
   ]
  },
  {
   "cell_type": "code",
   "execution_count": null,
   "metadata": {
    "colab": {
     "base_uri": "https://localhost:8080/"
    },
    "id": "HclbeTUGVxMb",
    "executionInfo": {
     "status": "ok",
     "timestamp": 1738274837372,
     "user_tz": 480,
     "elapsed": 90,
     "user": {
      "displayName": "River R Robles",
      "userId": "03599211865117737934"
     }
    },
    "outputId": "e9dadd95-40e4-4818-d038-6270df01826a"
   },
   "outputs": [],
   "source": []
  },
  {
   "cell_type": "markdown",
   "metadata": {
    "id": "LpgSorzuVxMe"
   },
   "source": [
    "### **Homework**\n",
    "    \n",
    "In K-means, we need to know the number of clusters in advance. Try using the DBSCAN algorithm instead, once again on both the original and the PCA-reduced dataset, and see if you get the same results.\n",
    "\n",
    "(Note: DBSCAN requires the eps parameter to be set, i.e. the maximum distance between two samples for them to be considered as in the same neighborhood)\n"
   ]
  },
  {
   "cell_type": "code",
   "execution_count": null,
   "metadata": {
    "id": "1J8D4K3XVxMe",
    "executionInfo": {
     "status": "ok",
     "timestamp": 1738274849443,
     "user_tz": 480,
     "elapsed": 134,
     "user": {
      "displayName": "River R Robles",
      "userId": "03599211865117737934"
     }
    }
   },
   "outputs": [],
   "source": [
    "from sklearn.cluster import DBSCAN"
   ]
  },
  {
   "cell_type": "markdown",
   "metadata": {
    "id": "TgPqKFroVxMe"
   },
   "source": [
    "### Original dataset"
   ]
  }
 ],
 "metadata": {
  "kernelspec": {
   "display_name": "Python 3",
   "language": "python",
   "name": "python3"
  },
  "language_info": {
   "codemirror_mode": {
    "name": "ipython",
    "version": 3
   },
   "file_extension": ".py",
   "mimetype": "text/x-python",
   "name": "python",
   "nbconvert_exporter": "python",
   "pygments_lexer": "ipython3",
   "version": "3.9.2"
  },
  "colab": {
   "provenance": []
  }
 },
 "nbformat": 4,
 "nbformat_minor": 0
}
