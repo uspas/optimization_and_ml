{
 "cells": [
  {
   "cell_type": "markdown",
   "metadata": {
    "id": "OygS1_u9VxME"
   },
   "source": [
    "# Lab 07 - Unsupervised learning\n",
    "\n",
    "(Adapted from [one of the 2019 ICFA tutorial notebooks](https://github.com/radiasoft/icfa_ml/blob/master/tutorials_2019/unsupervized_learning/unsupervised_learning.ipynb))\n",
    "\n",
    "## Tasks\n",
    "- K-means clustering comparison\n",
    "- DBSCAN algorithm\n",
    "\n"
   ]
  },
  {
   "cell_type": "markdown",
   "metadata": {
    "id": "tLEDeP7aVxMF"
   },
   "source": [
    "# Environment"
   ]
  },
  {
   "cell_type": "code",
   "execution_count": null,
   "metadata": {
    "collapsed": false
   },
   "outputs": [],
   "source": [
    "!pip install scikit-learn"
   ]
  },
  {
   "cell_type": "code",
   "execution_count": 1,
   "metadata": {
    "ExecuteTime": {
     "end_time": "2024-12-29T21:59:50.808572200Z",
     "start_time": "2024-12-29T21:59:48.600112900Z"
    },
    "collapsed": false
   },
   "outputs": [],
   "source": [
    "%reset -f\n",
    "\n",
    "import numpy as np\n",
    "import matplotlib.pyplot as plt"
   ]
  },
  {
   "cell_type": "markdown",
   "metadata": {
    "id": "mhHECazIVxMH"
   },
   "source": [
    "# Introduction\n",
    "\n",
    "As opposed to supervised learning, in unsupervised learning the goal is to infer a model which describes an unknown structure from unlabeled data. We'll consider two classes of unsupervised learning algorithms: clustering and anomaly detection.\n",
    "\n",
    "We'll also see how unsupervised techniques can be used to reduce the dimensionality of the input feature set."
   ]
  },
  {
   "cell_type": "markdown",
   "metadata": {
    "id": "vXQFUVUKVxMI"
   },
   "source": [
    "# 1. Clustering\n",
    "\n",
    "Clustering is the task of grouping a set of items together in such a way that items in one group (a cluster) are more similar to each other than to those in other groups.\n"
   ]
  },
  {
   "cell_type": "markdown",
   "metadata": {
    "id": "1Uzv9aKDVxMI"
   },
   "source": [
    "## K-Means Algorithm\n",
    "\n",
    "Suppose we have a dataset {$\\boldsymbol{x}_1$, $\\boldsymbol{x}_2$, $\\boldsymbol{x}_3$, ..., $\\boldsymbol{x}_N$} consisting of $N$ observations of $D$ dimensional vectors $\\boldsymbol{x}$ (i.e. $D$ features).\n",
    "\n",
    "The goal is to partition the dataset into $K$ clusters. Therefore, the number of clusters in our dataset needs to be known a priori.\n",
    "\n",
    "A cluster is a group of data points whose distances between one another in $D$-dimensional space are small compared to points outside the cluster.\n",
    "\n",
    "This can be formalized by introducing a $D$-dimensional mean vector $\\boldsymbol{\\mu}_k$, where $k = 1,2,3,...K$. This represents the center of the cluster.\n",
    "\n",
    "The K-means clustering algorithm assigns a vector $\\boldsymbol{x}_{i}$ to the cluster which minimizes the following distortion measure: $J_k = || \\boldsymbol{x}_{i} - \\boldsymbol{\\mu}_k||^2$\n",
    "\n",
    "The mean vector is then updated by computing the mean intensity value of the considered cluster such that\n",
    "\n",
    "\\begin{equation}\n",
    "\\boldsymbol{\\mu}_k = \\frac{\\sum\\limits_i r_{i,k}\\boldsymbol{x}_{i}}{\\sum\\limits_i r_{i,k}}\n",
    "\\end{equation}\n",
    "\n",
    "where\n",
    "\n",
    "\\begin{equation}\n",
    "r_{i,k}=\\begin{cases}\n",
    "    1, & \\text{if $k = \\arg_k \\min(||\\boldsymbol{x}_{i} - \\boldsymbol{\\mu}_k||^2)$}\\\\\n",
    "    0, & \\text{otherwise}.\n",
    "  \\end{cases}\n",
    "\\end{equation}\n",
    "\n",
    "(see also Lecture 13.2 — Clustering | KMeans Algorithm — [ Machine Learning | Andrew Ng ] https://www.youtube.com/watch?v=hDmNF9JG3lo for more details)"
   ]
  },
  {
   "cell_type": "markdown",
   "metadata": {
    "id": "Nbzh3IJqVxMJ"
   },
   "source": [
    "## Create Dataset\n",
    "Let's generate a two-dimensional dataset that we can easily visualize.\n",
    "\n",
    "Note that the first 7 points are similar to each other (therefore they would belong to cluster 0) while the next 7 points are also similar to each other (they would belong to cluster 1)"
   ]
  },
  {
   "cell_type": "code",
   "execution_count": 2,
   "metadata": {
    "ExecuteTime": {
     "end_time": "2024-12-29T21:59:50.818782600Z",
     "start_time": "2024-12-29T21:59:49.914913Z"
    },
    "colab": {
     "base_uri": "https://localhost:8080/"
    },
    "executionInfo": {
     "elapsed": 119,
     "status": "ok",
     "timestamp": 1738274722404,
     "user": {
      "displayName": "River R Robles",
      "userId": "03599211865117737934"
     },
     "user_tz": 480
    },
    "id": "nqaFYylKVxMK",
    "outputId": "58d6d649-9c32-4ac2-cb5e-50ad70572c9f"
   },
   "outputs": [
    {
     "data": {
      "text/plain": [
       "(14, 2)"
      ]
     },
     "execution_count": 2,
     "metadata": {},
     "output_type": "execute_result"
    }
   ],
   "source": [
    "# Generate a dataset\n",
    "data = np.array([[2,2], [2,3], [3,2], [3,3], [5,4], [1,1], [6,4], [15,12], [14,14], [18,14], [25,30], [21,17], [18,16], [12,18]])\n",
    "\n",
    "# Inspect the shape\n",
    "data.shape"
   ]
  },
  {
   "cell_type": "code",
   "execution_count": 3,
   "metadata": {
    "ExecuteTime": {
     "end_time": "2024-12-29T21:59:50.828895Z",
     "start_time": "2024-12-29T21:59:49.945177300Z"
    },
    "colab": {
     "base_uri": "https://localhost:8080/",
     "height": 448
    },
    "executionInfo": {
     "elapsed": 1078,
     "status": "ok",
     "timestamp": 1738274723836,
     "user": {
      "displayName": "River R Robles",
      "userId": "03599211865117737934"
     },
     "user_tz": 480
    },
    "id": "4yu8xqoMVxMK",
    "outputId": "49e8a640-de11-4dee-9bbe-575c22e23b8a"
   },
   "outputs": [
    {
     "data": {
      "text/plain": [
       "<matplotlib.collections.PathCollection at 0x78c9e6b51bd0>"
      ]
     },
     "execution_count": 3,
     "metadata": {},
     "output_type": "execute_result"
    },
    {
     "data": {
      "image/png": "[encoded data removed]",
      "text/plain": [
       "<Figure size 640x480 with 1 Axes>"
      ]
     },
     "metadata": {},
     "output_type": "display_data"
    }
   ],
   "source": [
    "# Plot the data\n",
    "plt.scatter(data[:,0], data[:,1])"
   ]
  },
  {
   "cell_type": "markdown",
   "metadata": {
    "id": "FS99UNIJVxML"
   },
   "source": [
    "## Clustering by distances"
   ]
  },
  {
   "cell_type": "markdown",
   "metadata": {
    "id": "Srh7yUvDVxML"
   },
   "source": [
    "### **Task**\n",
    "Complete the implementation of the functions `distance`, `predict_cluster` and `predict_clusters`, which are used within the k-means algorithm.\n",
    "    "
   ]
  },
  {
   "cell_type": "code",
   "execution_count": 4,
   "metadata": {
    "ExecuteTime": {
     "end_time": "2024-12-29T21:59:50.828895Z",
     "start_time": "2024-12-29T21:59:50.261877Z"
    },
    "colab": {
     "base_uri": "https://localhost:8080/"
    },
    "executionInfo": {
     "elapsed": 130,
     "status": "ok",
     "timestamp": 1738274736571,
     "user": {
      "displayName": "River R Robles",
      "userId": "03599211865117737934"
     },
     "user_tz": 480
    },
    "id": "cLGRjwO0VxML",
    "outputId": "903ca479-290b-47c8-a370-9eeb3d7cc860"
   },
   "outputs": [
    {
     "data": {
      "text/plain": [
       "1.0"
      ]
     },
     "execution_count": 4,
     "metadata": {},
     "output_type": "execute_result"
    }
   ],
   "source": [
    "# Define a distance function as the Euclidean distance\n",
    "def distance(pt1, pt2):\n",
    "\n",
    "    ## SOLUTION\n",
    "    return np.sqrt(np.sum((pt1 - pt2)**2))\n",
    "\n",
    "# Test\n",
    "distance(data[0], data[1])"
   ]
  },
  {
   "cell_type": "code",
   "execution_count": 5,
   "metadata": {
    "ExecuteTime": {
     "end_time": "2024-12-29T21:59:50.828895Z",
     "start_time": "2024-12-29T21:59:50.290189200Z"
    },
    "colab": {
     "base_uri": "https://localhost:8080/"
    },
    "executionInfo": {
     "elapsed": 125,
     "status": "ok",
     "timestamp": 1738274738548,
     "user": {
      "displayName": "River R Robles",
      "userId": "03599211865117737934"
     },
     "user_tz": 480
    },
    "id": "C_fMj0ksVxMM",
    "outputId": "6f0c3242-e457-4b36-904e-0abd7e0aba92"
   },
   "outputs": [
    {
     "data": {
      "text/plain": [
       "0"
      ]
     },
     "execution_count": 5,
     "metadata": {},
     "output_type": "execute_result"
    }
   ],
   "source": [
    "# Return a cluster index of a single data point, given a list of cluster centers\n",
    "def predict_cluster(pt1, centers):\n",
    "\n",
    "    ## SOLUTION\n",
    "    dist = [distance(pt1, mu) for mu in centers]\n",
    "\n",
    "    ix = np.argmin(dist)\n",
    "\n",
    "    return ix\n",
    "\n",
    "# Test. This should return 0\n",
    "predict_cluster(data[0], [ np.array([1,2]), np.array([20,20]) ] )"
   ]
  },
  {
   "cell_type": "code",
   "execution_count": 6,
   "metadata": {
    "ExecuteTime": {
     "end_time": "2024-12-29T21:59:50.828895Z",
     "start_time": "2024-12-29T21:59:50.302347500Z"
    },
    "colab": {
     "base_uri": "https://localhost:8080/"
    },
    "executionInfo": {
     "elapsed": 124,
     "status": "ok",
     "timestamp": 1738274739602,
     "user": {
      "displayName": "River R Robles",
      "userId": "03599211865117737934"
     },
     "user_tz": 480
    },
    "id": "oB5b5uS2VxMM",
    "outputId": "2799c1e3-f46e-45da-80b8-9ffa3b2ad681"
   },
   "outputs": [
    {
     "data": {
      "text/plain": [
       "array([0, 0, 0, 0, 0, 0, 0, 1, 1, 1, 1, 1, 1, 1])"
      ]
     },
     "execution_count": 6,
     "metadata": {},
     "output_type": "execute_result"
    }
   ],
   "source": [
    "# Return an array of cluster indexes (cluster_labels)\n",
    "def predict_clusters(data, centers):\n",
    "    ## SOLUTION\n",
    "    return np.array([predict_cluster(pt, centers) for pt in data])\n",
    "\n",
    "# Test. This should return an array of labels: array([0, 0, 0, 0, 0, 0, 0, 1, 1, 1, 1, 1, 1, 1])\n",
    "predict_clusters(data, [ np.array([1,2]), np.array([20, 20]) ] )"
   ]
  },
  {
   "cell_type": "markdown",
   "metadata": {
    "id": "7i0hYdxJVxMM"
   },
   "source": [
    "## Visualization\n",
    "\n",
    "The code below assigns colors to each cluster: Cluster 0 will be blue, Cluster 1 will be red, etc."
   ]
  },
  {
   "cell_type": "code",
   "execution_count": 7,
   "metadata": {
    "ExecuteTime": {
     "end_time": "2024-12-29T21:59:50.887804500Z",
     "start_time": "2024-12-29T21:59:50.332741300Z"
    },
    "colab": {
     "base_uri": "https://localhost:8080/",
     "height": 430
    },
    "executionInfo": {
     "elapsed": 383,
     "status": "ok",
     "timestamp": 1738274741605,
     "user": {
      "displayName": "River R Robles",
      "userId": "03599211865117737934"
     },
     "user_tz": 480
    },
    "id": "fr3NbjJmVxMM",
    "outputId": "c296c133-767e-4dee-fa4d-2faff7a9eed5"
   },
   "outputs": [
    {
     "data": {
      "image/png": "[encoded data removed]",
      "text/plain": [
       "<Figure size 640x480 with 1 Axes>"
      ]
     },
     "metadata": {},
     "output_type": "display_data"
    }
   ],
   "source": [
    "def plot_clusters(data, centers):\n",
    "\n",
    "    # Get the cluster indices\n",
    "    cluster_labels = predict_clusters(data, centers)\n",
    "\n",
    "    fig, ax = plt.subplots()\n",
    "    colors = ['blue', 'red', 'green', 'orange']\n",
    "    for ix, center in enumerate(centers):\n",
    "        cdata = data[cluster_labels == ix]\n",
    "        ax.scatter(cdata[:,0], cdata[:,1], color=colors[ix], label=f'Cluster {ix}')\n",
    "        ax.scatter(center[0], center[1], marker='x', color=colors[ix], label=f'Cluster center {ix}')\n",
    "    ax.legend()\n",
    "\n",
    "plot_clusters(data,  [ np.array([4,2]), np.array([20, 20]) ] )"
   ]
  },
  {
   "cell_type": "markdown",
   "metadata": {
    "id": "RE_r-vC_VxMN"
   },
   "source": [
    "## Algorithm"
   ]
  },
  {
   "cell_type": "markdown",
   "metadata": {
    "id": "00Tl0U4AVxMN"
   },
   "source": [
    "### **Task**\n",
    "    \n",
    "Complete the implementation of the function below, which performs one iteration of k-means, i.e.:\n",
    "    \n",
    "- Finding the center for each data point\n",
    "- Calculating the mean of the data points associated with each cluster.\n",
    "    \n"
   ]
  },
  {
   "cell_type": "code",
   "execution_count": 8,
   "metadata": {
    "ExecuteTime": {
     "end_time": "2024-12-29T21:59:51.213927400Z",
     "start_time": "2024-12-29T21:59:50.839063700Z"
    },
    "colab": {
     "base_uri": "https://localhost:8080/"
    },
    "executionInfo": {
     "elapsed": 114,
     "status": "ok",
     "timestamp": 1738274751170,
     "user": {
      "displayName": "River R Robles",
      "userId": "03599211865117737934"
     },
     "user_tz": 480
    },
    "id": "0oNM4HuCVxMN",
    "outputId": "ba3d13ac-77e8-4b4c-b597-e8db23db4f14"
   },
   "outputs": [
    {
     "data": {
      "text/plain": [
       "[array([2.        , 1.66666667]), array([12.63636364, 12.27272727])]"
      ]
     },
     "execution_count": 8,
     "metadata": {},
     "output_type": "execute_result"
    }
   ],
   "source": [
    "# This will perform one iteration of the algorithm\n",
    "def calculate_new_centers(data, centers):\n",
    "    \"\"\"\n",
    "    Args:\n",
    "        data (array-like): points with shape (N points, D features)\n",
    "        centers (list): initial cluster centers\n",
    "\n",
    "    Returns:\n",
    "        new_centers (list): new centers\n",
    "\n",
    "    \"\"\"\n",
    "\n",
    "    ## SOLUTION\n",
    "\n",
    "    # List of indices\n",
    "    cluster_labels = predict_clusters(data, centers)\n",
    "\n",
    "    # Create new centers based on the means of the clusters\n",
    "    new_centers = []\n",
    "    for ix in range(len(centers)):\n",
    "        cdata = data[cluster_labels == ix]\n",
    "        mean = np.mean(cdata, axis=0)\n",
    "        new_centers.append(mean)\n",
    "\n",
    "    return new_centers\n",
    "\n",
    "calculate_new_centers(data, data[2:4])"
   ]
  },
  {
   "cell_type": "markdown",
   "metadata": {
    "id": "R69wj9b6VxMN"
   },
   "source": [
    "We'll iterate the algorithm 4 times"
   ]
  },
  {
   "cell_type": "code",
   "execution_count": 9,
   "metadata": {
    "ExecuteTime": {
     "end_time": "2024-12-29T21:59:52.646370300Z",
     "start_time": "2024-12-29T21:59:50.857361800Z"
    },
    "colab": {
     "base_uri": "https://localhost:8080/",
     "height": 1000
    },
    "executionInfo": {
     "elapsed": 2321,
     "status": "ok",
     "timestamp": 1738274753962,
     "user": {
      "displayName": "River R Robles",
      "userId": "03599211865117737934"
     },
     "user_tz": 480
    },
    "id": "a-TmI9p4VxMN",
    "outputId": "cb0b4388-d0ed-4b7d-fdcc-6bf374fc5dd1"
   },
   "outputs": [
    {
     "data": {
      "image/png": "[encoded data removed]",
      "text/plain": [
       "<Figure size 640x480 with 1 Axes>"
      ]
     },
     "metadata": {},
     "output_type": "display_data"
    },
    {
     "data": {
      "image/png": "[encoded data removed]",
      "text/plain": [
       "<Figure size 640x480 with 1 Axes>"
      ]
     },
     "metadata": {},
     "output_type": "display_data"
    },
    {
     "data": {
      "image/png": "[encoded data removed]",
      "text/plain": [
       "<Figure size 640x480 with 1 Axes>"
      ]
     },
     "metadata": {},
     "output_type": "display_data"
    },
    {
     "data": {
      "image/png": "[encoded data removed]",
      "text/plain": [
       "<Figure size 640x480 with 1 Axes>"
      ]
     },
     "metadata": {},
     "output_type": "display_data"
    }
   ],
   "source": [
    "# Randomly initialize the means to some value (x1, x2) within our two-dimensional space\n",
    "means0 = np.array([[np.random.random()*30,np.random.random()*30], [np.random.random()*30,np.random.random()*30]])\n",
    "\n",
    "for it in range(4):\n",
    "    # Plot the current solution\n",
    "    plot_clusters(data, means0)\n",
    "    plt.title(f'Iteration: {it}')\n",
    "\n",
    "    # Next solution\n",
    "    means0 = calculate_new_centers(data, means0)"
   ]
  },
  {
   "cell_type": "code",
   "execution_count": 10,
   "metadata": {
    "ExecuteTime": {
     "end_time": "2024-12-29T21:59:52.746296100Z",
     "start_time": "2024-12-29T21:59:52.646370300Z"
    },
    "colab": {
     "base_uri": "https://localhost:8080/"
    },
    "executionInfo": {
     "elapsed": 2,
     "status": "ok",
     "timestamp": 1738274753962,
     "user": {
      "displayName": "River R Robles",
      "userId": "03599211865117737934"
     },
     "user_tz": 480
    },
    "id": "lu6U4NECVxMO",
    "outputId": "9236cb7b-4fd8-4d56-853b-80134c999e45"
   },
   "outputs": [
    {
     "data": {
      "text/plain": [
       "[array([17.57142857, 17.28571429]), array([3.14285714, 2.71428571])]"
      ]
     },
     "execution_count": 10,
     "metadata": {},
     "output_type": "execute_result"
    }
   ],
   "source": [
    "# Final result\n",
    "means0"
   ]
  },
  {
   "cell_type": "code",
   "execution_count": 11,
   "metadata": {
    "ExecuteTime": {
     "end_time": "2024-12-29T21:59:52.761919400Z",
     "start_time": "2024-12-29T21:59:52.663569200Z"
    },
    "colab": {
     "base_uri": "https://localhost:8080/"
    },
    "executionInfo": {
     "elapsed": 2,
     "status": "ok",
     "timestamp": 1738274754099,
     "user": {
      "displayName": "River R Robles",
      "userId": "03599211865117737934"
     },
     "user_tz": 480
    },
    "id": "ZEfyp6TZVxMO",
    "outputId": "c599b339-624e-491c-c474-9ac7d27a3389"
   },
   "outputs": [
    {
     "data": {
      "text/plain": [
       "array([1, 1, 1, 1, 1, 1, 1, 0, 0, 0, 0, 0, 0, 0])"
      ]
     },
     "execution_count": 11,
     "metadata": {},
     "output_type": "execute_result"
    }
   ],
   "source": [
    "# Final cluster assignments\n",
    "predict_clusters(data, means0)"
   ]
  },
  {
   "cell_type": "markdown",
   "metadata": {
    "id": "OnAMU2XIVxMO"
   },
   "source": [
    "## K-Means with sklearn\n",
    "\n",
    "In practice we often use algorithms from well-developed packages."
   ]
  },
  {
   "cell_type": "code",
   "execution_count": 12,
   "metadata": {
    "ExecuteTime": {
     "end_time": "2024-12-29T21:59:55.337333500Z",
     "start_time": "2024-12-29T21:59:52.699418100Z"
    },
    "executionInfo": {
     "elapsed": 3858,
     "status": "ok",
     "timestamp": 1738274766709,
     "user": {
      "displayName": "River R Robles",
      "userId": "03599211865117737934"
     },
     "user_tz": 480
    },
    "id": "KUA3t4KyVxMO"
   },
   "outputs": [],
   "source": [
    "# We now import the KMeans module in sklearn\n",
    "from sklearn.cluster import KMeans"
   ]
  },
  {
   "cell_type": "code",
   "execution_count": 13,
   "metadata": {
    "ExecuteTime": {
     "end_time": "2024-12-29T21:59:55.839565800Z",
     "start_time": "2024-12-29T21:59:55.337333500Z"
    },
    "executionInfo": {
     "elapsed": 2,
     "status": "ok",
     "timestamp": 1738274766709,
     "user": {
      "displayName": "River R Robles",
      "userId": "03599211865117737934"
     },
     "user_tz": 480
    },
    "id": "3WbolQuwVxMP"
   },
   "outputs": [],
   "source": [
    "# We can use a one-liner to fit our data using 2 clusters\n",
    "kmeans = KMeans(n_clusters=2, random_state=0).fit(data)"
   ]
  },
  {
   "cell_type": "code",
   "execution_count": 14,
   "metadata": {
    "ExecuteTime": {
     "end_time": "2024-12-29T21:59:55.928148Z",
     "start_time": "2024-12-29T21:59:55.839565800Z"
    },
    "colab": {
     "base_uri": "https://localhost:8080/"
    },
    "executionInfo": {
     "elapsed": 182,
     "status": "ok",
     "timestamp": 1738274766890,
     "user": {
      "displayName": "River R Robles",
      "userId": "03599211865117737934"
     },
     "user_tz": 480
    },
    "id": "2sei_5BfVxMP",
    "outputId": "c6becbc4-8f05-4977-bafe-8495992addb6"
   },
   "outputs": [
    {
     "data": {
      "text/plain": [
       "array([[17.57142857, 17.28571429],\n",
       "       [ 3.14285714,  2.71428571]])"
      ]
     },
     "execution_count": 14,
     "metadata": {},
     "output_type": "execute_result"
    }
   ],
   "source": [
    "# The final means of each cluster\n",
    "kmeans.cluster_centers_"
   ]
  },
  {
   "cell_type": "code",
   "execution_count": 15,
   "metadata": {
    "ExecuteTime": {
     "end_time": "2024-12-29T21:59:55.948514100Z",
     "start_time": "2024-12-29T21:59:55.879841300Z"
    },
    "colab": {
     "base_uri": "https://localhost:8080/"
    },
    "executionInfo": {
     "elapsed": 5,
     "status": "ok",
     "timestamp": 1738274766890,
     "user": {
      "displayName": "River R Robles",
      "userId": "03599211865117737934"
     },
     "user_tz": 480
    },
    "id": "Gtwxm-h3VxMP",
    "outputId": "cf4963e7-87de-4b6e-8adf-0e55ae2ea4a8"
   },
   "outputs": [
    {
     "data": {
      "text/plain": [
       "array([1, 1, 1, 1, 1, 1, 1, 0, 0, 0, 0, 0, 0, 0], dtype=int32)"
      ]
     },
     "execution_count": 15,
     "metadata": {},
     "output_type": "execute_result"
    }
   ],
   "source": [
    "# Label per data point indicating the final cluster it has been assigned to:\n",
    "kmeans.labels_"
   ]
  },
  {
   "cell_type": "code",
   "execution_count": 16,
   "metadata": {
    "ExecuteTime": {
     "end_time": "2024-12-29T21:59:56.011975500Z",
     "start_time": "2024-12-29T21:59:55.930283700Z"
    },
    "colab": {
     "base_uri": "https://localhost:8080/"
    },
    "executionInfo": {
     "elapsed": 3,
     "status": "ok",
     "timestamp": 1738274766890,
     "user": {
      "displayName": "River R Robles",
      "userId": "03599211865117737934"
     },
     "user_tz": 480
    },
    "id": "w-lPrSaMVxMP",
    "outputId": "f595ace0-1c54-4548-a819-e67cb86e342c"
   },
   "outputs": [
    {
     "data": {
      "text/plain": [
       "array([1, 0], dtype=int32)"
      ]
     },
     "execution_count": 16,
     "metadata": {},
     "output_type": "execute_result"
    }
   ],
   "source": [
    "# We can predict new values\n",
    "kmeans.predict([[0, 0], [17, 15]] )"
   ]
  },
  {
   "cell_type": "code",
   "execution_count": 17,
   "metadata": {
    "ExecuteTime": {
     "end_time": "2024-12-29T21:59:56.583793600Z",
     "start_time": "2024-12-29T21:59:55.948514100Z"
    },
    "colab": {
     "base_uri": "https://localhost:8080/",
     "height": 430
    },
    "executionInfo": {
     "elapsed": 523,
     "status": "ok",
     "timestamp": 1738274767411,
     "user": {
      "displayName": "River R Robles",
      "userId": "03599211865117737934"
     },
     "user_tz": 480
    },
    "id": "TBiKdP6bVxMP",
    "outputId": "3184127b-7805-4c02-fc73-259a142b2986"
   },
   "outputs": [
    {
     "data": {
      "image/png": "[encoded data removed]",
      "text/plain": [
       "<Figure size 640x480 with 1 Axes>"
      ]
     },
     "metadata": {},
     "output_type": "display_data"
    }
   ],
   "source": [
    "# Use the same plotting function as before\n",
    "plot_clusters(data, kmeans.cluster_centers_)"
   ]
  },
  {
   "cell_type": "markdown",
   "metadata": {
    "id": "IyhiLltbVxMQ"
   },
   "source": [
    "### **Task**\n",
    "    \n",
    "Try K-means on a smoother dataset, generated below. Plot the clusters using\n",
    "`plot_clusters()`.\n",
    "    "
   ]
  },
  {
   "cell_type": "code",
   "execution_count": 18,
   "metadata": {
    "ExecuteTime": {
     "end_time": "2024-12-29T21:59:56.794347500Z",
     "start_time": "2024-12-29T21:59:56.530589600Z"
    },
    "colab": {
     "base_uri": "https://localhost:8080/",
     "height": 448
    },
    "executionInfo": {
     "elapsed": 417,
     "status": "ok",
     "timestamp": 1738274771495,
     "user": {
      "displayName": "River R Robles",
      "userId": "03599211865117737934"
     },
     "user_tz": 480
    },
    "id": "fOKurP6gVxMQ",
    "outputId": "2ca0689a-cd6c-460c-cd9c-664d69870c7b"
   },
   "outputs": [
    {
     "data": {
      "text/plain": [
       "<matplotlib.collections.PathCollection at 0x78c9a99a2290>"
      ]
     },
     "execution_count": 18,
     "metadata": {},
     "output_type": "execute_result"
    },
    {
     "data": {
      "image/png": "[encoded data removed]",
      "text/plain": [
       "<Figure size 640x480 with 1 Axes>"
      ]
     },
     "metadata": {},
     "output_type": "display_data"
    }
   ],
   "source": [
    "data2 = np.random.multivariate_normal([5, 5], np.array([[2, 1], [1,2]]), size=1000)\n",
    "plt.scatter(data2[:,0], data2[:,1])"
   ]
  },
  {
   "cell_type": "code",
   "execution_count": 19,
   "metadata": {
    "ExecuteTime": {
     "end_time": "2024-12-29T21:59:56.857012400Z",
     "start_time": "2024-12-29T21:59:56.781470200Z"
    },
    "executionInfo": {
     "elapsed": 120,
     "status": "ok",
     "timestamp": 1738274772155,
     "user": {
      "displayName": "River R Robles",
      "userId": "03599211865117737934"
     },
     "user_tz": 480
    },
    "id": "DMAMSh3GVxMQ"
   },
   "outputs": [],
   "source": [
    "## SOLUTION\n",
    "kmeans2 = KMeans(n_clusters=3, random_state=0).fit(data2)"
   ]
  },
  {
   "cell_type": "code",
   "execution_count": 20,
   "metadata": {
    "ExecuteTime": {
     "end_time": "2024-12-29T21:59:57.486034900Z",
     "start_time": "2024-12-29T21:59:56.815223900Z"
    },
    "colab": {
     "base_uri": "https://localhost:8080/",
     "height": 430
    },
    "executionInfo": {
     "elapsed": 507,
     "status": "ok",
     "timestamp": 1738274773057,
     "user": {
      "displayName": "River R Robles",
      "userId": "03599211865117737934"
     },
     "user_tz": 480
    },
    "id": "MKpl0BI7VxMQ",
    "outputId": "6a066951-789a-4fae-873e-3bb8a08ae536"
   },
   "outputs": [
    {
     "data": {
      "image/png": "[encoded data removed]",
      "text/plain": [
       "<Figure size 640x480 with 1 Axes>"
      ]
     },
     "metadata": {},
     "output_type": "display_data"
    }
   ],
   "source": [
    "# Use the same plotting function as before\n",
    "plot_clusters(data2, kmeans2.cluster_centers_)"
   ]
  },
  {
   "cell_type": "markdown",
   "metadata": {
    "id": "db9bk4RiVxMQ"
   },
   "source": [
    "# 2. Anomaly Detection\n",
    "\n",
    "Anomaly detection is the identification of outliers, which do not resemble the bulk of the dataset. Several techniques are used in anomaly detection, including:\n",
    "\n",
    "\n",
    "\n",
    "*   k Nearest Neighbours\n",
    "*   DBSCAN\n",
    "*   Isolation trees"
   ]
  },
  {
   "cell_type": "markdown",
   "metadata": {
    "id": "6_iT3GNeVxMQ"
   },
   "source": [
    "## k Nearest Neighbours Distance\n",
    "\n",
    "The k Nearest Neighbours distance anomaly detection algorithm assigns a score to each point in the dataset based on its distance from its kth nearest neighbour.\n",
    "\n",
    "The larger the distance score, the more likely the point is an anomaly."
   ]
  },
  {
   "cell_type": "code",
   "execution_count": 21,
   "metadata": {
    "ExecuteTime": {
     "end_time": "2024-12-29T21:59:57.486034900Z",
     "start_time": "2024-12-29T21:59:57.423637600Z"
    },
    "colab": {
     "base_uri": "https://localhost:8080/"
    },
    "executionInfo": {
     "elapsed": 112,
     "status": "ok",
     "timestamp": 1738274774838,
     "user": {
      "displayName": "River R Robles",
      "userId": "03599211865117737934"
     },
     "user_tz": 480
    },
    "id": "RoySpfKgVxMR",
    "outputId": "33641349-ca28-45cb-fc1d-1d079f3a5a21"
   },
   "outputs": [
    {
     "data": {
      "text/plain": [
       "(16, 2)"
      ]
     },
     "execution_count": 21,
     "metadata": {},
     "output_type": "execute_result"
    }
   ],
   "source": [
    "# Randomly generate points\n",
    "data = np.random.randint(10, size=(15,2)) + 10\n",
    "\n",
    "# Add outliers\n",
    "data = np.vstack((data, np.array([5,5])))\n",
    "\n",
    "# Inspect the shape\n",
    "data.shape"
   ]
  },
  {
   "cell_type": "code",
   "execution_count": 22,
   "metadata": {
    "ExecuteTime": {
     "end_time": "2024-12-29T21:59:57.755709Z",
     "start_time": "2024-12-29T21:59:57.454846300Z"
    },
    "colab": {
     "base_uri": "https://localhost:8080/",
     "height": 448
    },
    "executionInfo": {
     "elapsed": 261,
     "status": "ok",
     "timestamp": 1738274775539,
     "user": {
      "displayName": "River R Robles",
      "userId": "03599211865117737934"
     },
     "user_tz": 480
    },
    "id": "xlliiSxGVxMW",
    "outputId": "9eba33f8-4c3b-4d0b-dbcf-f3fdc4abad3d"
   },
   "outputs": [
    {
     "data": {
      "text/plain": [
       "<matplotlib.collections.PathCollection at 0x78c9a987a8d0>"
      ]
     },
     "execution_count": 22,
     "metadata": {},
     "output_type": "execute_result"
    },
    {
     "data": {
      "image/png": "[encoded data removed]",
      "text/plain": [
       "<Figure size 640x480 with 1 Axes>"
      ]
     },
     "metadata": {},
     "output_type": "display_data"
    }
   ],
   "source": [
    "# Visualize the data\n",
    "plt.scatter(data[:,0], data[:,1])"
   ]
  },
  {
   "cell_type": "markdown",
   "metadata": {
    "id": "5KMAfMidVxMW"
   },
   "source": [
    "### **Task**\n",
    "    \n",
    "Complete the implementation of the function `compute_distances` below.\n",
    "    "
   ]
  },
  {
   "cell_type": "code",
   "execution_count": 23,
   "metadata": {
    "ExecuteTime": {
     "end_time": "2024-12-29T21:59:58.384494500Z",
     "start_time": "2024-12-29T21:59:57.755709Z"
    },
    "colab": {
     "base_uri": "https://localhost:8080/",
     "height": 435
    },
    "executionInfo": {
     "elapsed": 496,
     "status": "ok",
     "timestamp": 1738274783071,
     "user": {
      "displayName": "River R Robles",
      "userId": "03599211865117737934"
     },
     "user_tz": 480
    },
    "id": "1a1b8ZzsVxMW",
    "outputId": "7bfa566c-051d-4675-b88d-2fb4242b9fcf"
   },
   "outputs": [
    {
     "data": {
      "text/plain": [
       "<matplotlib.colorbar.Colorbar at 0x78c9a98eea90>"
      ]
     },
     "execution_count": 23,
     "metadata": {},
     "output_type": "execute_result"
    },
    {
     "data": {
      "image/png": "[encoded data removed]",
      "text/plain": [
       "<Figure size 480x480 with 2 Axes>"
      ]
     },
     "metadata": {},
     "output_type": "display_data"
    }
   ],
   "source": [
    "# Compute distances of each point wrt all other points\n",
    "\n",
    "def compute_distances(data):\n",
    "    \"\"\"\"\n",
    "    Input: array of shape (N points, D features)\n",
    "    Output: array of shape (N,N)\n",
    "    \"\"\"\n",
    "\n",
    "    ## YOUR CODE\n",
    "    return np.array([[distance(pt1, pt2) for pt1 in data] for pt2 in data])\n",
    "\n",
    "distances = compute_distances(data)\n",
    "\n",
    "#visalize the distances\n",
    "plt.matshow(distances)\n",
    "plt.colorbar()"
   ]
  },
  {
   "cell_type": "code",
   "execution_count": 24,
   "metadata": {
    "ExecuteTime": {
     "end_time": "2024-12-29T21:59:58.441529500Z",
     "start_time": "2024-12-29T21:59:58.384494500Z"
    },
    "executionInfo": {
     "elapsed": 104,
     "status": "ok",
     "timestamp": 1738274783739,
     "user": {
      "displayName": "River R Robles",
      "userId": "03599211865117737934"
     },
     "user_tz": 480
    },
    "id": "y8fp1BBnVxMW"
   },
   "outputs": [],
   "source": [
    "# For each point, sort the distances and check which is the (k + 1)th nearest neighbour\n",
    "\n",
    "def generate_knn_distances(k, distances):\n",
    "\n",
    "    knn_distances = []\n",
    "\n",
    "    for i in range(len(data)):\n",
    "\n",
    "        sorted_distances = np.sort(distances[i,:])\n",
    "\n",
    "        knn_distances.append(sorted_distances[k+1])\n",
    "\n",
    "    return np.array(knn_distances)"
   ]
  },
  {
   "cell_type": "code",
   "execution_count": 25,
   "metadata": {
    "ExecuteTime": {
     "end_time": "2024-12-29T21:59:58.797237100Z",
     "start_time": "2024-12-29T21:59:58.391630300Z"
    },
    "colab": {
     "base_uri": "https://localhost:8080/",
     "height": 448
    },
    "executionInfo": {
     "elapsed": 362,
     "status": "ok",
     "timestamp": 1738274784988,
     "user": {
      "displayName": "River R Robles",
      "userId": "03599211865117737934"
     },
     "user_tz": 480
    },
    "id": "y12eMd3gVxMX",
    "outputId": "554e0f05-a9cb-4bc7-ef8d-b56b2b5b3b73"
   },
   "outputs": [
    {
     "data": {
      "text/plain": [
       "<matplotlib.colorbar.Colorbar at 0x78c9a97c6a90>"
      ]
     },
     "execution_count": 25,
     "metadata": {},
     "output_type": "execute_result"
    },
    {
     "data": {
      "image/png": "[encoded data removed]",
      "text/plain": [
       "<Figure size 640x480 with 2 Axes>"
      ]
     },
     "metadata": {},
     "output_type": "display_data"
    }
   ],
   "source": [
    "# Plot scatter plot with heat map\n",
    "\n",
    "knn_distances = generate_knn_distances(3, distances)\n",
    "\n",
    "plt.scatter(data[:,0], data[:,1], c=knn_distances, edgecolors='black')\n",
    "plt.colorbar(label='Outlier Score')"
   ]
  },
  {
   "cell_type": "markdown",
   "metadata": {
    "id": "f0ZGQ_drVxMX"
   },
   "source": [
    "### Try on some other data"
   ]
  },
  {
   "cell_type": "code",
   "execution_count": 26,
   "metadata": {
    "ExecuteTime": {
     "end_time": "2024-12-29T21:59:59.225206Z",
     "start_time": "2024-12-29T21:59:58.783847100Z"
    },
    "colab": {
     "base_uri": "https://localhost:8080/",
     "height": 448
    },
    "executionInfo": {
     "elapsed": 351,
     "status": "ok",
     "timestamp": 1738274786337,
     "user": {
      "displayName": "River R Robles",
      "userId": "03599211865117737934"
     },
     "user_tz": 480
    },
    "id": "BFQSPwOGVxMX",
    "outputId": "e6eab977-3025-4ed6-8f35-8a28822ebc2d"
   },
   "outputs": [
    {
     "data": {
      "text/plain": [
       "<matplotlib.colorbar.Colorbar at 0x78c9a96d4bd0>"
      ]
     },
     "execution_count": 26,
     "metadata": {},
     "output_type": "execute_result"
    },
    {
     "data": {
      "image/png": "[encoded data removed]",
      "text/plain": [
       "<Figure size 640x480 with 2 Axes>"
      ]
     },
     "metadata": {},
     "output_type": "display_data"
    }
   ],
   "source": [
    "# Randomly generate points\n",
    "\n",
    "data = np.random.randint(10, size=(15,2)) + 10\n",
    "\n",
    "# Add outliers\n",
    "\n",
    "data = np.vstack((data, np.array([[5,5], [6,6]])))\n",
    "\n",
    "distances = compute_distances(data)\n",
    "\n",
    "knn_distances = generate_knn_distances(3, distances)\n",
    "\n",
    "plt.scatter(data[:,0], data[:,1], c=knn_distances, edgecolors='black')\n",
    "plt.colorbar(label='Outlier Score')"
   ]
  },
  {
   "cell_type": "code",
   "execution_count": 27,
   "metadata": {
    "ExecuteTime": {
     "end_time": "2024-12-29T21:59:59.619701500Z",
     "start_time": "2024-12-29T21:59:59.225206Z"
    },
    "colab": {
     "base_uri": "https://localhost:8080/",
     "height": 451
    },
    "executionInfo": {
     "elapsed": 355,
     "status": "ok",
     "timestamp": 1738274787609,
     "user": {
      "displayName": "River R Robles",
      "userId": "03599211865117737934"
     },
     "user_tz": 480
    },
    "id": "wk62tF_oVxMX",
    "outputId": "4a45b61f-9e0a-46df-84c0-c89f1d5b48e7"
   },
   "outputs": [
    {
     "data": {
      "text/plain": [
       "<matplotlib.colorbar.Colorbar at 0x78c9a9556a90>"
      ]
     },
     "execution_count": 27,
     "metadata": {},
     "output_type": "execute_result"
    },
    {
     "data": {
      "image/png": "[encoded data removed]",
      "text/plain": [
       "<Figure size 640x480 with 2 Axes>"
      ]
     },
     "metadata": {},
     "output_type": "display_data"
    }
   ],
   "source": [
    "# Randomly generate points\n",
    "\n",
    "data_1 = np.random.randint(10, size=(15,2)) + 10\n",
    "\n",
    "data_2 = np.random.randint(10, size=(15,2)) + 20\n",
    "\n",
    "# Add outliers\n",
    "\n",
    "data = np.vstack((data_1, data_2))\n",
    "\n",
    "data = np.vstack((data, np.array([[5,5], [6,6]])))\n",
    "\n",
    "distances = compute_distances(data)\n",
    "\n",
    "knn_distances = generate_knn_distances(3, distances)\n",
    "\n",
    "plt.scatter(data[:,0], data[:,1], c=knn_distances, edgecolors='black')\n",
    "plt.colorbar(label='Outlier Score')"
   ]
  },
  {
   "cell_type": "markdown",
   "metadata": {
    "id": "mL7Ct7FGVxMX"
   },
   "source": [
    "# 3. Feature dimensionality reduction\n",
    "\n",
    "Principal Components Analysis (PCA) is an unsupervised learning technique which reduces the dimensionality of the features."
   ]
  },
  {
   "cell_type": "code",
   "execution_count": 28,
   "metadata": {
    "ExecuteTime": {
     "end_time": "2024-12-29T21:59:59.638922900Z",
     "start_time": "2024-12-29T21:59:59.625712300Z"
    },
    "executionInfo": {
     "elapsed": 133,
     "status": "ok",
     "timestamp": 1738274788791,
     "user": {
      "displayName": "River R Robles",
      "userId": "03599211865117737934"
     },
     "user_tz": 480
    },
    "id": "kznhUQ5yVxMY"
   },
   "outputs": [],
   "source": [
    "import pandas as pd"
   ]
  },
  {
   "cell_type": "code",
   "execution_count": 29,
   "metadata": {
    "ExecuteTime": {
     "end_time": "2024-12-29T21:59:59.813679900Z",
     "start_time": "2024-12-29T21:59:59.638922900Z"
    },
    "executionInfo": {
     "elapsed": 307,
     "status": "ok",
     "timestamp": 1738274789195,
     "user": {
      "displayName": "River R Robles",
      "userId": "03599211865117737934"
     },
     "user_tz": 480
    },
    "id": "-S5zuAM8VxMY"
   },
   "outputs": [],
   "source": [
    "# load make_blobs to simulate data\n",
    "from sklearn.datasets import make_blobs"
   ]
  },
  {
   "cell_type": "code",
   "execution_count": 30,
   "metadata": {
    "ExecuteTime": {
     "end_time": "2024-12-29T21:59:59.841375600Z",
     "start_time": "2024-12-29T21:59:59.798016500Z"
    },
    "colab": {
     "base_uri": "https://localhost:8080/"
    },
    "executionInfo": {
     "elapsed": 2,
     "status": "ok",
     "timestamp": 1738274789195,
     "user": {
      "displayName": "River R Robles",
      "userId": "03599211865117737934"
     },
     "user_tz": 480
    },
    "id": "XVYoWUG7VxMY",
    "outputId": "51960168-0f17-4921-a84c-c5f07eb6ffba"
   },
   "outputs": [
    {
     "data": {
      "text/plain": [
       "((100, 10), (100,))"
      ]
     },
     "execution_count": 30,
     "metadata": {},
     "output_type": "execute_result"
    }
   ],
   "source": [
    "X1, Y1 = make_blobs(n_features=10,\n",
    "         n_samples=100,\n",
    "         centers=4, random_state=4,\n",
    "         cluster_std=2)\n",
    "\n",
    "# Inspect the shape\n",
    "X1.shape, Y1.shape"
   ]
  },
  {
   "cell_type": "code",
   "execution_count": 31,
   "metadata": {
    "ExecuteTime": {
     "end_time": "2024-12-29T21:59:59.941686900Z",
     "start_time": "2024-12-29T21:59:59.813679900Z"
    },
    "colab": {
     "base_uri": "https://localhost:8080/"
    },
    "executionInfo": {
     "elapsed": 118,
     "status": "ok",
     "timestamp": 1738274789938,
     "user": {
      "displayName": "River R Robles",
      "userId": "03599211865117737934"
     },
     "user_tz": 480
    },
    "id": "zohw2GtdVxMY",
    "outputId": "6bf03518-5f77-421c-a0ac-cb0a991f549d"
   },
   "outputs": [
    {
     "data": {
      "text/plain": [
       "array([2, 1, 0, 3, 0, 2, 1, 2, 3, 3, 1, 3, 0, 2, 0, 0, 3, 2, 3, 2, 1, 0,\n",
       "       0, 1, 0, 0, 2, 0, 0, 2, 0, 1, 2, 3, 3, 0, 2, 1, 3, 2, 1, 3, 1, 2,\n",
       "       2, 0, 0, 1, 1, 0, 2, 0, 1, 0, 3, 2, 3, 1, 2, 3, 2, 1, 3, 3, 0, 1,\n",
       "       3, 3, 1, 2, 3, 2, 3, 0, 3, 3, 1, 1, 3, 1, 3, 1, 1, 0, 2, 1, 0, 2,\n",
       "       0, 2, 1, 2, 0, 3, 2, 0, 1, 3, 1, 2])"
      ]
     },
     "execution_count": 31,
     "metadata": {},
     "output_type": "execute_result"
    }
   ],
   "source": [
    "# Check the labels\n",
    "Y1"
   ]
  },
  {
   "cell_type": "code",
   "execution_count": 32,
   "metadata": {
    "ExecuteTime": {
     "end_time": "2024-12-29T21:59:59.988504200Z",
     "start_time": "2024-12-29T21:59:59.841375600Z"
    },
    "colab": {
     "base_uri": "https://localhost:8080/"
    },
    "executionInfo": {
     "elapsed": 109,
     "status": "ok",
     "timestamp": 1738274790362,
     "user": {
      "displayName": "River R Robles",
      "userId": "03599211865117737934"
     },
     "user_tz": 480
    },
    "id": "vaUaMd8XVxMY",
    "outputId": "90b5bdde-461e-479b-fb7d-0b26d57905d7"
   },
   "outputs": [
    {
     "data": {
      "text/plain": [
       "{0, 1, 2, 3}"
      ]
     },
     "execution_count": 32,
     "metadata": {},
     "output_type": "execute_result"
    }
   ],
   "source": [
    "# These are the unique ones\n",
    "set(Y1)"
   ]
  },
  {
   "cell_type": "markdown",
   "metadata": {
    "id": "_q4qD5p9VxMZ"
   },
   "source": [
    "# Try to visualize\n",
    "Visualizing this 10-dimensional space is difficult. Try various 2D and 3D projections"
   ]
  },
  {
   "cell_type": "code",
   "execution_count": 33,
   "metadata": {
    "ExecuteTime": {
     "end_time": "2024-12-29T21:59:59.988504200Z",
     "start_time": "2024-12-29T21:59:59.856950800Z"
    },
    "executionInfo": {
     "elapsed": 107,
     "status": "ok",
     "timestamp": 1738274791468,
     "user": {
      "displayName": "River R Robles",
      "userId": "03599211865117737934"
     },
     "user_tz": 480
    },
    "id": "HxVUJy6ZVxMZ"
   },
   "outputs": [],
   "source": [
    "# Plot setup\n",
    "from matplotlib import colors\n",
    "cmap = plt.cm.rainbow\n",
    "norm = colors.BoundaryNorm(np.arange(-.5, 4, 1), cmap.N)"
   ]
  },
  {
   "cell_type": "markdown",
   "metadata": {
    "id": "TZ511gp9VxMZ"
   },
   "source": [
    "### **Task:**\n",
    "Try various projections: 0,1,2, or 3,6,9\n"
   ]
  },
  {
   "cell_type": "code",
   "execution_count": 34,
   "metadata": {
    "ExecuteTime": {
     "end_time": "2024-12-29T22:00:00.342842400Z",
     "start_time": "2024-12-29T21:59:59.872574Z"
    },
    "colab": {
     "base_uri": "https://localhost:8080/",
     "height": 448
    },
    "executionInfo": {
     "elapsed": 769,
     "status": "ok",
     "timestamp": 1738274803497,
     "user": {
      "displayName": "River R Robles",
      "userId": "03599211865117737934"
     },
     "user_tz": 480
    },
    "id": "XcuhOIL9VxMZ",
    "outputId": "2831694f-2f85-454d-fe99-2d2ef160ce9b"
   },
   "outputs": [
    {
     "data": {
      "text/plain": [
       "<matplotlib.colorbar.Colorbar at 0x78c9a9868390>"
      ]
     },
     "execution_count": 34,
     "metadata": {},
     "output_type": "execute_result"
    },
    {
     "data": {
      "image/png": "[encoded data removed]",
      "text/plain": [
       "<Figure size 640x480 with 2 Axes>"
      ]
     },
     "metadata": {},
     "output_type": "display_data"
    }
   ],
   "source": [
    "plt.scatter(X1[:,2], X1[:,4], c=Y1, cmap=cmap, norm=norm)\n",
    "plt.colorbar(ticks=[0,1,2,3,4])"
   ]
  },
  {
   "cell_type": "markdown",
   "metadata": {
    "id": "IikDzwztVxMZ"
   },
   "source": [
    "# PCA decomposition\n",
    "\n",
    "Principal Component Analysis (see https://en.wikipedia.org/wiki/Principal_component_analysis) can be useful to project a high-dimensional space onto a lower dimensional space."
   ]
  },
  {
   "cell_type": "code",
   "execution_count": 35,
   "metadata": {
    "ExecuteTime": {
     "end_time": "2024-12-29T22:00:00.374672Z",
     "start_time": "2024-12-29T22:00:00.353276800Z"
    },
    "executionInfo": {
     "elapsed": 139,
     "status": "ok",
     "timestamp": 1738274804174,
     "user": {
      "displayName": "River R Robles",
      "userId": "03599211865117737934"
     },
     "user_tz": 480
    },
    "id": "og9Kf_eRVxMZ"
   },
   "outputs": [],
   "source": [
    "from sklearn import decomposition"
   ]
  },
  {
   "cell_type": "code",
   "execution_count": 36,
   "metadata": {
    "ExecuteTime": {
     "end_time": "2024-12-29T22:00:00.442720500Z",
     "start_time": "2024-12-29T22:00:00.359040300Z"
    },
    "executionInfo": {
     "elapsed": 1,
     "status": "ok",
     "timestamp": 1738274804296,
     "user": {
      "displayName": "River R Robles",
      "userId": "03599211865117737934"
     },
     "user_tz": 480
    },
    "id": "hs-HS1lJVxMa"
   },
   "outputs": [],
   "source": [
    "# Get the documentation\n",
    "# ?decomposition.PCA"
   ]
  },
  {
   "cell_type": "code",
   "execution_count": 37,
   "metadata": {
    "ExecuteTime": {
     "end_time": "2024-12-29T22:00:00.473929600Z",
     "start_time": "2024-12-29T22:00:00.374672Z"
    },
    "colab": {
     "base_uri": "https://localhost:8080/"
    },
    "executionInfo": {
     "elapsed": 2,
     "status": "ok",
     "timestamp": 1738274804589,
     "user": {
      "displayName": "River R Robles",
      "userId": "03599211865117737934"
     },
     "user_tz": 480
    },
    "id": "LTYnzxwSVxMa",
    "outputId": "4106158f-4404-47c1-fc27-385cd26943ce"
   },
   "outputs": [
    {
     "data": {
      "text/plain": [
       "(100, 4)"
      ]
     },
     "execution_count": 37,
     "metadata": {},
     "output_type": "execute_result"
    }
   ],
   "source": [
    "pca = decomposition.PCA(n_components=4)\n",
    "\n",
    "pc = pca.fit_transform(X1)\n",
    "\n",
    "pc.shape"
   ]
  },
  {
   "cell_type": "code",
   "execution_count": 38,
   "metadata": {
    "ExecuteTime": {
     "end_time": "2024-12-29T22:00:00.473929600Z",
     "start_time": "2024-12-29T22:00:00.405917200Z"
    },
    "colab": {
     "base_uri": "https://localhost:8080/",
     "height": 424
    },
    "executionInfo": {
     "elapsed": 98,
     "status": "ok",
     "timestamp": 1738274805055,
     "user": {
      "displayName": "River R Robles",
      "userId": "03599211865117737934"
     },
     "user_tz": 480
    },
    "id": "hFo1jwNDVxMa",
    "outputId": "0af21a8b-6cff-45b8-9ead-865e34b7275c"
   },
   "outputs": [
    {
     "data": {
      "application/vnd.google.colaboratory.intrinsic+json": {
       "summary": "{\n  \"name\": \"pc_df\",\n  \"rows\": 100,\n  \"fields\": [\n    {\n      \"column\": \"PC1\",\n      \"properties\": {\n        \"dtype\": \"number\",\n        \"std\": 11.219745018810789,\n        \"min\": -22.390963468684447,\n        \"max\": 11.825177249190798,\n        \"num_unique_values\": 100,\n        \"samples\": [\n          4.328509678636281,\n          8.3664983365938,\n          3.309393535962619\n        ],\n        \"semantic_type\": \"\",\n        \"description\": \"\"\n      }\n    },\n    {\n      \"column\": \"PC2\",\n      \"properties\": {\n        \"dtype\": \"number\",\n        \"std\": 10.131704850627449,\n        \"min\": -17.06772510980074,\n        \"max\": 16.949963288625362,\n        \"num_unique_values\": 100,\n        \"samples\": [\n          15.332459301137463,\n          14.728882363333758,\n          -13.216115135552865\n        ],\n        \"semantic_type\": \"\",\n        \"description\": \"\"\n      }\n    },\n    {\n      \"column\": \"PC3\",\n      \"properties\": {\n        \"dtype\": \"number\",\n        \"std\": 6.960205912200094,\n        \"min\": -10.877290184622133,\n        \"max\": 14.884991529350469,\n        \"num_unique_values\": 100,\n        \"samples\": [\n          -5.546702154231152,\n          -5.748053685920705,\n          -5.271750689272153\n        ],\n        \"semantic_type\": \"\",\n        \"description\": \"\"\n      }\n    },\n    {\n      \"column\": \"PC4\",\n      \"properties\": {\n        \"dtype\": \"number\",\n        \"std\": 2.4705688584177503,\n        \"min\": -7.455366833965055,\n        \"max\": 6.619600273885691,\n        \"num_unique_values\": 100,\n        \"samples\": [\n          5.877086942035193,\n          3.68348183796954,\n          0.7819825299619354\n        ],\n        \"semantic_type\": \"\",\n        \"description\": \"\"\n      }\n    },\n    {\n      \"column\": \"Cluster\",\n      \"properties\": {\n        \"dtype\": \"number\",\n        \"std\": 1,\n        \"min\": 0,\n        \"max\": 3,\n        \"num_unique_values\": 4,\n        \"samples\": [\n          1,\n          3,\n          2\n        ],\n        \"semantic_type\": \"\",\n        \"description\": \"\"\n      }\n    }\n  ]\n}",
       "type": "dataframe",
       "variable_name": "pc_df"
      },
      "text/html": [
       "\n",
       "  <div id=\"df-97527a55-427a-4122-a83b-5cadbe0a10bb\" class=\"colab-df-container\">\n",
       "    <div>\n",
       "<style scoped>\n",
       "    .dataframe tbody tr th:only-of-type {\n",
       "        vertical-align: middle;\n",
       "    }\n",
       "\n",
       "    .dataframe tbody tr th {\n",
       "        vertical-align: top;\n",
       "    }\n",
       "\n",
       "    .dataframe thead th {\n",
       "        text-align: right;\n",
       "    }\n",
       "</style>\n",
       "<table border=\"1\" class=\"dataframe\">\n",
       "  <thead>\n",
       "    <tr style=\"text-align: right;\">\n",
       "      <th></th>\n",
       "      <th>PC1</th>\n",
       "      <th>PC2</th>\n",
       "      <th>PC3</th>\n",
       "      <th>PC4</th>\n",
       "      <th>Cluster</th>\n",
       "    </tr>\n",
       "  </thead>\n",
       "  <tbody>\n",
       "    <tr>\n",
       "      <th>0</th>\n",
       "      <td>8.133443</td>\n",
       "      <td>0.302138</td>\n",
       "      <td>9.984672</td>\n",
       "      <td>-0.423878</td>\n",
       "      <td>2</td>\n",
       "    </tr>\n",
       "    <tr>\n",
       "      <th>1</th>\n",
       "      <td>-18.931381</td>\n",
       "      <td>-0.193838</td>\n",
       "      <td>0.045462</td>\n",
       "      <td>3.894042</td>\n",
       "      <td>1</td>\n",
       "    </tr>\n",
       "    <tr>\n",
       "      <th>2</th>\n",
       "      <td>6.571463</td>\n",
       "      <td>14.188490</td>\n",
       "      <td>-3.120115</td>\n",
       "      <td>-1.278588</td>\n",
       "      <td>0</td>\n",
       "    </tr>\n",
       "    <tr>\n",
       "      <th>3</th>\n",
       "      <td>7.533948</td>\n",
       "      <td>-14.439427</td>\n",
       "      <td>-5.443487</td>\n",
       "      <td>-3.358252</td>\n",
       "      <td>3</td>\n",
       "    </tr>\n",
       "    <tr>\n",
       "      <th>4</th>\n",
       "      <td>4.591760</td>\n",
       "      <td>11.315284</td>\n",
       "      <td>-9.130630</td>\n",
       "      <td>1.420151</td>\n",
       "      <td>0</td>\n",
       "    </tr>\n",
       "    <tr>\n",
       "      <th>...</th>\n",
       "      <td>...</td>\n",
       "      <td>...</td>\n",
       "      <td>...</td>\n",
       "      <td>...</td>\n",
       "      <td>...</td>\n",
       "    </tr>\n",
       "    <tr>\n",
       "      <th>95</th>\n",
       "      <td>4.734792</td>\n",
       "      <td>15.677706</td>\n",
       "      <td>-4.013717</td>\n",
       "      <td>-1.638843</td>\n",
       "      <td>0</td>\n",
       "    </tr>\n",
       "    <tr>\n",
       "      <th>96</th>\n",
       "      <td>-14.474724</td>\n",
       "      <td>1.170496</td>\n",
       "      <td>1.650520</td>\n",
       "      <td>6.619600</td>\n",
       "      <td>1</td>\n",
       "    </tr>\n",
       "    <tr>\n",
       "      <th>97</th>\n",
       "      <td>6.305432</td>\n",
       "      <td>-13.098273</td>\n",
       "      <td>-3.843662</td>\n",
       "      <td>-3.060215</td>\n",
       "      <td>3</td>\n",
       "    </tr>\n",
       "    <tr>\n",
       "      <th>98</th>\n",
       "      <td>-22.169496</td>\n",
       "      <td>3.863984</td>\n",
       "      <td>1.128840</td>\n",
       "      <td>0.480688</td>\n",
       "      <td>1</td>\n",
       "    </tr>\n",
       "    <tr>\n",
       "      <th>99</th>\n",
       "      <td>8.071378</td>\n",
       "      <td>1.455127</td>\n",
       "      <td>9.638617</td>\n",
       "      <td>2.078444</td>\n",
       "      <td>2</td>\n",
       "    </tr>\n",
       "  </tbody>\n",
       "</table>\n",
       "<p>100 rows × 5 columns</p>\n",
       "</div>\n",
       "    <div class=\"colab-df-buttons\">\n",
       "\n",
       "  <div class=\"colab-df-container\">\n",
       "    <button class=\"colab-df-convert\" onclick=\"convertToInteractive('df-97527a55-427a-4122-a83b-5cadbe0a10bb')\"\n",
       "            title=\"Convert this dataframe to an interactive table.\"\n",
       "            style=\"display:none;\">\n",
       "\n",
       "  <svg xmlns=\"http://www.w3.org/2000/svg\" height=\"24px\" viewBox=\"0 -960 960 960\">\n",
       "    <path d=\"M120-120v-720h720v720H120Zm60-500h600v-160H180v160Zm220 220h160v-160H400v160Zm0 220h160v-160H400v160ZM180-400h160v-160H180v160Zm440 0h160v-160H620v160ZM180-180h160v-160H180v160Zm440 0h160v-160H620v160Z\"/>\n",
       "  </svg>\n",
       "    </button>\n",
       "\n",
       "  <style>\n",
       "    .colab-df-container {\n",
       "      display:flex;\n",
       "      gap: 12px;\n",
       "    }\n",
       "\n",
       "    .colab-df-convert {\n",
       "      background-color: #E8F0FE;\n",
       "      border: none;\n",
       "      border-radius: 50%;\n",
       "      cursor: pointer;\n",
       "      display: none;\n",
       "      fill: #1967D2;\n",
       "      height: 32px;\n",
       "      padding: 0 0 0 0;\n",
       "      width: 32px;\n",
       "    }\n",
       "\n",
       "    .colab-df-convert:hover {\n",
       "      background-color: #E2EBFA;\n",
       "      box-shadow: 0px 1px 2px rgba(60, 64, 67, 0.3), 0px 1px 3px 1px rgba(60, 64, 67, 0.15);\n",
       "      fill: #174EA6;\n",
       "    }\n",
       "\n",
       "    .colab-df-buttons div {\n",
       "      margin-bottom: 4px;\n",
       "    }\n",
       "\n",
       "    [theme=dark] .colab-df-convert {\n",
       "      background-color: #3B4455;\n",
       "      fill: #D2E3FC;\n",
       "    }\n",
       "\n",
       "    [theme=dark] .colab-df-convert:hover {\n",
       "      background-color: #434B5C;\n",
       "      box-shadow: 0px 1px 3px 1px rgba(0, 0, 0, 0.15);\n",
       "      filter: drop-shadow(0px 1px 2px rgba(0, 0, 0, 0.3));\n",
       "      fill: #FFFFFF;\n",
       "    }\n",
       "  </style>\n",
       "\n",
       "    <script>\n",
       "      const buttonEl =\n",
       "        document.querySelector('#df-97527a55-427a-4122-a83b-5cadbe0a10bb button.colab-df-convert');\n",
       "      buttonEl.style.display =\n",
       "        google.colab.kernel.accessAllowed ? 'block' : 'none';\n",
       "\n",
       "      async function convertToInteractive(key) {\n",
       "        const element = document.querySelector('#df-97527a55-427a-4122-a83b-5cadbe0a10bb');\n",
       "        const dataTable =\n",
       "          await google.colab.kernel.invokeFunction('convertToInteractive',\n",
       "                                                    [key], {});\n",
       "        if (!dataTable) return;\n",
       "\n",
       "        const docLinkHtml = 'Like what you see? Visit the ' +\n",
       "          '<a target=\"_blank\" href=https://colab.research.google.com/notebooks/data_table.ipynb>data table notebook</a>'\n",
       "          + ' to learn more about interactive tables.';\n",
       "        element.innerHTML = '';\n",
       "        dataTable['output_type'] = 'display_data';\n",
       "        await google.colab.output.renderOutput(dataTable, element);\n",
       "        const docLink = document.createElement('div');\n",
       "        docLink.innerHTML = docLinkHtml;\n",
       "        element.appendChild(docLink);\n",
       "      }\n",
       "    </script>\n",
       "  </div>\n",
       "\n",
       "\n",
       "<div id=\"df-67188817-214b-4fa9-bc5c-cc0eef1c99df\">\n",
       "  <button class=\"colab-df-quickchart\" onclick=\"quickchart('df-67188817-214b-4fa9-bc5c-cc0eef1c99df')\"\n",
       "            title=\"Suggest charts\"\n",
       "            style=\"display:none;\">\n",
       "\n",
       "<svg xmlns=\"http://www.w3.org/2000/svg\" height=\"24px\"viewBox=\"0 0 24 24\"\n",
       "     width=\"24px\">\n",
       "    <g>\n",
       "        <path d=\"M19 3H5c-1.1 0-2 .9-2 2v14c0 1.1.9 2 2 2h14c1.1 0 2-.9 2-2V5c0-1.1-.9-2-2-2zM9 17H7v-7h2v7zm4 0h-2V7h2v10zm4 0h-2v-4h2v4z\"/>\n",
       "    </g>\n",
       "</svg>\n",
       "  </button>\n",
       "\n",
       "<style>\n",
       "  .colab-df-quickchart {\n",
       "      --bg-color: #E8F0FE;\n",
       "      --fill-color: #1967D2;\n",
       "      --hover-bg-color: #E2EBFA;\n",
       "      --hover-fill-color: #174EA6;\n",
       "      --disabled-fill-color: #AAA;\n",
       "      --disabled-bg-color: #DDD;\n",
       "  }\n",
       "\n",
       "  [theme=dark] .colab-df-quickchart {\n",
       "      --bg-color: #3B4455;\n",
       "      --fill-color: #D2E3FC;\n",
       "      --hover-bg-color: #434B5C;\n",
       "      --hover-fill-color: #FFFFFF;\n",
       "      --disabled-bg-color: #3B4455;\n",
       "      --disabled-fill-color: #666;\n",
       "  }\n",
       "\n",
       "  .colab-df-quickchart {\n",
       "    background-color: var(--bg-color);\n",
       "    border: none;\n",
       "    border-radius: 50%;\n",
       "    cursor: pointer;\n",
       "    display: none;\n",
       "    fill: var(--fill-color);\n",
       "    height: 32px;\n",
       "    padding: 0;\n",
       "    width: 32px;\n",
       "  }\n",
       "\n",
       "  .colab-df-quickchart:hover {\n",
       "    background-color: var(--hover-bg-color);\n",
       "    box-shadow: 0 1px 2px rgba(60, 64, 67, 0.3), 0 1px 3px 1px rgba(60, 64, 67, 0.15);\n",
       "    fill: var(--button-hover-fill-color);\n",
       "  }\n",
       "\n",
       "  .colab-df-quickchart-complete:disabled,\n",
       "  .colab-df-quickchart-complete:disabled:hover {\n",
       "    background-color: var(--disabled-bg-color);\n",
       "    fill: var(--disabled-fill-color);\n",
       "    box-shadow: none;\n",
       "  }\n",
       "\n",
       "  .colab-df-spinner {\n",
       "    border: 2px solid var(--fill-color);\n",
       "    border-color: transparent;\n",
       "    border-bottom-color: var(--fill-color);\n",
       "    animation:\n",
       "      spin 1s steps(1) infinite;\n",
       "  }\n",
       "\n",
       "  @keyframes spin {\n",
       "    0% {\n",
       "      border-color: transparent;\n",
       "      border-bottom-color: var(--fill-color);\n",
       "      border-left-color: var(--fill-color);\n",
       "    }\n",
       "    20% {\n",
       "      border-color: transparent;\n",
       "      border-left-color: var(--fill-color);\n",
       "      border-top-color: var(--fill-color);\n",
       "    }\n",
       "    30% {\n",
       "      border-color: transparent;\n",
       "      border-left-color: var(--fill-color);\n",
       "      border-top-color: var(--fill-color);\n",
       "      border-right-color: var(--fill-color);\n",
       "    }\n",
       "    40% {\n",
       "      border-color: transparent;\n",
       "      border-right-color: var(--fill-color);\n",
       "      border-top-color: var(--fill-color);\n",
       "    }\n",
       "    60% {\n",
       "      border-color: transparent;\n",
       "      border-right-color: var(--fill-color);\n",
       "    }\n",
       "    80% {\n",
       "      border-color: transparent;\n",
       "      border-right-color: var(--fill-color);\n",
       "      border-bottom-color: var(--fill-color);\n",
       "    }\n",
       "    90% {\n",
       "      border-color: transparent;\n",
       "      border-bottom-color: var(--fill-color);\n",
       "    }\n",
       "  }\n",
       "</style>\n",
       "\n",
       "  <script>\n",
       "    async function quickchart(key) {\n",
       "      const quickchartButtonEl =\n",
       "        document.querySelector('#' + key + ' button');\n",
       "      quickchartButtonEl.disabled = true;  // To prevent multiple clicks.\n",
       "      quickchartButtonEl.classList.add('colab-df-spinner');\n",
       "      try {\n",
       "        const charts = await google.colab.kernel.invokeFunction(\n",
       "            'suggestCharts', [key], {});\n",
       "      } catch (error) {\n",
       "        console.error('Error during call to suggestCharts:', error);\n",
       "      }\n",
       "      quickchartButtonEl.classList.remove('colab-df-spinner');\n",
       "      quickchartButtonEl.classList.add('colab-df-quickchart-complete');\n",
       "    }\n",
       "    (() => {\n",
       "      let quickchartButtonEl =\n",
       "        document.querySelector('#df-67188817-214b-4fa9-bc5c-cc0eef1c99df button');\n",
       "      quickchartButtonEl.style.display =\n",
       "        google.colab.kernel.accessAllowed ? 'block' : 'none';\n",
       "    })();\n",
       "  </script>\n",
       "</div>\n",
       "\n",
       "  <div id=\"id_238d3787-5db8-4f52-aa89-053ec5af9fa8\">\n",
       "    <style>\n",
       "      .colab-df-generate {\n",
       "        background-color: #E8F0FE;\n",
       "        border: none;\n",
       "        border-radius: 50%;\n",
       "        cursor: pointer;\n",
       "        display: none;\n",
       "        fill: #1967D2;\n",
       "        height: 32px;\n",
       "        padding: 0 0 0 0;\n",
       "        width: 32px;\n",
       "      }\n",
       "\n",
       "      .colab-df-generate:hover {\n",
       "        background-color: #E2EBFA;\n",
       "        box-shadow: 0px 1px 2px rgba(60, 64, 67, 0.3), 0px 1px 3px 1px rgba(60, 64, 67, 0.15);\n",
       "        fill: #174EA6;\n",
       "      }\n",
       "\n",
       "      [theme=dark] .colab-df-generate {\n",
       "        background-color: #3B4455;\n",
       "        fill: #D2E3FC;\n",
       "      }\n",
       "\n",
       "      [theme=dark] .colab-df-generate:hover {\n",
       "        background-color: #434B5C;\n",
       "        box-shadow: 0px 1px 3px 1px rgba(0, 0, 0, 0.15);\n",
       "        filter: drop-shadow(0px 1px 2px rgba(0, 0, 0, 0.3));\n",
       "        fill: #FFFFFF;\n",
       "      }\n",
       "    </style>\n",
       "    <button class=\"colab-df-generate\" onclick=\"generateWithVariable('pc_df')\"\n",
       "            title=\"Generate code using this dataframe.\"\n",
       "            style=\"display:none;\">\n",
       "\n",
       "  <svg xmlns=\"http://www.w3.org/2000/svg\" height=\"24px\"viewBox=\"0 0 24 24\"\n",
       "       width=\"24px\">\n",
       "    <path d=\"M7,19H8.4L18.45,9,17,7.55,7,17.6ZM5,21V16.75L18.45,3.32a2,2,0,0,1,2.83,0l1.4,1.43a1.91,1.91,0,0,1,.58,1.4,1.91,1.91,0,0,1-.58,1.4L9.25,21ZM18.45,9,17,7.55Zm-12,3A5.31,5.31,0,0,0,4.9,8.1,5.31,5.31,0,0,0,1,6.5,5.31,5.31,0,0,0,4.9,4.9,5.31,5.31,0,0,0,6.5,1,5.31,5.31,0,0,0,8.1,4.9,5.31,5.31,0,0,0,12,6.5,5.46,5.46,0,0,0,6.5,12Z\"/>\n",
       "  </svg>\n",
       "    </button>\n",
       "    <script>\n",
       "      (() => {\n",
       "      const buttonEl =\n",
       "        document.querySelector('#id_238d3787-5db8-4f52-aa89-053ec5af9fa8 button.colab-df-generate');\n",
       "      buttonEl.style.display =\n",
       "        google.colab.kernel.accessAllowed ? 'block' : 'none';\n",
       "\n",
       "      buttonEl.onclick = () => {\n",
       "        google.colab.notebook.generateWithVariable('pc_df');\n",
       "      }\n",
       "      })();\n",
       "    </script>\n",
       "  </div>\n",
       "\n",
       "    </div>\n",
       "  </div>\n"
      ],
      "text/plain": [
       "          PC1        PC2       PC3       PC4  Cluster\n",
       "0    8.133443   0.302138  9.984672 -0.423878        2\n",
       "1  -18.931381  -0.193838  0.045462  3.894042        1\n",
       "2    6.571463  14.188490 -3.120115 -1.278588        0\n",
       "3    7.533948 -14.439427 -5.443487 -3.358252        3\n",
       "4    4.591760  11.315284 -9.130630  1.420151        0\n",
       "..        ...        ...       ...       ...      ...\n",
       "95   4.734792  15.677706 -4.013717 -1.638843        0\n",
       "96 -14.474724   1.170496  1.650520  6.619600        1\n",
       "97   6.305432 -13.098273 -3.843662 -3.060215        3\n",
       "98 -22.169496   3.863984  1.128840  0.480688        1\n",
       "99   8.071378   1.455127  9.638617  2.078444        2\n",
       "\n",
       "[100 rows x 5 columns]"
      ]
     },
     "execution_count": 38,
     "metadata": {},
     "output_type": "execute_result"
    }
   ],
   "source": [
    "# Organize the data with pandas\n",
    "\n",
    "pc_df = pd.DataFrame(data = pc,\n",
    "        columns = ['PC1', 'PC2','PC3','PC4'])\n",
    "pc_df['Cluster'] = Y1\n",
    "pc_df"
   ]
  },
  {
   "cell_type": "code",
   "execution_count": 39,
   "metadata": {
    "ExecuteTime": {
     "end_time": "2024-12-29T22:00:00.505177100Z",
     "start_time": "2024-12-29T22:00:00.442720500Z"
    },
    "colab": {
     "base_uri": "https://localhost:8080/"
    },
    "executionInfo": {
     "elapsed": 106,
     "status": "ok",
     "timestamp": 1738274806022,
     "user": {
      "displayName": "River R Robles",
      "userId": "03599211865117737934"
     },
     "user_tz": 480
    },
    "id": "-pMLukOFVxMa",
    "outputId": "8f2b3b6d-5ae4-4e70-9097-4d383c6b0d9a"
   },
   "outputs": [
    {
     "data": {
      "text/plain": [
       "array([0.41594854, 0.3391866 , 0.1600729 , 0.02016822])"
      ]
     },
     "execution_count": 39,
     "metadata": {},
     "output_type": "execute_result"
    }
   ],
   "source": [
    "pca.explained_variance_ratio_"
   ]
  },
  {
   "cell_type": "code",
   "execution_count": 40,
   "metadata": {
    "ExecuteTime": {
     "end_time": "2024-12-29T22:00:00.943638100Z",
     "start_time": "2024-12-29T22:00:00.458306500Z"
    },
    "colab": {
     "base_uri": "https://localhost:8080/",
     "height": 462
    },
    "executionInfo": {
     "elapsed": 411,
     "status": "ok",
     "timestamp": 1738274808805,
     "user": {
      "displayName": "River R Robles",
      "userId": "03599211865117737934"
     },
     "user_tz": 480
    },
    "id": "z_JAlC3AVxMa",
    "outputId": "abf2fbce-a21d-484e-d97d-48dc22034866"
   },
   "outputs": [
    {
     "data": {
      "image/png": "[encoded data removed]",
      "text/plain": [
       "<Figure size 640x480 with 1 Axes>"
      ]
     },
     "metadata": {},
     "output_type": "display_data"
    }
   ],
   "source": [
    "df = pd.DataFrame({'var':pca.explained_variance_ratio_,\n",
    "             'PC':['PC1','PC2','PC3','PC4']})\n",
    "df.plot.bar(x='PC',y=\"var\", color=\"c\");"
   ]
  },
  {
   "cell_type": "code",
   "execution_count": 41,
   "metadata": {
    "ExecuteTime": {
     "end_time": "2024-12-29T22:00:01.221931200Z",
     "start_time": "2024-12-29T22:00:00.801575500Z"
    },
    "colab": {
     "base_uri": "https://localhost:8080/",
     "height": 430
    },
    "executionInfo": {
     "elapsed": 415,
     "status": "ok",
     "timestamp": 1738274809219,
     "user": {
      "displayName": "River R Robles",
      "userId": "03599211865117737934"
     },
     "user_tz": 480
    },
    "id": "uYjcI3l3VxMb",
    "outputId": "e1dd0c66-5557-493c-b226-b62ab3687418"
   },
   "outputs": [
    {
     "data": {
      "text/plain": [
       "Text(0.5, 0, 'PC3')"
      ]
     },
     "execution_count": 41,
     "metadata": {},
     "output_type": "execute_result"
    },
    {
     "data": {
      "image/png": "[encoded data removed]",
      "text/plain": [
       "<Figure size 640x480 with 1 Axes>"
      ]
     },
     "metadata": {},
     "output_type": "display_data"
    }
   ],
   "source": [
    "from mpl_toolkits.mplot3d import Axes3D\n",
    "\n",
    "fig = plt.figure()\n",
    "ax = fig.add_subplot(111, projection='3d')\n",
    "ax.scatter(pc_df['PC1'], pc_df['PC2'], pc_df['PC3'], c=pc_df['Cluster'])\n",
    "#ax.legend()\n",
    "ax.set_xlabel(\"PC1\")\n",
    "ax.set_ylabel(\"PC2\")\n",
    "ax.set_zlabel(\"PC3\")"
   ]
  },
  {
   "cell_type": "markdown",
   "metadata": {
    "id": "wbBon-WrVxMb"
   },
   "source": [
    "# Homework"
   ]
  },
  {
   "cell_type": "markdown",
   "metadata": {
    "id": "8l-Shcd0VxMb"
   },
   "source": [
    "### **Homework**\n",
    "\n",
    "Perform K-means clustering on both the original and the PCA-reduced blob dataset. Do you get the same results?\n",
    "\n",
    "Note: the specific cluster index assigned by K-means to a given cluster (e.g. `0` or `1` or `2`) may differ (even between repeated calls of k-means on the same dataset), but the value of these specific indices do not carry any meaning: the important point is whether K-means finds the same separate clusters. (Irrespective of how they are labeled.)\n",
    "    \n",
    "</div>"
   ]
  },
  {
   "cell_type": "markdown",
   "metadata": {
    "id": "OuSdnKOeVxMb"
   },
   "source": [
    "### SOLUTION"
   ]
  },
  {
   "cell_type": "code",
   "execution_count": 42,
   "metadata": {
    "ExecuteTime": {
     "end_time": "2024-12-29T22:00:01.259694900Z",
     "start_time": "2024-12-29T22:00:01.190685600Z"
    },
    "colab": {
     "base_uri": "https://localhost:8080/"
    },
    "executionInfo": {
     "elapsed": 90,
     "status": "ok",
     "timestamp": 1738274837372,
     "user": {
      "displayName": "River R Robles",
      "userId": "03599211865117737934"
     },
     "user_tz": 480
    },
    "id": "HclbeTUGVxMb",
    "outputId": "e9dadd95-40e4-4818-d038-6270df01826a"
   },
   "outputs": [
    {
     "data": {
      "text/plain": [
       "array([2, 1, 0, 3, 0, 2, 1, 2, 3, 3, 1, 3, 0, 2, 0, 0, 3, 2, 3, 2, 1, 0,\n",
       "       0, 1, 0, 0, 2, 0, 0, 2, 0, 1, 2, 3, 3, 0, 2, 1, 3, 2, 1, 3, 1, 2,\n",
       "       2, 0, 0, 1, 1, 0, 2, 0, 1, 0, 3, 2, 3, 1, 2, 3, 2, 1, 3, 3, 0, 1,\n",
       "       3, 3, 1, 2, 3, 2, 3, 0, 3, 3, 1, 1, 3, 1, 3, 1, 1, 0, 2, 1, 0, 2,\n",
       "       0, 2, 1, 2, 0, 3, 2, 0, 1, 3, 1, 2])"
      ]
     },
     "execution_count": 42,
     "metadata": {},
     "output_type": "execute_result"
    }
   ],
   "source": [
    "# Recall the true labels\n",
    "Y1"
   ]
  },
  {
   "cell_type": "markdown",
   "metadata": {
    "id": "_qzR0FNYVxMb"
   },
   "source": [
    "### Original dataset"
   ]
  },
  {
   "cell_type": "code",
   "execution_count": 43,
   "metadata": {
    "ExecuteTime": {
     "end_time": "2024-12-29T22:00:01.407208300Z",
     "start_time": "2024-12-29T22:00:01.206308200Z"
    },
    "colab": {
     "base_uri": "https://localhost:8080/"
    },
    "executionInfo": {
     "elapsed": 90,
     "status": "ok",
     "timestamp": 1738274838963,
     "user": {
      "displayName": "River R Robles",
      "userId": "03599211865117737934"
     },
     "user_tz": 480
    },
    "id": "TAUGBJMiVxMb",
    "outputId": "4b0b2b40-f844-49da-bc95-03b10f362395"
   },
   "outputs": [
    {
     "data": {
      "text/plain": [
       "array([3, 2, 0, 1, 0, 3, 2, 3, 1, 1, 2, 1, 0, 3, 0, 0, 1, 3, 1, 3, 2, 0,\n",
       "       0, 2, 0, 0, 3, 0, 0, 3, 0, 2, 3, 1, 1, 0, 3, 2, 1, 3, 2, 1, 2, 3,\n",
       "       3, 0, 0, 2, 2, 0, 3, 0, 2, 0, 1, 3, 1, 2, 3, 1, 3, 2, 1, 1, 0, 2,\n",
       "       1, 1, 2, 3, 1, 3, 1, 0, 1, 1, 2, 2, 1, 2, 1, 2, 2, 0, 3, 2, 0, 3,\n",
       "       0, 3, 2, 3, 0, 1, 3, 0, 2, 1, 2, 3], dtype=int32)"
      ]
     },
     "execution_count": 43,
     "metadata": {},
     "output_type": "execute_result"
    }
   ],
   "source": [
    "# K-means on the original data\n",
    "kmeans = KMeans(n_clusters=4).fit(X1)\n",
    "Y2 = kmeans.labels_\n",
    "Y2"
   ]
  },
  {
   "cell_type": "code",
   "execution_count": 44,
   "metadata": {
    "ExecuteTime": {
     "end_time": "2024-12-29T22:00:01.710270100Z",
     "start_time": "2024-12-29T22:00:01.330746300Z"
    },
    "colab": {
     "base_uri": "https://localhost:8080/",
     "height": 475
    },
    "executionInfo": {
     "elapsed": 196,
     "status": "ok",
     "timestamp": 1738274839529,
     "user": {
      "displayName": "River R Robles",
      "userId": "03599211865117737934"
     },
     "user_tz": 480
    },
    "id": "njV39JdcVxMc",
    "outputId": "b9869026-c2ed-4ef2-98ad-6046677aa8d2"
   },
   "outputs": [
    {
     "data": {
      "text/plain": [
       "Text(0, 0.5, 'Y1 label')"
      ]
     },
     "execution_count": 44,
     "metadata": {},
     "output_type": "execute_result"
    },
    {
     "data": {
      "image/png": "[encoded data removed]",
      "text/plain": [
       "<Figure size 480x480 with 1 Axes>"
      ]
     },
     "metadata": {},
     "output_type": "display_data"
    }
   ],
   "source": [
    "# How would you compare these? Here is a naive way of getting the cipher\n",
    "counts = np.zeros((4,4))\n",
    "for i1, i2 in zip(Y1, Y2):\n",
    "    counts[i1, i2] += 1\n",
    "decode2 = {i:counts[i,:].argmax() for i in range(4)}\n",
    "plt.matshow(counts)\n",
    "plt.xlabel('Y2 label')\n",
    "plt.ylabel('Y1 label')"
   ]
  },
  {
   "cell_type": "code",
   "execution_count": 45,
   "metadata": {
    "ExecuteTime": {
     "end_time": "2024-12-29T22:00:01.840382200Z",
     "start_time": "2024-12-29T22:00:01.719756900Z"
    },
    "colab": {
     "base_uri": "https://localhost:8080/"
    },
    "executionInfo": {
     "elapsed": 139,
     "status": "ok",
     "timestamp": 1738274840586,
     "user": {
      "displayName": "River R Robles",
      "userId": "03599211865117737934"
     },
     "user_tz": 480
    },
    "id": "cnmTeSgUVxMc",
    "outputId": "87776920-2a34-4ce7-fbb0-b06e66a7b28c"
   },
   "outputs": [
    {
     "data": {
      "text/plain": [
       "True"
      ]
     },
     "execution_count": 45,
     "metadata": {},
     "output_type": "execute_result"
    }
   ],
   "source": [
    "# Are they all the same? Yes\n",
    "np.all(np.array([decode2[i] for i in Y1]) == Y2)"
   ]
  },
  {
   "cell_type": "code",
   "execution_count": 46,
   "metadata": {
    "ExecuteTime": {
     "end_time": "2024-12-29T22:00:01.892525100Z",
     "start_time": "2024-12-29T22:00:01.727002800Z"
    },
    "colab": {
     "base_uri": "https://localhost:8080/"
    },
    "executionInfo": {
     "elapsed": 2,
     "status": "ok",
     "timestamp": 1738274840720,
     "user": {
      "displayName": "River R Robles",
      "userId": "03599211865117737934"
     },
     "user_tz": 480
    },
    "id": "fV6aECQgVxMd",
    "outputId": "402636b8-238f-40f3-e6c4-200cf97fb64f"
   },
   "outputs": [
    {
     "data": {
      "text/plain": [
       "1.0"
      ]
     },
     "execution_count": 46,
     "metadata": {},
     "output_type": "execute_result"
    }
   ],
   "source": [
    "# This is a better method to compare the labels. 1.0 => perfect labeling\n",
    "from sklearn.metrics import adjusted_rand_score\n",
    "adjusted_rand_score(Y1, Y2)"
   ]
  },
  {
   "cell_type": "markdown",
   "metadata": {
    "id": "dV3gzFoMVxMd"
   },
   "source": [
    "### PCA-reduced dataset"
   ]
  },
  {
   "cell_type": "code",
   "execution_count": 47,
   "metadata": {
    "ExecuteTime": {
     "end_time": "2024-12-29T22:00:01.930473900Z",
     "start_time": "2024-12-29T22:00:01.758256300Z"
    },
    "colab": {
     "base_uri": "https://localhost:8080/"
    },
    "executionInfo": {
     "elapsed": 107,
     "status": "ok",
     "timestamp": 1738274841539,
     "user": {
      "displayName": "River R Robles",
      "userId": "03599211865117737934"
     },
     "user_tz": 480
    },
    "id": "E8COOikyVxMe",
    "outputId": "3159c100-f101-4234-c579-7a8a1862bc74"
   },
   "outputs": [
    {
     "data": {
      "text/plain": [
       "1.0"
      ]
     },
     "execution_count": 47,
     "metadata": {},
     "output_type": "execute_result"
    }
   ],
   "source": [
    "# Do the same on the PCA reduced data. Again, this is perfect labeling\n",
    "Y3 = KMeans(n_clusters=4, random_state=0).fit(pc).labels_\n",
    "adjusted_rand_score(Y1, Y3)"
   ]
  },
  {
   "cell_type": "markdown",
   "metadata": {
    "id": "LpgSorzuVxMe"
   },
   "source": [
    "### **Homework**\n",
    "    \n",
    "In K-means, we need to know the number of clusters in advance. Try using the DBSCAN algorithm instead, once again on both the original and the PCA-reduced dataset, and see if you get the same results.\n",
    "\n",
    "(Note: DBSCAN requires the eps parameter to be set, i.e. the maximum distance between two samples for them to be considered as in the same neighborhood)\n",
    "    "
   ]
  },
  {
   "cell_type": "markdown",
   "metadata": {
    "id": "7FM6KIX9VxMe"
   },
   "source": [
    "## Solution"
   ]
  },
  {
   "cell_type": "code",
   "execution_count": 48,
   "metadata": {
    "ExecuteTime": {
     "end_time": "2024-12-29T22:00:02.054636Z",
     "start_time": "2024-12-29T22:00:01.880953600Z"
    },
    "executionInfo": {
     "elapsed": 134,
     "status": "ok",
     "timestamp": 1738274849443,
     "user": {
      "displayName": "River R Robles",
      "userId": "03599211865117737934"
     },
     "user_tz": 480
    },
    "id": "1J8D4K3XVxMe"
   },
   "outputs": [],
   "source": [
    "from sklearn.cluster import DBSCAN"
   ]
  },
  {
   "cell_type": "markdown",
   "metadata": {
    "id": "TgPqKFroVxMe"
   },
   "source": [
    "### Original dataset"
   ]
  },
  {
   "cell_type": "code",
   "execution_count": 49,
   "metadata": {
    "ExecuteTime": {
     "end_time": "2024-12-29T22:00:02.592159400Z",
     "start_time": "2024-12-29T22:00:01.899036300Z"
    },
    "colab": {
     "base_uri": "https://localhost:8080/",
     "height": 467
    },
    "executionInfo": {
     "elapsed": 688,
     "status": "ok",
     "timestamp": 1738274850587,
     "user": {
      "displayName": "River R Robles",
      "userId": "03599211865117737934"
     },
     "user_tz": 480
    },
    "id": "4dgwdXvSVxMe",
    "outputId": "9c4b4a9b-2be9-4b50-c88b-05c0c6a1d6c6"
   },
   "outputs": [
    {
     "data": {
      "text/plain": [
       "Text(0, 0.5, 'n clusters found')"
      ]
     },
     "execution_count": 49,
     "metadata": {},
     "output_type": "execute_result"
    },
    {
     "data": {
      "image/png": "[encoded data removed]",
      "text/plain": [
       "<Figure size 640x480 with 1 Axes>"
      ]
     },
     "metadata": {},
     "output_type": "display_data"
    }
   ],
   "source": [
    "# Try various eps\n",
    "\n",
    "@np.vectorize\n",
    "def n_clusters_for_eps(eps):\n",
    "    clustering = DBSCAN(eps=eps).fit(X1)\n",
    "    return len(set(clustering.labels_))\n",
    "\n",
    "x = np.linspace(4, 20, 100)\n",
    "y = n_clusters_for_eps(x)\n",
    "plt.plot(x, y)\n",
    "plt.xlabel('DBSCAN eps')\n",
    "plt.ylabel('n clusters found')"
   ]
  },
  {
   "cell_type": "code",
   "execution_count": 50,
   "metadata": {
    "ExecuteTime": {
     "end_time": "2024-12-29T22:00:02.677500800Z",
     "start_time": "2024-12-29T22:00:02.592159400Z"
    },
    "colab": {
     "base_uri": "https://localhost:8080/"
    },
    "executionInfo": {
     "elapsed": 2,
     "status": "ok",
     "timestamp": 1738274850587,
     "user": {
      "displayName": "River R Robles",
      "userId": "03599211865117737934"
     },
     "user_tz": 480
    },
    "id": "lowlM7GGVxMe",
    "outputId": "5ab986f4-ddc5-4315-bac2-910608f2824a"
   },
   "outputs": [
    {
     "data": {
      "text/plain": [
       "{0, 1, 2, 3}"
      ]
     },
     "execution_count": 50,
     "metadata": {},
     "output_type": "execute_result"
    }
   ],
   "source": [
    "# pick eps = 10\n",
    "clustering = DBSCAN(eps=10).fit(X1)\n",
    "Y2 = clustering.labels_\n",
    "set(Y2)"
   ]
  },
  {
   "cell_type": "code",
   "execution_count": 51,
   "metadata": {
    "ExecuteTime": {
     "end_time": "2024-12-29T22:00:02.677500800Z",
     "start_time": "2024-12-29T22:00:02.628367200Z"
    },
    "colab": {
     "base_uri": "https://localhost:8080/"
    },
    "executionInfo": {
     "elapsed": 2,
     "status": "ok",
     "timestamp": 1738274850870,
     "user": {
      "displayName": "River R Robles",
      "userId": "03599211865117737934"
     },
     "user_tz": 480
    },
    "id": "VFE8DtcpVxMf",
    "outputId": "79d81bda-6889-4996-b1c2-48287014a845"
   },
   "outputs": [
    {
     "data": {
      "text/plain": [
       "1.0"
      ]
     },
     "execution_count": 51,
     "metadata": {},
     "output_type": "execute_result"
    }
   ],
   "source": [
    "# Compare with the true labels. Perfect agreement.\n",
    "adjusted_rand_score(Y1, Y2)"
   ]
  },
  {
   "cell_type": "code",
   "execution_count": 52,
   "metadata": {
    "ExecuteTime": {
     "end_time": "2024-12-29T22:00:03.810857200Z",
     "start_time": "2024-12-29T22:00:02.661135Z"
    },
    "colab": {
     "base_uri": "https://localhost:8080/",
     "height": 467
    },
    "executionInfo": {
     "elapsed": 666,
     "status": "ok",
     "timestamp": 1738274851850,
     "user": {
      "displayName": "River R Robles",
      "userId": "03599211865117737934"
     },
     "user_tz": 480
    },
    "id": "eaorK-44VxMf",
    "outputId": "cd529e5d-a933-4bd4-c1ef-0e7513248cc6"
   },
   "outputs": [
    {
     "data": {
      "text/plain": [
       "Text(0, 0.5, 'Adjusted Rand score')"
      ]
     },
     "execution_count": 52,
     "metadata": {},
     "output_type": "execute_result"
    },
    {
     "data": {
      "image/png": "[encoded data removed]",
      "text/plain": [
       "<Figure size 640x480 with 1 Axes>"
      ]
     },
     "metadata": {},
     "output_type": "display_data"
    }
   ],
   "source": [
    "# Find the eps that can reproduce the labels\n",
    "@np.vectorize\n",
    "def adjusted_rand_score_for_eps(eps):\n",
    "    clustering = DBSCAN(eps=eps).fit(X1)\n",
    "    Y2 = clustering.labels_\n",
    "    return adjusted_rand_score(Y1, Y2)\n",
    "\n",
    "y = adjusted_rand_score_for_eps(x)\n",
    "plt.plot(x, y)\n",
    "plt.xlabel('DBSCAN eps')\n",
    "plt.ylabel('Adjusted Rand score')"
   ]
  },
  {
   "cell_type": "markdown",
   "metadata": {
    "id": "k9sFS9E6VxMf"
   },
   "source": [
    "### PCA-reduced dataset"
   ]
  },
  {
   "cell_type": "code",
   "execution_count": 53,
   "metadata": {
    "ExecuteTime": {
     "end_time": "2024-12-29T22:00:03.925811500Z",
     "start_time": "2024-12-29T22:00:03.810857200Z"
    },
    "colab": {
     "base_uri": "https://localhost:8080/"
    },
    "executionInfo": {
     "elapsed": 131,
     "status": "ok",
     "timestamp": 1738274853803,
     "user": {
      "displayName": "River R Robles",
      "userId": "03599211865117737934"
     },
     "user_tz": 480
    },
    "id": "uhj2UuWBVxMf",
    "outputId": "f18ca341-fed6-4b46-8b49-16cb32ace04c"
   },
   "outputs": [
    {
     "data": {
      "text/plain": [
       "{0, 1, 2, 3}"
      ]
     },
     "execution_count": 53,
     "metadata": {},
     "output_type": "execute_result"
    }
   ],
   "source": [
    "pca_clustering = DBSCAN(eps=10).fit(pc)\n",
    "Y3 = pca_clustering.labels_\n",
    "set(Y3)"
   ]
  },
  {
   "cell_type": "code",
   "execution_count": 54,
   "metadata": {
    "ExecuteTime": {
     "end_time": "2024-12-29T22:00:03.957010400Z",
     "start_time": "2024-12-29T22:00:03.842153900Z"
    },
    "colab": {
     "base_uri": "https://localhost:8080/"
    },
    "executionInfo": {
     "elapsed": 2,
     "status": "ok",
     "timestamp": 1738274853926,
     "user": {
      "displayName": "River R Robles",
      "userId": "03599211865117737934"
     },
     "user_tz": 480
    },
    "id": "jbdLbVstVxMf",
    "outputId": "785425cc-c9e7-4b48-e76c-a4ace2269e16"
   },
   "outputs": [
    {
     "data": {
      "text/plain": [
       "1.0"
      ]
     },
     "execution_count": 54,
     "metadata": {},
     "output_type": "execute_result"
    }
   ],
   "source": [
    "# Compare with the true labels. Perfect agreement.\n",
    "adjusted_rand_score(Y1, Y3)"
   ]
  },
  {
   "cell_type": "code",
   "execution_count": null,
   "metadata": {
    "id": "SB4fSpQcWifY"
   },
   "outputs": [],
   "source": []
  }
 ],
 "metadata": {
  "colab": {
   "provenance": []
  },
  "kernelspec": {
   "display_name": "Python 3",
   "language": "python",
   "name": "python3"
  },
  "language_info": {
   "codemirror_mode": {
    "name": "ipython",
    "version": 3
   },
   "file_extension": ".py",
   "mimetype": "text/x-python",
   "name": "python",
   "nbconvert_exporter": "python",
   "pygments_lexer": "ipython3",
   "version": "3.9.2"
  }
 },
 "nbformat": 4,
 "nbformat_minor": 0
}
