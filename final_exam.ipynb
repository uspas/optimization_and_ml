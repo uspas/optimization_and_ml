{
 "cells": [
  {
   "cell_type": "markdown",
   "metadata": {
    "id": "zyOVflCqml-P"
   },
   "source": [
    "# Final exam\n",
    "\n",
    "**For this exam, feel free to re-use any code from the previous lab notebooks.**"
   ]
  },
  {
   "cell_type": "markdown",
   "metadata": {
    "id": "HnYKo5Nnml-R"
   },
   "source": [
    "#### Tasks\n",
    "- Use accelerator data to construct a neural network surrogate model, train that model, and demonstrate that it accurately models the data\n",
    "- Use Bayesian optimization to optimize the function and determine the best operational parameters"
   ]
  },
  {
   "cell_type": "markdown",
   "metadata": {
    "id": "-or-tjN2ml-S"
   },
   "source": [
    "## Setting up the environment"
   ]
  },
  {
   "cell_type": "code",
   "execution_count": 2,
   "metadata": {
    "ExecuteTime": {
     "end_time": "2025-01-03T17:02:44.060228900Z",
     "start_time": "2025-01-03T17:02:38.439965800Z"
    },
    "executionInfo": {
     "elapsed": 447,
     "status": "ok",
     "timestamp": 1738448638991,
     "user": {
      "displayName": "Ryan Roussel",
      "userId": "02503318963409515820"
     },
     "user_tz": 360
    },
    "id": "z03FozKVml-S"
   },
   "outputs": [],
   "source": [
    "%reset -f\n",
    "\n",
    "import numpy as np\n",
    "import matplotlib.pyplot as plt\n",
    "\n",
    "#add PyTorch and TorchVision (used for cropping etc.)\n",
    "import torch\n",
    "import torchvision\n",
    "\n",
    "import torch.nn as nn\n",
    "import torch.nn.functional as F\n",
    "import torch.optim as optim"
   ]
  },
  {
   "cell_type": "code",
   "execution_count": 3,
   "metadata": {
    "executionInfo": {
     "elapsed": 1,
     "status": "ok",
     "timestamp": 1738448638991,
     "user": {
      "displayName": "Ryan Roussel",
      "userId": "02503318963409515820"
     },
     "user_tz": 360
    },
    "id": "uVgFGnhSnKeo"
   },
   "outputs": [],
   "source": [
    "import torch\n",
    "import scipy.constants as cst\n",
    "\n",
    "def propagate(bunch_n_particles=1000, bunch_rms_z=1.e-3,\n",
    "        bunch_mean_E=100e6, bunch_rms_E=0.01e6,\n",
    "        linac_final_E=1000e6, linac_rf_frequency=1.3e9, linac_phase=0.,\n",
    "        arc_r56=0, arc_r566=0 ):\n",
    "        \"\"\"\n",
    "        Compute the propagation of an electron bunch through the linac + arc\n",
    "\n",
    "        Parameters:\n",
    "        -----------\n",
    "        bunch_n_particles: int\n",
    "            Number of particles in the bunch\n",
    "\n",
    "        bunch_rms_z: float (in meters)\n",
    "            The RMS size of the bunch along z (before entering the linac)\n",
    "\n",
    "        bunch_mean_E: float (in eV)\n",
    "            The mean energy of the bunch (before entering the linac)\n",
    "\n",
    "        bunch_rms_E: float (in eV)\n",
    "            The RMS energy spread of the bunch (before entering the linac)\n",
    "\n",
    "        linac_final_E: float (in eV)\n",
    "            The (mean) energy of the bunch at the end of the linac\n",
    "\n",
    "        linac_rf_frequency: float (in Hz)\n",
    "            The frequency of the RF cavity of the linac\n",
    "\n",
    "        linac_phase: float (in degrees)\n",
    "            The phase of the bunch in the linac\n",
    "\n",
    "        arc_r56, arc_r566: floats (in meter)\n",
    "            The coeficients of the energy-dependent delay induced by the arc:\n",
    "            z -> z + r56*delta + t566*delta**2\n",
    "\n",
    "        Returns\n",
    "        -------\n",
    "        rms_z : float (meters)\n",
    "            Longitudinal bunch length\n",
    "\n",
    "        rms_delta : float (None)\n",
    "            RMS bunch energy deviation from reference\n",
    "\n",
    "        \"\"\"\n",
    "        # Generate the bunch before the linac, with random Gaussian distribution\n",
    "        bunch_z = torch.randn(bunch_n_particles) * bunch_rms_z\n",
    "        bunch_delta = torch.randn(bunch_n_particles) * bunch_rms_E / bunch_mean_E\n",
    "\n",
    "        # Analytical change in relative energy spread (delta) after the bunch propagates in the linac\n",
    "        # $\\delta \\rightarrow \\delta \\frac{E_0}{E_1} + (1- \\frac{E_0}{E_1})\\frac{\\cos(kz +\\phi)}{\\cos(\\phi)}$\n",
    "        k = 2*cst.pi*linac_rf_frequency/cst.c\n",
    "        phi = linac_phase * 2*cst.pi/360. # Convert from degrees to radians\n",
    "        E0_over_E1 = bunch_mean_E/linac_final_E\n",
    "        bunch_delta = E0_over_E1 * bunch_delta.clone() + \\\n",
    "          (1. - E0_over_E1)*(torch.cos(k*bunch_z + phi)/torch.cos(phi) -1)\n",
    "\n",
    "        # Analytical change in position (z) after the bunch propagates in the arc\n",
    "        # z -> z + r56*delta + t566*delta**2\n",
    "        bunch_z = bunch_z + arc_r56*bunch_delta + \\\n",
    "                        arc_r566*bunch_delta**2\n",
    "\n",
    "        #add noise to the observations\n",
    "        bunch_delta += torch.randn(1)*1e-4\n",
    "        bunch_z += torch.randn(1)*1e-3\n",
    "\n",
    "        return torch.hstack((bunch_z.std(), bunch_delta.std())).reshape(1,-1)"
   ]
  },
  {
   "cell_type": "markdown",
   "metadata": {
    "id": "r46AoErGml-T"
   },
   "source": [
    "## Generate dataset\n",
    "\n",
    "The code below generates samples from \"simulations\" of a beam propagating through a linac followed by an arc:\n",
    "- The input to the simulator are the linac's phase, the arc's R56 coefficient, and the beam final (mean) energy.\n",
    "- The output of the simulator are the bunch length (in meters) and the bunch's RMS energy spread."
   ]
  },
  {
   "cell_type": "code",
   "execution_count": 4,
   "metadata": {
    "ExecuteTime": {
     "end_time": "2025-01-03T17:02:46.841050100Z",
     "start_time": "2025-01-03T17:02:44.064229700Z"
    },
    "colab": {
     "base_uri": "https://localhost:8080/"
    },
    "executionInfo": {
     "elapsed": 4602,
     "status": "ok",
     "timestamp": 1738448643592,
     "user": {
      "displayName": "Ryan Roussel",
      "userId": "02503318963409515820"
     },
     "user_tz": 360
    },
    "id": "Zn59DS0vml-T",
    "outputId": "5d5876d7-39b1-46ca-8b0e-68f7142abc81"
   },
   "outputs": [
    {
     "name": "stdout",
     "output_type": "stream",
     "text": [
      "Inputs:\n",
      "tensor([[-3.7434e-01,  2.6822e-01,  8.4424e+08],\n",
      "        [-3.6797e+01, -1.9258e-01,  1.1170e+09],\n",
      "        [-9.9066e-01,  3.9644e-01,  1.0278e+09],\n",
      "        ...,\n",
      "        [ 2.6369e+01, -4.5239e-01,  8.7906e+08],\n",
      "        [-1.9793e+01, -1.4001e-02,  1.1869e+09],\n",
      "        [-4.6165e+00, -1.8174e-01,  8.3491e+08]])\n",
      "Outputs:\n",
      "tensor([[0.0010, 0.0005],\n",
      "        [0.0026, 0.0189],\n",
      "        [0.0011, 0.0006],\n",
      "        ...,\n",
      "        [0.0063, 0.0118],\n",
      "        [0.0009, 0.0089],\n",
      "        [0.0006, 0.0021]])\n"
     ]
    }
   ],
   "source": [
    "#generate input samples\n",
    "n = 10000\n",
    "torch.manual_seed(0)\n",
    "inputs = torch.rand((n, 3))\n",
    "\n",
    "#phase +/- 50 deg\n",
    "inputs[:, 0] = inputs[:, 0] * 100.0 - 50.0\n",
    "\n",
    "#r56 +/- 0.5\n",
    "inputs[:,1] = inputs[:,1] - 0.5\n",
    "\n",
    "#final energy [800,1300]*1e6\n",
    "inputs[:,2] = (inputs[:,2] * 500.0 + 800.0) * 1e6\n",
    "\n",
    "print('Inputs:')\n",
    "print(inputs)\n",
    "\n",
    "outputs = []\n",
    "for i in range(n):\n",
    "    outputs += [propagate(linac_phase = inputs[i][0],\n",
    "                                        arc_r56 = inputs[i][1],\n",
    "                                        linac_final_E = inputs[i][2])]\n",
    "\n",
    "outputs = torch.vstack(outputs)\n",
    "\n",
    "print('Outputs:')\n",
    "print(outputs)"
   ]
  },
  {
   "cell_type": "markdown",
   "metadata": {
    "id": "k7cI40Slml-U"
   },
   "source": [
    "## Regression with a neural network"
   ]
  },
  {
   "cell_type": "markdown",
   "metadata": {
    "id": "MmW2tFJMml-U"
   },
   "source": [
    "**Task:**\n",
    "    Appropriately normalize the input data, and standardize the output data."
   ]
  },
  {
   "cell_type": "markdown",
   "metadata": {
    "id": "VGQ_ehJZml-U"
   },
   "source": [
    "**Task:**\n",
    "    Create and train a neural network to model this data, i.e. for each data point, the neural network should take the above 3 (normalized) input features and predict the above 2 (normalized) output features.\n",
    "    \n",
    "In order to show that the neural network works as expected and that the training roughly converged, plot the evolution of the loss function - both for the training dataset and test dataset - during training. (Use the first 7000 data points as the training set, and the remaining 3000 data points as the test set.)\n",
    "</div>"
   ]
  },
  {
   "cell_type": "markdown",
   "metadata": {
    "id": "FadjmPQqml-U"
   },
   "source": [
    "## Bayesian optimization"
   ]
  },
  {
   "cell_type": "markdown",
   "metadata": {
    "id": "CmlQGMDQml-V"
   },
   "source": [
    "**Task:**\n",
    "    Use Bayesian optimization to minimize the bunch length (i.e. the first of the 2 features that are returned by `propagate`) with respect to phase, r56, and final_energy (i.e. the 3 input features that we passed to `propagate` when previously generating the dataset for the neural network). DO NOT USE XOPT.\n",
    "    \n",
    "Use 3 randomly generated points in the input domain (shown in the comments above) as the initial dataset on which to fit the initial Gaussian Process (at the beginning of Bayesian optimization). Then, at each iteration of Bayesian optimization, call the `propagate` function on the new candidate point.\n",
    "    \n",
    "Run 6 steps of Bayesian optimization and print the values of the bunch length obtained at each iteration. What is the best value obtained so far?"
   ]
  },
  {
   "cell_type": "code",
   "execution_count": 4,
   "metadata": {
    "ExecuteTime": {
     "end_time": "2025-01-03T17:02:46.860053200Z",
     "start_time": "2025-01-03T17:02:46.843051900Z"
    },
    "executionInfo": {
     "elapsed": 6,
     "status": "ok",
     "timestamp": 1738448643593,
     "user": {
      "displayName": "Ryan Roussel",
      "userId": "02503318963409515820"
     },
     "user_tz": 360
    },
    "id": "yv_njLdhml-V"
   },
   "outputs": [],
   "source": []
  }
 ],
 "metadata": {
  "colab": {
   "provenance": []
  },
  "kernelspec": {
   "display_name": "Python 3 (ipykernel)",
   "language": "python",
   "name": "python3"
  },
  "language_info": {
   "codemirror_mode": {
    "name": "ipython",
    "version": 3
   },
   "file_extension": ".py",
   "mimetype": "text/x-python",
   "name": "python",
   "nbconvert_exporter": "python",
   "pygments_lexer": "ipython3",
   "version": "3.7.2"
  }
 },
 "nbformat": 4,
 "nbformat_minor": 0
}
